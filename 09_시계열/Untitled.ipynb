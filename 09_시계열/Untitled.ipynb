{
 "cells": [
  {
   "cell_type": "code",
   "execution_count": null,
   "id": "4954dce0-c010-4c2c-b50c-0f119b2a4023",
   "metadata": {},
   "outputs": [],
   "source": [
    "import pandas as pd\n",
    "import "
   ]
  },
  {
   "cell_type": "code",
   "execution_count": 1,
   "id": "65137ca3-79db-4761-bc1b-1d35bcc92c77",
   "metadata": {},
   "outputs": [],
   "source": [
    "def get_rmse(model):\n",
    "    from sklearn.metrics import mean_squared_error\n",
    "    pred = model.predict(X_test)\n",
    "    mse = mean_squared_error(y_test, pred)\n",
    "    rmse = np.sqrt(mse)\n",
    "    print(model.__class__.__name__, '로그 변환된 RMSE: ', rmse)\n",
    "    return rmse\n",
    "def get_rmses(models):\n",
    "    rmses = []\n",
    "    for model in models:\n",
    "        rmse = get_rmse(model)\n",
    "        rmses.append(rmse)\n",
    "    return rmses"
   ]
  },
  {
   "cell_type": "code",
   "execution_count": 2,
   "id": "526485f7-6139-40c8-b7df-568cd59bff61",
   "metadata": {},
   "outputs": [],
   "source": [
    "from sklearn.linear_model import LinearRegression, Ridge, Lasso\n",
    "from sklearn.model_selection import train_test_split"
   ]
  },
  {
   "cell_type": "code",
   "execution_count": 3,
   "id": "b3d20311-9c3a-4816-8d9f-0c06be3da7f8",
   "metadata": {
    "tags": []
   },
   "outputs": [
    {
     "ename": "NameError",
     "evalue": "name 'house_df_ohe' is not defined",
     "output_type": "error",
     "traceback": [
      "\u001b[1;31m---------------------------------------------------------------------------\u001b[0m",
      "\u001b[1;31mNameError\u001b[0m                                 Traceback (most recent call last)",
      "\u001b[1;32m~\\AppData\\Local\\Temp\\ipykernel_5020\\1962976381.py\u001b[0m in \u001b[0;36m<module>\u001b[1;34m\u001b[0m\n\u001b[1;32m----> 1\u001b[1;33m \u001b[0my\u001b[0m \u001b[1;33m=\u001b[0m \u001b[0mhouse_df_ohe\u001b[0m\u001b[1;33m[\u001b[0m\u001b[1;34m'SalePrice'\u001b[0m\u001b[1;33m]\u001b[0m\u001b[1;33m\u001b[0m\u001b[1;33m\u001b[0m\u001b[0m\n\u001b[0m\u001b[0;32m      2\u001b[0m \u001b[0mX\u001b[0m \u001b[1;33m=\u001b[0m \u001b[0mhouse_df_ohe\u001b[0m\u001b[1;33m.\u001b[0m\u001b[0mdrop\u001b[0m\u001b[1;33m(\u001b[0m\u001b[0mcolumns\u001b[0m\u001b[1;33m=\u001b[0m\u001b[1;33m[\u001b[0m\u001b[1;34m'SalePrice'\u001b[0m\u001b[1;33m]\u001b[0m\u001b[1;33m)\u001b[0m\u001b[1;33m\u001b[0m\u001b[1;33m\u001b[0m\u001b[0m\n\u001b[0;32m      3\u001b[0m X_train, X_test, y_train, y_test = train_test_split(X,\n\u001b[0;32m      4\u001b[0m                                                     \u001b[0my\u001b[0m\u001b[1;33m,\u001b[0m\u001b[1;33m\u001b[0m\u001b[1;33m\u001b[0m\u001b[0m\n\u001b[0;32m      5\u001b[0m                                                     \u001b[0mtest_size\u001b[0m\u001b[1;33m=\u001b[0m\u001b[1;36m0.2\u001b[0m\u001b[1;33m,\u001b[0m\u001b[1;33m\u001b[0m\u001b[1;33m\u001b[0m\u001b[0m\n",
      "\u001b[1;31mNameError\u001b[0m: name 'house_df_ohe' is not defined"
     ]
    }
   ],
   "source": [
    "y = house_df_ohe['SalePrice']\n",
    "X = house_df_ohe.drop(columns=['SalePrice'])\n",
    "X_train, X_test, y_train, y_test = train_test_split(X,\n",
    "                                                    y,\n",
    "                                                    test_size=0.2,\n",
    "                                                    random_state=156)\n",
    "lr_reg = LinearRegression()\n",
    "lr_reg.fit(X_train,y_train)\n",
    "ridge_reg = Ridge()\n",
    "ridge_reg.fit(X_train,y_train)\n",
    "lasso_reg = Lasso()\n",
    "lasso_reg.fit(X_train,y_train)\n",
    "\n",
    "models = [lr_reg,ridge_reg,lasso_reg]\n",
    "get_rmses(models)"
   ]
  },
  {
   "cell_type": "code",
   "execution_count": 4,
   "id": "2d3f01bc-05fd-47af-8a17-f9945d9d4360",
   "metadata": {},
   "outputs": [],
   "source": [
    "def get_top_bottom_coef(model, n=10):\n",
    "    coef = pd.Series(model.coef_,index=X.columns)\n",
    "    \n",
    "    coef_high = coef.sort_values(ascending=False).head(n)\n",
    "    coef_low = coef.sort_values(ascending=False).tail(n)\n",
    "    return coef_high, coef_low"
   ]
  },
  {
   "cell_type": "code",
   "execution_count": 5,
   "id": "e9bdf427-a872-4772-9bb3-146d3b053008",
   "metadata": {},
   "outputs": [],
   "source": [
    "def visualize_coefficient(models):\n",
    "    fig, axs = plt.subplots(figsize=(24,10),ncols=3,nrows=1)\n",
    "    fig.tight_layout()\n",
    "    \n",
    "    for i_num, model in enumerate(models):\n",
    "        coef_high, coef_low = get_top_bottom_coef(model)\n",
    "        coef_concat = pd.concat([coef_high, coef_low])\n",
    "        \n",
    "        axs[i_num].set_title(model.__class__.__name__,size=25)\n",
    "        axs[i_num].tick_params(axis='y',direction='in',pad=-120)\n",
    "        \n",
    "        for label in (axs[i_num].get_xticklabels()+axs[i_num].get_yticklabels()):\n",
    "            label.set_fontsize(22)\n",
    "        sns.barplot(x=coef_concat.values,y=coef_concat.index, ax = axs[i_num])"
   ]
  },
  {
   "cell_type": "code",
   "execution_count": 6,
   "id": "fc1fb3f6-988d-4bb7-a8ff-468b841daff2",
   "metadata": {},
   "outputs": [
    {
     "ename": "NameError",
     "evalue": "name 'plt' is not defined",
     "output_type": "error",
     "traceback": [
      "\u001b[1;31m---------------------------------------------------------------------------\u001b[0m",
      "\u001b[1;31mNameError\u001b[0m                                 Traceback (most recent call last)",
      "\u001b[1;32m~\\AppData\\Local\\Temp\\ipykernel_5020\\1209754808.py\u001b[0m in \u001b[0;36m<module>\u001b[1;34m\u001b[0m\n\u001b[1;32m----> 1\u001b[1;33m \u001b[0mplt\u001b[0m\u001b[1;33m.\u001b[0m\u001b[0mrcParams\u001b[0m\u001b[1;33m[\u001b[0m\u001b[1;34m'axes.unicode_minus'\u001b[0m\u001b[1;33m]\u001b[0m \u001b[1;33m=\u001b[0m \u001b[1;32mFalse\u001b[0m\u001b[1;33m\u001b[0m\u001b[1;33m\u001b[0m\u001b[0m\n\u001b[0m\u001b[0;32m      2\u001b[0m \u001b[1;33m\u001b[0m\u001b[0m\n\u001b[0;32m      3\u001b[0m \u001b[0mmodels\u001b[0m \u001b[1;33m=\u001b[0m \u001b[1;33m[\u001b[0m\u001b[0mlr_reg\u001b[0m\u001b[1;33m,\u001b[0m \u001b[0mridge_reg\u001b[0m\u001b[1;33m,\u001b[0m \u001b[0mlasso_reg\u001b[0m\u001b[1;33m]\u001b[0m\u001b[1;33m\u001b[0m\u001b[1;33m\u001b[0m\u001b[0m\n\u001b[0;32m      4\u001b[0m \u001b[0mvisualize_coefficient\u001b[0m\u001b[1;33m(\u001b[0m\u001b[0mmodels\u001b[0m\u001b[1;33m)\u001b[0m\u001b[1;33m\u001b[0m\u001b[1;33m\u001b[0m\u001b[0m\n",
      "\u001b[1;31mNameError\u001b[0m: name 'plt' is not defined"
     ]
    }
   ],
   "source": [
    "plt.rcParams['axes.unicode_minus'] = False\n",
    "\n",
    "models = [lr_reg, ridge_reg, lasso_reg]\n",
    "visualize_coefficient(models)"
   ]
  },
  {
   "cell_type": "code",
   "execution_count": null,
   "id": "b8175360-2694-4cc1-9461-f629cbb93a95",
   "metadata": {},
   "outputs": [],
   "source": []
  }
 ],
 "metadata": {
  "kernelspec": {
   "display_name": "Python 3 (ipykernel)",
   "language": "python",
   "name": "python3"
  },
  "language_info": {
   "codemirror_mode": {
    "name": "ipython",
    "version": 3
   },
   "file_extension": ".py",
   "mimetype": "text/x-python",
   "name": "python",
   "nbconvert_exporter": "python",
   "pygments_lexer": "ipython3",
   "version": "3.9.13"
  }
 },
 "nbformat": 4,
 "nbformat_minor": 5
}
