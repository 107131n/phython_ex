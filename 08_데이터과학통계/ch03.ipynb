{
 "cells": [
  {
   "cell_type": "code",
   "execution_count": 1,
   "id": "5bca0611-9804-4e0c-9a60-15fe8819d7b9",
   "metadata": {},
   "outputs": [],
   "source": [
    "import numpy as np\n",
    "import pandas as pd"
   ]
  },
  {
   "cell_type": "code",
   "execution_count": 3,
   "id": "4aa50130-8612-4579-ba64-99fe5639cbec",
   "metadata": {},
   "outputs": [],
   "source": [
    "df = pd.read_csv('data/ch2_scores_em.csv',\n",
    "            index_col = 'student number')"
   ]
  },
  {
   "cell_type": "code",
   "execution_count": 6,
   "id": "52e6450f-f54f-4f18-8258-87a0b6a13687",
   "metadata": {},
   "outputs": [],
   "source": [
    "en_scores = df['english'].values[:10]\n",
    "ma_scores = df['mathematics'].values[:10]"
   ]
  },
  {
   "cell_type": "code",
   "execution_count": 8,
   "id": "4bf495cc-9dff-409b-bb1e-024a045ad240",
   "metadata": {},
   "outputs": [],
   "source": [
    "scores_df = pd.DataFrame({'english':en_scores,\n",
    "                         'mathematics':ma_scores},\n",
    "                        index=pd.Index(['A','B','C','D','E','F','G','H','I','J'],\n",
    "                        name = 'student'))"
   ]
  },
  {
   "cell_type": "code",
   "execution_count": 9,
   "id": "4bfd2941-4e8f-4e80-94cc-fbf6e825419f",
   "metadata": {},
   "outputs": [
    {
     "data": {
      "text/html": [
       "<div>\n",
       "<style scoped>\n",
       "    .dataframe tbody tr th:only-of-type {\n",
       "        vertical-align: middle;\n",
       "    }\n",
       "\n",
       "    .dataframe tbody tr th {\n",
       "        vertical-align: top;\n",
       "    }\n",
       "\n",
       "    .dataframe thead th {\n",
       "        text-align: right;\n",
       "    }\n",
       "</style>\n",
       "<table border=\"1\" class=\"dataframe\">\n",
       "  <thead>\n",
       "    <tr style=\"text-align: right;\">\n",
       "      <th></th>\n",
       "      <th>english</th>\n",
       "      <th>mathematics</th>\n",
       "    </tr>\n",
       "    <tr>\n",
       "      <th>student</th>\n",
       "      <th></th>\n",
       "      <th></th>\n",
       "    </tr>\n",
       "  </thead>\n",
       "  <tbody>\n",
       "    <tr>\n",
       "      <th>A</th>\n",
       "      <td>42</td>\n",
       "      <td>65</td>\n",
       "    </tr>\n",
       "    <tr>\n",
       "      <th>B</th>\n",
       "      <td>69</td>\n",
       "      <td>80</td>\n",
       "    </tr>\n",
       "    <tr>\n",
       "      <th>C</th>\n",
       "      <td>56</td>\n",
       "      <td>63</td>\n",
       "    </tr>\n",
       "    <tr>\n",
       "      <th>D</th>\n",
       "      <td>41</td>\n",
       "      <td>63</td>\n",
       "    </tr>\n",
       "    <tr>\n",
       "      <th>E</th>\n",
       "      <td>57</td>\n",
       "      <td>76</td>\n",
       "    </tr>\n",
       "    <tr>\n",
       "      <th>F</th>\n",
       "      <td>48</td>\n",
       "      <td>60</td>\n",
       "    </tr>\n",
       "    <tr>\n",
       "      <th>G</th>\n",
       "      <td>65</td>\n",
       "      <td>81</td>\n",
       "    </tr>\n",
       "    <tr>\n",
       "      <th>H</th>\n",
       "      <td>49</td>\n",
       "      <td>66</td>\n",
       "    </tr>\n",
       "    <tr>\n",
       "      <th>I</th>\n",
       "      <td>65</td>\n",
       "      <td>78</td>\n",
       "    </tr>\n",
       "    <tr>\n",
       "      <th>J</th>\n",
       "      <td>58</td>\n",
       "      <td>82</td>\n",
       "    </tr>\n",
       "  </tbody>\n",
       "</table>\n",
       "</div>"
      ],
      "text/plain": [
       "         english  mathematics\n",
       "student                      \n",
       "A             42           65\n",
       "B             69           80\n",
       "C             56           63\n",
       "D             41           63\n",
       "E             57           76\n",
       "F             48           60\n",
       "G             65           81\n",
       "H             49           66\n",
       "I             65           78\n",
       "J             58           82"
      ]
     },
     "execution_count": 9,
     "metadata": {},
     "output_type": "execute_result"
    }
   ],
   "source": [
    "scores_df"
   ]
  },
  {
   "cell_type": "code",
   "execution_count": 10,
   "id": "afccdfa9-dde9-4330-a443-4bd867db65f7",
   "metadata": {},
   "outputs": [],
   "source": [
    "# 공분산 - 두 변수 사이 관계성을 나타냄, 값이 제각각일 수 있음 -> 표준화하기, 직사각형(-: 음의 상관관계 ,0: 서로 무연관,+: 양의 상관관계)"
   ]
  },
  {
   "cell_type": "code",
   "execution_count": 11,
   "id": "9dd09efa-40c3-440d-b8b8-5c6e64c16936",
   "metadata": {},
   "outputs": [],
   "source": [
    "summary_df = scores_df.copy()\n",
    "summary_df['english_deviation'] = summary_df['english'] - summary_df['english'].mean()\n",
    "summary_df['mathematics_deviation'] = summary_df['mathematics'] - summary_df['mathematics'].mean()\n",
    "summary_df['product of deviations'] =  summary_df['english_deviation']*summary_df['mathematics_deviation']"
   ]
  },
  {
   "cell_type": "code",
   "execution_count": 12,
   "id": "113146ea-4e2e-4f68-9cd1-edc836291648",
   "metadata": {},
   "outputs": [
    {
     "data": {
      "text/html": [
       "<div>\n",
       "<style scoped>\n",
       "    .dataframe tbody tr th:only-of-type {\n",
       "        vertical-align: middle;\n",
       "    }\n",
       "\n",
       "    .dataframe tbody tr th {\n",
       "        vertical-align: top;\n",
       "    }\n",
       "\n",
       "    .dataframe thead th {\n",
       "        text-align: right;\n",
       "    }\n",
       "</style>\n",
       "<table border=\"1\" class=\"dataframe\">\n",
       "  <thead>\n",
       "    <tr style=\"text-align: right;\">\n",
       "      <th></th>\n",
       "      <th>english</th>\n",
       "      <th>mathematics</th>\n",
       "      <th>english_deviation</th>\n",
       "      <th>mathematics_deviation</th>\n",
       "      <th>product of deviations</th>\n",
       "    </tr>\n",
       "    <tr>\n",
       "      <th>student</th>\n",
       "      <th></th>\n",
       "      <th></th>\n",
       "      <th></th>\n",
       "      <th></th>\n",
       "      <th></th>\n",
       "    </tr>\n",
       "  </thead>\n",
       "  <tbody>\n",
       "    <tr>\n",
       "      <th>A</th>\n",
       "      <td>42</td>\n",
       "      <td>65</td>\n",
       "      <td>-13.0</td>\n",
       "      <td>-6.4</td>\n",
       "      <td>83.2</td>\n",
       "    </tr>\n",
       "    <tr>\n",
       "      <th>B</th>\n",
       "      <td>69</td>\n",
       "      <td>80</td>\n",
       "      <td>14.0</td>\n",
       "      <td>8.6</td>\n",
       "      <td>120.4</td>\n",
       "    </tr>\n",
       "    <tr>\n",
       "      <th>C</th>\n",
       "      <td>56</td>\n",
       "      <td>63</td>\n",
       "      <td>1.0</td>\n",
       "      <td>-8.4</td>\n",
       "      <td>-8.4</td>\n",
       "    </tr>\n",
       "    <tr>\n",
       "      <th>D</th>\n",
       "      <td>41</td>\n",
       "      <td>63</td>\n",
       "      <td>-14.0</td>\n",
       "      <td>-8.4</td>\n",
       "      <td>117.6</td>\n",
       "    </tr>\n",
       "    <tr>\n",
       "      <th>E</th>\n",
       "      <td>57</td>\n",
       "      <td>76</td>\n",
       "      <td>2.0</td>\n",
       "      <td>4.6</td>\n",
       "      <td>9.2</td>\n",
       "    </tr>\n",
       "    <tr>\n",
       "      <th>F</th>\n",
       "      <td>48</td>\n",
       "      <td>60</td>\n",
       "      <td>-7.0</td>\n",
       "      <td>-11.4</td>\n",
       "      <td>79.8</td>\n",
       "    </tr>\n",
       "    <tr>\n",
       "      <th>G</th>\n",
       "      <td>65</td>\n",
       "      <td>81</td>\n",
       "      <td>10.0</td>\n",
       "      <td>9.6</td>\n",
       "      <td>96.0</td>\n",
       "    </tr>\n",
       "    <tr>\n",
       "      <th>H</th>\n",
       "      <td>49</td>\n",
       "      <td>66</td>\n",
       "      <td>-6.0</td>\n",
       "      <td>-5.4</td>\n",
       "      <td>32.4</td>\n",
       "    </tr>\n",
       "    <tr>\n",
       "      <th>I</th>\n",
       "      <td>65</td>\n",
       "      <td>78</td>\n",
       "      <td>10.0</td>\n",
       "      <td>6.6</td>\n",
       "      <td>66.0</td>\n",
       "    </tr>\n",
       "    <tr>\n",
       "      <th>J</th>\n",
       "      <td>58</td>\n",
       "      <td>82</td>\n",
       "      <td>3.0</td>\n",
       "      <td>10.6</td>\n",
       "      <td>31.8</td>\n",
       "    </tr>\n",
       "  </tbody>\n",
       "</table>\n",
       "</div>"
      ],
      "text/plain": [
       "         english  mathematics  english_deviation  mathematics_deviation  \\\n",
       "student                                                                   \n",
       "A             42           65              -13.0                   -6.4   \n",
       "B             69           80               14.0                    8.6   \n",
       "C             56           63                1.0                   -8.4   \n",
       "D             41           63              -14.0                   -8.4   \n",
       "E             57           76                2.0                    4.6   \n",
       "F             48           60               -7.0                  -11.4   \n",
       "G             65           81               10.0                    9.6   \n",
       "H             49           66               -6.0                   -5.4   \n",
       "I             65           78               10.0                    6.6   \n",
       "J             58           82                3.0                   10.6   \n",
       "\n",
       "         product of deviations  \n",
       "student                         \n",
       "A                         83.2  \n",
       "B                        120.4  \n",
       "C                         -8.4  \n",
       "D                        117.6  \n",
       "E                          9.2  \n",
       "F                         79.8  \n",
       "G                         96.0  \n",
       "H                         32.4  \n",
       "I                         66.0  \n",
       "J                         31.8  "
      ]
     },
     "execution_count": 12,
     "metadata": {},
     "output_type": "execute_result"
    }
   ],
   "source": [
    "summary_df"
   ]
  },
  {
   "cell_type": "code",
   "execution_count": 14,
   "id": "73a6c2b2-1fb5-4577-a0ad-427e851e388a",
   "metadata": {},
   "outputs": [
    {
     "data": {
      "text/plain": [
       "62.8"
      ]
     },
     "execution_count": 14,
     "metadata": {},
     "output_type": "execute_result"
    }
   ],
   "source": [
    "summary_df['product of deviations'].mean() # 공분산: 양의 상관관계"
   ]
  },
  {
   "cell_type": "code",
   "execution_count": 20,
   "id": "97de6aac-e69e-4cf0-b9b0-9d739c83e857",
   "metadata": {},
   "outputs": [],
   "source": [
    "cov_mat = np.cov(en_scores,ma_scores,ddof = 0) # 공분산"
   ]
  },
  {
   "cell_type": "code",
   "execution_count": 21,
   "id": "60ee2aaf-fbcf-4894-a2d0-ed73fda087fa",
   "metadata": {},
   "outputs": [
    {
     "data": {
      "text/plain": [
       "62.800000000000004"
      ]
     },
     "execution_count": 21,
     "metadata": {},
     "output_type": "execute_result"
    }
   ],
   "source": [
    "cov_mat[0,1]"
   ]
  },
  {
   "cell_type": "code",
   "execution_count": 22,
   "id": "746acee7-6cc2-4314-9619-c82651544f00",
   "metadata": {},
   "outputs": [],
   "source": [
    "# 영어의 분산"
   ]
  },
  {
   "cell_type": "code",
   "execution_count": 23,
   "id": "02364554-6fc2-4a5b-bf1e-927df34a1e71",
   "metadata": {},
   "outputs": [
    {
     "data": {
      "text/plain": [
       "86.0"
      ]
     },
     "execution_count": 23,
     "metadata": {},
     "output_type": "execute_result"
    }
   ],
   "source": [
    "cov_mat[0,0]"
   ]
  },
  {
   "cell_type": "code",
   "execution_count": 24,
   "id": "10fa396b-0b8a-4ff2-bab4-165855a5e494",
   "metadata": {},
   "outputs": [
    {
     "data": {
      "text/plain": [
       "86.0"
      ]
     },
     "execution_count": 24,
     "metadata": {},
     "output_type": "execute_result"
    }
   ],
   "source": [
    "np.var(en_scores)"
   ]
  },
  {
   "cell_type": "code",
   "execution_count": 25,
   "id": "a457ba73-5582-4a0d-a428-b3a4c5d9f0f5",
   "metadata": {},
   "outputs": [],
   "source": [
    "#수학의 분산"
   ]
  },
  {
   "cell_type": "code",
   "execution_count": 26,
   "id": "0c7070ee-6b78-454d-a11b-4cb9b92280c4",
   "metadata": {},
   "outputs": [
    {
     "data": {
      "text/plain": [
       "68.44000000000001"
      ]
     },
     "execution_count": 26,
     "metadata": {},
     "output_type": "execute_result"
    }
   ],
   "source": [
    "cov_mat[1,1]"
   ]
  },
  {
   "cell_type": "code",
   "execution_count": 27,
   "id": "53928344-3f2c-4bb2-8ec2-52c03b6c3e33",
   "metadata": {},
   "outputs": [
    {
     "data": {
      "text/plain": [
       "68.44000000000001"
      ]
     },
     "execution_count": 27,
     "metadata": {},
     "output_type": "execute_result"
    }
   ],
   "source": [
    "np.var(ma_scores)"
   ]
  },
  {
   "cell_type": "code",
   "execution_count": 28,
   "id": "e60e6c05-ac69-4af3-99ef-4c7ee7d14a04",
   "metadata": {},
   "outputs": [],
   "source": [
    "# 상관계수: 공분산의 단위는 직감적으로 이해하기 어려우므로, 단위에 의존하지 않는 상관을 나타내는 지표,-1~0~1, 0.8이상정도 되어야 상관관계가 뚜렷하게 보임"
   ]
  },
  {
   "cell_type": "code",
   "execution_count": 30,
   "id": "22ac18fe-e501-4067-9003-def57adad838",
   "metadata": {},
   "outputs": [
    {
     "data": {
      "text/plain": [
       "0.8185692341186713"
      ]
     },
     "execution_count": 30,
     "metadata": {},
     "output_type": "execute_result"
    }
   ],
   "source": [
    "np.cov(en_scores,ma_scores,ddof=0)[0,1]/(np.std(en_scores)*np.std(ma_scores)) # -1 ~ 1 사이의 값"
   ]
  },
  {
   "cell_type": "code",
   "execution_count": 33,
   "id": "624c3202-a5e0-4e2d-bafe-d2617a4a2689",
   "metadata": {},
   "outputs": [
    {
     "data": {
      "text/plain": [
       "array([[1.        , 0.81856923],\n",
       "       [0.81856923, 1.        ]])"
      ]
     },
     "execution_count": 33,
     "metadata": {},
     "output_type": "execute_result"
    }
   ],
   "source": [
    "np.corrcoef(en_scores,ma_scores) # 상관계수 구하기"
   ]
  },
  {
   "cell_type": "code",
   "execution_count": 36,
   "id": "5f0964ad-799f-4581-8e48-457f6a2556b2",
   "metadata": {},
   "outputs": [
    {
     "data": {
      "text/html": [
       "<div>\n",
       "<style scoped>\n",
       "    .dataframe tbody tr th:only-of-type {\n",
       "        vertical-align: middle;\n",
       "    }\n",
       "\n",
       "    .dataframe tbody tr th {\n",
       "        vertical-align: top;\n",
       "    }\n",
       "\n",
       "    .dataframe thead th {\n",
       "        text-align: right;\n",
       "    }\n",
       "</style>\n",
       "<table border=\"1\" class=\"dataframe\">\n",
       "  <thead>\n",
       "    <tr style=\"text-align: right;\">\n",
       "      <th></th>\n",
       "      <th>english</th>\n",
       "      <th>mathematics</th>\n",
       "    </tr>\n",
       "  </thead>\n",
       "  <tbody>\n",
       "    <tr>\n",
       "      <th>english</th>\n",
       "      <td>1.000000</td>\n",
       "      <td>0.818569</td>\n",
       "    </tr>\n",
       "    <tr>\n",
       "      <th>mathematics</th>\n",
       "      <td>0.818569</td>\n",
       "      <td>1.000000</td>\n",
       "    </tr>\n",
       "  </tbody>\n",
       "</table>\n",
       "</div>"
      ],
      "text/plain": [
       "              english  mathematics\n",
       "english      1.000000     0.818569\n",
       "mathematics  0.818569     1.000000"
      ]
     },
     "execution_count": 36,
     "metadata": {},
     "output_type": "execute_result"
    }
   ],
   "source": [
    "scores_df.corr() # 상관계수 구하기"
   ]
  },
  {
   "cell_type": "code",
   "execution_count": 37,
   "id": "07294f54-f9af-4cc0-b10c-4c35157ff41d",
   "metadata": {},
   "outputs": [],
   "source": [
    "# 산점도"
   ]
  },
  {
   "cell_type": "code",
   "execution_count": 38,
   "id": "b23d57d1-25fe-4407-b0ee-77ac85516e03",
   "metadata": {},
   "outputs": [],
   "source": [
    "import matplotlib.pyplot as plt"
   ]
  },
  {
   "cell_type": "code",
   "execution_count": 42,
   "id": "66499457-444a-4ef0-b6bd-117fb3727aca",
   "metadata": {},
   "outputs": [
    {
     "data": {
      "image/png": "[encoded data removed]",
      "text/plain": [
       "<Figure size 800x800 with 1 Axes>"
      ]
     },
     "metadata": {},
     "output_type": "display_data"
    }
   ],
   "source": [
    "fig = plt.figure(figsize=(8,8))\n",
    "ax = fig.add_subplot(111)\n",
    "ax.scatter(df['english'],df['mathematics'])\n",
    "ax.set_xlabel('영어',size=13)\n",
    "ax.set_ylabel('수학',size=13)\n",
    "plt.show()"
   ]
  },
  {
   "cell_type": "code",
   "execution_count": 43,
   "id": "568cdb81-fa25-4770-afe3-010e2778630c",
   "metadata": {},
   "outputs": [],
   "source": [
    "# 회귀직선: ★y = β0 + β1x★, 두 데이터 사이의 관계를 보는 선, 입력값들이 독립적이어야 함(관계 없어야 함)"
   ]
  },
  {
   "cell_type": "code",
   "execution_count": 44,
   "id": "d8c126bd-6c91-43b4-bdae-e3991bd52d54",
   "metadata": {},
   "outputs": [
    {
     "data": {
      "text/plain": [
       "array([ 0.73023256, 31.2372093 ])"
      ]
     },
     "execution_count": 44,
     "metadata": {},
     "output_type": "execute_result"
    }
   ],
   "source": [
    "poly_fit = np.polyfit(en_scores,ma_scores,1) #1차 방정식\n",
    "poly_fit"
   ]
  },
  {
   "cell_type": "code",
   "execution_count": 45,
   "id": "13b6de36-18c0-4f03-b130-72bd857c3ebd",
   "metadata": {},
   "outputs": [],
   "source": [
    "poly_1d = np.poly1d(poly_fit)"
   ]
  },
  {
   "cell_type": "code",
   "execution_count": 46,
   "id": "e610ab24-a052-482d-b891-1eb2da8590d2",
   "metadata": {},
   "outputs": [
    {
     "data": {
      "text/plain": [
       "poly1d([ 0.73023256, 31.2372093 ])"
      ]
     },
     "execution_count": 46,
     "metadata": {},
     "output_type": "execute_result"
    }
   ],
   "source": [
    "poly_1d"
   ]
  },
  {
   "cell_type": "code",
   "execution_count": 61,
   "id": "c31ee239-9986-42c7-baa2-482c884c2ac4",
   "metadata": {},
   "outputs": [],
   "source": [
    "xs = np.linspace(en_scores.min(),ma_scores.max())"
   ]
  },
  {
   "cell_type": "code",
   "execution_count": 62,
   "id": "1374d090-f3d7-4a96-99b4-e68721ab67d7",
   "metadata": {},
   "outputs": [
    {
     "data": {
      "text/plain": [
       "array([41.        , 41.83673469, 42.67346939, 43.51020408, 44.34693878,\n",
       "       45.18367347, 46.02040816, 46.85714286, 47.69387755, 48.53061224,\n",
       "       49.36734694, 50.20408163, 51.04081633, 51.87755102, 52.71428571,\n",
       "       53.55102041, 54.3877551 , 55.2244898 , 56.06122449, 56.89795918,\n",
       "       57.73469388, 58.57142857, 59.40816327, 60.24489796, 61.08163265,\n",
       "       61.91836735, 62.75510204, 63.59183673, 64.42857143, 65.26530612,\n",
       "       66.10204082, 66.93877551, 67.7755102 , 68.6122449 , 69.44897959,\n",
       "       70.28571429, 71.12244898, 71.95918367, 72.79591837, 73.63265306,\n",
       "       74.46938776, 75.30612245, 76.14285714, 76.97959184, 77.81632653,\n",
       "       78.65306122, 79.48979592, 80.32653061, 81.16326531, 82.        ])"
      ]
     },
     "execution_count": 62,
     "metadata": {},
     "output_type": "execute_result"
    }
   ],
   "source": [
    "xs"
   ]
  },
  {
   "cell_type": "code",
   "execution_count": 63,
   "id": "0e4c6eda-3889-4637-b0e4-5a3853c48264",
   "metadata": {},
   "outputs": [],
   "source": [
    "ys = poly_1d(xs)"
   ]
  },
  {
   "cell_type": "code",
   "execution_count": 64,
   "id": "9d55d4e3-cbf2-4d37-aece-e4da280c2d8d",
   "metadata": {},
   "outputs": [
    {
     "data": {
      "text/plain": [
       "array([61.17674419, 61.7877551 , 62.39876602, 63.00977693, 63.62078785,\n",
       "       64.23179877, 64.84280968, 65.4538206 , 66.06483151, 66.67584243,\n",
       "       67.28685335, 67.89786426, 68.50887518, 69.11988609, 69.73089701,\n",
       "       70.34190793, 70.95291884, 71.56392976, 72.17494067, 72.78595159,\n",
       "       73.39696251, 74.00797342, 74.61898434, 75.22999525, 75.84100617,\n",
       "       76.45201709, 77.063028  , 77.67403892, 78.28504983, 78.89606075,\n",
       "       79.50707167, 80.11808258, 80.7290935 , 81.34010441, 81.95111533,\n",
       "       82.56212625, 83.17313716, 83.78414808, 84.39515899, 85.00616991,\n",
       "       85.61718083, 86.22819174, 86.83920266, 87.45021357, 88.06122449,\n",
       "       88.67223541, 89.28324632, 89.89425724, 90.50526815, 91.11627907])"
      ]
     },
     "execution_count": 64,
     "metadata": {},
     "output_type": "execute_result"
    }
   ],
   "source": [
    "ys"
   ]
  },
  {
   "cell_type": "code",
   "execution_count": 65,
   "id": "c9f9eecc-630c-4bed-a1c2-3f055e40faf3",
   "metadata": {},
   "outputs": [
    {
     "data": {
      "text/plain": [
       "61.17674426"
      ]
     },
     "execution_count": 65,
     "metadata": {},
     "output_type": "execute_result"
    }
   ],
   "source": [
    "41 * 0.73023256 + 31.2372093 # = 61.17674419 /  β1x + β0 = y"
   ]
  },
  {
   "cell_type": "code",
   "execution_count": 66,
   "id": "c6c62d2f-60fe-4d47-938f-f00c6b84bf75",
   "metadata": {},
   "outputs": [
    {
     "data": {
      "image/png": "[encoded data removed]",
      "text/plain": [
       "<Figure size 800x800 with 1 Axes>"
      ]
     },
     "metadata": {},
     "output_type": "display_data"
    }
   ],
   "source": [
    "fig = plt.figure(figsize=(8,8))\n",
    "ax = fig.add_subplot(111)\n",
    "ax.scatter(df['english'],df['mathematics'])\n",
    "ax.plot(xs,ys,color='red', \n",
    "        label=f' {poly_fit[1]:.2f} + {poly_fit[0]:.2f} x')\n",
    "ax.set_xlabel('영어')\n",
    "ax.set_ylabel('수학')\n",
    "ax.legend(loc = 'upper left')\n",
    "plt.show()"
   ]
  },
  {
   "cell_type": "code",
   "execution_count": 67,
   "id": "f863c739-d69f-41af-831c-a70e827d2cf3",
   "metadata": {},
   "outputs": [],
   "source": [
    "# 히트맵: 히스토그램의 2차원 버전"
   ]
  },
  {
   "cell_type": "code",
   "execution_count": 68,
   "id": "90a1e150-c27e-4af3-8c5d-874711bb8c35",
   "metadata": {},
   "outputs": [
    {
     "data": {
      "image/png": "[encoded data removed]",
      "text/plain": [
       "<Figure size 1000x800 with 2 Axes>"
      ]
     },
     "metadata": {},
     "output_type": "display_data"
    }
   ],
   "source": [
    "fig = plt.figure(figsize=(10,8))\n",
    "ax = fig.add_subplot(111)\n",
    "c = ax.hist2d(df['english'],df['mathematics'],\n",
    "              bins=[9,8],\n",
    "              range=[(35,80),(55,95)])\n",
    "ax.set_xlabel('영어')\n",
    "ax.set_ylabel('수학')\n",
    "ax.set_xticks(c[1])\n",
    "ax.set_yticks(c[2])\n",
    "fig.colorbar(c[3],ax = ax)\n",
    "plt.show()"
   ]
  },
  {
   "cell_type": "code",
   "execution_count": null,
   "id": "654f89e3-e6ea-45b4-8e28-33892e44c156",
   "metadata": {},
   "outputs": [],
   "source": []
  }
 ],
 "metadata": {
  "kernelspec": {
   "display_name": "Python 3 (ipykernel)",
   "language": "python",
   "name": "python3"
  },
  "language_info": {
   "codemirror_mode": {
    "name": "ipython",
    "version": 3
   },
   "file_extension": ".py",
   "mimetype": "text/x-python",
   "name": "python",
   "nbconvert_exporter": "python",
   "pygments_lexer": "ipython3",
   "version": "3.9.13"
  }
 },
 "nbformat": 4,
 "nbformat_minor": 5
}
