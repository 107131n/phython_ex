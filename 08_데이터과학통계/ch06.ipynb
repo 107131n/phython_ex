{
 "cells": [
  {
   "cell_type": "code",
   "execution_count": 1,
   "id": "56de2d97-3db2-4f55-bb48-4320226a4f48",
   "metadata": {},
   "outputs": [],
   "source": [
    "import numpy as np\n",
    "import matplotlib.pyplot as plt\n",
    "from scipy import stats"
   ]
  },
  {
   "cell_type": "code",
   "execution_count": 2,
   "id": "53c918ae-8f34-4614-9c23-642ca9c3dd94",
   "metadata": {},
   "outputs": [],
   "source": [
    "linestyles = ['-', '--', ':']\n",
    "\n",
    "def E(X, g = lambda x : x):\n",
    "    x_set, f = X\n",
    "    return np.sum([g(x_k) * f(x_k) for x_k in x_set])\n",
    "\n",
    "def V(X, g = lambda x : x):\n",
    "    x_set, f = X\n",
    "    mean = E(X,g)\n",
    "    return np.sum([(g(x_k) - mean)**2 * f(x_k) for x_k in x_set])\n",
    "\n",
    "def check_prob(X):\n",
    "    x_set,f = X\n",
    "    prob = np.array([f(x_k) for x_k in x_set])\n",
    "    assert np.all(prob >= 0), 'minus probability' # 확률은 0이상 1미만/ assert: 조건의 참거짓을 판단해 거짓이면 메세지가 뜨고 중단\n",
    "    prob_sum = np.round(np.sum(prob),6)\n",
    "    assert prob_sum == 1, f'sum of probablity{prob_sum}' # 확률의 총합 1\n",
    "    print(f'기댓값: {E(X): .4}')\n",
    "    print(f'분  산: {V(X): .4}')\n",
    "\n",
    "def plot_prob(X):\n",
    "    x_set, f = X\n",
    "    prob = np.array([f(x_k) for x_k in x_set])\n",
    "    fig = plt.figure(figsize=(10,6))\n",
    "    ax = fig.add_subplot(111)\n",
    "    ax.bar(x_set,prob,label='prob')\n",
    "    ax.vlines(E(X),0,1,label='mean')\n",
    "    ax.set_xticks(np.append(x_set,E(X)))\n",
    "    ax.set_ylim(0,prob.max()*1.2)\n",
    "    ax.legend()\n",
    "    plt.show()"
   ]
  },
  {
   "cell_type": "code",
   "execution_count": 3,
   "id": "e617a206-4ca9-45cf-a20b-4086507d745e",
   "metadata": {},
   "outputs": [],
   "source": [
    "# 베르누이 분포\n",
    "# X~Bern(p)이라 할 때, 기댓값: E(X) = p, 분산: V(X) = p(1-p)"
   ]
  },
  {
   "cell_type": "code",
   "execution_count": 4,
   "id": "da6eb2b2-bb10-4701-9c36-9cd177d2cf52",
   "metadata": {},
   "outputs": [],
   "source": [
    "def Bern(p):\n",
    "    x_set = np.array([0,1])\n",
    "    def f(x):\n",
    "        if x in x_set:\n",
    "            return p**x * (1-p)**(1-x)\n",
    "        else:\n",
    "            return 0\n",
    "    return x_set,f"
   ]
  },
  {
   "cell_type": "code",
   "execution_count": 5,
   "id": "c1deb270-0818-44fc-9f00-c71c63978453",
   "metadata": {},
   "outputs": [],
   "source": [
    "p = 0.3\n",
    "X = Bern(p)"
   ]
  },
  {
   "cell_type": "code",
   "execution_count": 6,
   "id": "ab6d1e69-4567-4c95-b3a3-a6e1c8b0f789",
   "metadata": {},
   "outputs": [
    {
     "data": {
      "text/plain": [
       "(array([0, 1]), <function __main__.Bern.<locals>.f(x)>)"
      ]
     },
     "execution_count": 6,
     "metadata": {},
     "output_type": "execute_result"
    }
   ],
   "source": [
    "X"
   ]
  },
  {
   "cell_type": "code",
   "execution_count": 7,
   "id": "8c8cf56e-b055-4727-9906-6b02fd57a36a",
   "metadata": {},
   "outputs": [
    {
     "name": "stdout",
     "output_type": "stream",
     "text": [
      "기댓값:  0.3\n",
      "분  산:  0.21\n"
     ]
    }
   ],
   "source": [
    "check_prob(X)"
   ]
  },
  {
   "cell_type": "code",
   "execution_count": 8,
   "id": "cf29477f-fb59-4a29-8c1c-54e2c4d55151",
   "metadata": {},
   "outputs": [
    {
     "data": {
      "image/png": "[encoded data removed]",
      "text/plain": [
       "<Figure size 1000x600 with 1 Axes>"
      ]
     },
     "metadata": {},
     "output_type": "display_data"
    }
   ],
   "source": [
    "plot_prob(X)"
   ]
  },
  {
   "cell_type": "code",
   "execution_count": null,
   "id": "7f4ea135-c135-45b6-8c6b-b7e6e166370e",
   "metadata": {},
   "outputs": [],
   "source": [
    "# scipy.stats의 베르누이 함수는 베르누이 분포를 따름\n",
    "# pmf메서드는 확률함수 계산\n",
    "# cdf메서드는 누적밀도함수 계산"
   ]
  },
  {
   "cell_type": "code",
   "execution_count": 13,
   "id": "acbd044e-59cc-401b-9b59-8f80eee9e2c8",
   "metadata": {},
   "outputs": [],
   "source": [
    "p = 0.3\n",
    "rv = stats.bernoulli(p)"
   ]
  },
  {
   "cell_type": "code",
   "execution_count": 15,
   "id": "acabad55-9b27-42fa-89f4-02780d75fc03",
   "metadata": {},
   "outputs": [
    {
     "data": {
      "text/plain": [
       "0.3"
      ]
     },
     "execution_count": 15,
     "metadata": {},
     "output_type": "execute_result"
    }
   ],
   "source": [
    "rv.pmf(1)"
   ]
  },
  {
   "cell_type": "code",
   "execution_count": 16,
   "id": "f6dc9da9-7267-446a-9eb2-e0cfc709a36d",
   "metadata": {},
   "outputs": [
    {
     "data": {
      "text/plain": [
       "array([0.7, 0.3])"
      ]
     },
     "execution_count": 16,
     "metadata": {},
     "output_type": "execute_result"
    }
   ],
   "source": [
    "rv.pmf([0,1])"
   ]
  },
  {
   "cell_type": "code",
   "execution_count": 17,
   "id": "c85d7dec-9ca8-43ea-aef7-7af0f33438db",
   "metadata": {},
   "outputs": [
    {
     "data": {
      "text/plain": [
       "array([0.7, 1. ])"
      ]
     },
     "execution_count": 17,
     "metadata": {},
     "output_type": "execute_result"
    }
   ],
   "source": [
    "rv.cdf([0,1])"
   ]
  },
  {
   "cell_type": "code",
   "execution_count": 18,
   "id": "dee858c2-0f14-44ba-b9ca-9a1294d37150",
   "metadata": {},
   "outputs": [
    {
     "data": {
      "text/plain": [
       "0.3"
      ]
     },
     "execution_count": 18,
     "metadata": {},
     "output_type": "execute_result"
    }
   ],
   "source": [
    "rv.mean()"
   ]
  },
  {
   "cell_type": "code",
   "execution_count": 19,
   "id": "bb28bcfb-d947-4e49-9a7b-1447e7a5024d",
   "metadata": {},
   "outputs": [
    {
     "data": {
      "text/plain": [
       "0.21"
      ]
     },
     "execution_count": 19,
     "metadata": {},
     "output_type": "execute_result"
    }
   ],
   "source": [
    "rv.var()"
   ]
  },
  {
   "cell_type": "code",
   "execution_count": null,
   "id": "8212e4a7-06a9-4089-a0d6-b653b2687a29",
   "metadata": {},
   "outputs": [],
   "source": [
    "# 이항분포: 성공 확률이 p인 베르누이 시행을 n번 했을 때, 성공 횟수가 따르는 분포\n",
    "# X~Bin(n, p)이라 할 때, 기댓값: E(X) = np, 분산: V(X) = np(1-p)"
   ]
  },
  {
   "cell_type": "code",
   "execution_count": 21,
   "id": "4297c960-011c-45bc-b1a0-2414f9b990c0",
   "metadata": {},
   "outputs": [],
   "source": [
    "from scipy.special import comb"
   ]
  },
  {
   "cell_type": "code",
   "execution_count": 22,
   "id": "70c0021d-fac1-402b-95cb-9d0998a38b8c",
   "metadata": {},
   "outputs": [],
   "source": [
    "def Bin(n,p):\n",
    "    x_set = np.arange(n+1)\n",
    "    def f(x):\n",
    "        if x in x_set:\n",
    "            return comb(n,x) * p**x * (1-p)**(n-x)\n",
    "        else:\n",
    "            return 0\n",
    "    return x_set, f"
   ]
  },
  {
   "cell_type": "code",
   "execution_count": 23,
   "id": "7210cd72-31c9-4d0e-ad3d-847e2d978f86",
   "metadata": {},
   "outputs": [],
   "source": [
    "n = 10\n",
    "p = 0.3\n",
    "X = Bin(n, p)"
   ]
  },
  {
   "cell_type": "code",
   "execution_count": 24,
   "id": "a6125c9c-8040-4f4b-902d-e168bff85460",
   "metadata": {},
   "outputs": [
    {
     "data": {
      "text/plain": [
       "(array([ 0,  1,  2,  3,  4,  5,  6,  7,  8,  9, 10]),\n",
       " <function __main__.Bin.<locals>.f(x)>)"
      ]
     },
     "execution_count": 24,
     "metadata": {},
     "output_type": "execute_result"
    }
   ],
   "source": [
    "X"
   ]
  },
  {
   "cell_type": "code",
   "execution_count": 25,
   "id": "f201de0f-786f-4b0e-87e3-35154ec54712",
   "metadata": {},
   "outputs": [
    {
     "name": "stdout",
     "output_type": "stream",
     "text": [
      "기댓값:  3.0\n",
      "분  산:  2.1\n"
     ]
    }
   ],
   "source": [
    "check_prob(X)"
   ]
  },
  {
   "cell_type": "code",
   "execution_count": 26,
   "id": "eec99a3d-5378-429b-a6d4-b8fd68927377",
   "metadata": {},
   "outputs": [
    {
     "data": {
      "image/png": "[encoded data removed]",
      "text/plain": [
       "<Figure size 1000x600 with 1 Axes>"
      ]
     },
     "metadata": {},
     "output_type": "display_data"
    }
   ],
   "source": [
    "plot_prob(X)"
   ]
  },
  {
   "cell_type": "code",
   "execution_count": 28,
   "id": "6401684b-04fb-4f38-aad8-bc32a158cc56",
   "metadata": {},
   "outputs": [],
   "source": [
    "# 기하분포: 베르누이 시행에서 처음 성공할 때까지 반복한 시행횟수가 따르는 분포\n",
    "# X~Ge(p)이라 할 때, E(X) = 1/p, V(X) = (1-p) / P**2"
   ]
  },
  {
   "cell_type": "code",
   "execution_count": 29,
   "id": "1e8cfe78-6860-4a42-bb0c-802c7bfaf2e3",
   "metadata": {},
   "outputs": [],
   "source": [
    "# 포아송분포: 임의의 사건이 단위 시간당 발생하는 건수가 따르는 확률분포\n",
    "# X~Poi(λ)이라 할 때, E(X) = λ, V(X) = (λ)"
   ]
  },
  {
   "cell_type": "code",
   "execution_count": null,
   "id": "97708393-ae69-47c2-b296-d2da7239af1e",
   "metadata": {},
   "outputs": [],
   "source": []
  }
 ],
 "metadata": {
  "kernelspec": {
   "display_name": "Python 3 (ipykernel)",
   "language": "python",
   "name": "python3"
  },
  "language_info": {
   "codemirror_mode": {
    "name": "ipython",
    "version": 3
   },
   "file_extension": ".py",
   "mimetype": "text/x-python",
   "name": "python",
   "nbconvert_exporter": "python",
   "pygments_lexer": "ipython3",
   "version": "3.9.13"
  }
 },
 "nbformat": 4,
 "nbformat_minor": 5
}
