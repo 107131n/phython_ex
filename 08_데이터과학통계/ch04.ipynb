{
 "cells": [
  {
   "cell_type": "code",
   "execution_count": 1,
   "id": "384a21e0-7e61-416a-b536-7e230172f800",
   "metadata": {},
   "outputs": [],
   "source": [
    "import numpy as np\n",
    "import pandas as pd\n",
    "import matplotlib.pyplot as plt"
   ]
  },
  {
   "cell_type": "code",
   "execution_count": 2,
   "id": "2f64adc9-0f56-4da7-ab2f-db9b98216cdb",
   "metadata": {},
   "outputs": [],
   "source": [
    "df = pd.read_csv('data/ch4_scores400.csv')\n",
    "# df"
   ]
  },
  {
   "cell_type": "code",
   "execution_count": 3,
   "id": "0a25a28c-2c15-43a4-aa81-bc1ca04017b3",
   "metadata": {},
   "outputs": [],
   "source": [
    "scores = df['score'].values # 2차원 = series -> 1차원"
   ]
  },
  {
   "cell_type": "code",
   "execution_count": 4,
   "id": "754d5e48-e22a-4aa5-b44c-5dddf009d452",
   "metadata": {},
   "outputs": [
    {
     "data": {
      "text/plain": [
       "array([76, 55, 80, 80, 74, 61, 81, 76, 23, 80], dtype=int64)"
      ]
     },
     "execution_count": 4,
     "metadata": {},
     "output_type": "execute_result"
    }
   ],
   "source": [
    "scores[:10] "
   ]
  },
  {
   "cell_type": "code",
   "execution_count": 5,
   "id": "3ae89d3e-266a-49e0-81ba-7c6c5d2afa7c",
   "metadata": {},
   "outputs": [
    {
     "data": {
      "text/plain": [
       "array([1, 3, 1])"
      ]
     },
     "execution_count": 5,
     "metadata": {},
     "output_type": "execute_result"
    }
   ],
   "source": [
    "np.random.choice([1,2,3],3) # choice: 값을 추출/ range=arrange/ replace: 복원(기본값), 중복값 또 추출 가능"
   ]
  },
  {
   "cell_type": "code",
   "execution_count": 6,
   "id": "37b5c049-5dd5-421c-9771-775c06e98b49",
   "metadata": {},
   "outputs": [
    {
     "data": {
      "text/plain": [
       "array([2, 3, 1])"
      ]
     },
     "execution_count": 6,
     "metadata": {},
     "output_type": "execute_result"
    }
   ],
   "source": [
    "np.random.choice([1,2,3],3,replace=False) # 비복원"
   ]
  },
  {
   "cell_type": "code",
   "execution_count": 7,
   "id": "345b8a89-1a1e-414c-a37d-85a21cd85318",
   "metadata": {},
   "outputs": [
    {
     "data": {
      "text/plain": [
       "array([1, 2, 1])"
      ]
     },
     "execution_count": 7,
     "metadata": {},
     "output_type": "execute_result"
    }
   ],
   "source": [
    "np.random.seed(0) # seed: 랜덤값 고정\n",
    "np.random.choice([1,2,3],3)"
   ]
  },
  {
   "cell_type": "code",
   "execution_count": 8,
   "id": "bf3cd970-925d-4c55-bac3-4604701299cd",
   "metadata": {},
   "outputs": [
    {
     "data": {
      "text/plain": [
       "array([2, 2, 3])"
      ]
     },
     "execution_count": 8,
     "metadata": {},
     "output_type": "execute_result"
    }
   ],
   "source": [
    "np.random.choice([1,2,3],3) # seed와 결합해야 결과값이 고정됨"
   ]
  },
  {
   "cell_type": "code",
   "execution_count": 9,
   "id": "b5df100c-af13-4f47-87dc-17e35c63bd97",
   "metadata": {},
   "outputs": [
    {
     "data": {
      "text/plain": [
       "73.55"
      ]
     },
     "execution_count": 9,
     "metadata": {},
     "output_type": "execute_result"
    }
   ],
   "source": [
    "# np.random.seed(0)\n",
    "sample = np.random.choice(scores,20)\n",
    "sample.mean() # 표본의 평균값"
   ]
  },
  {
   "cell_type": "code",
   "execution_count": 10,
   "id": "b2dd7f96-104b-4c2c-abca-3e53fd432540",
   "metadata": {},
   "outputs": [
    {
     "data": {
      "text/plain": [
       "69.53"
      ]
     },
     "execution_count": 10,
     "metadata": {},
     "output_type": "execute_result"
    }
   ],
   "source": [
    "scores.mean() # 모집단의 평균값"
   ]
  },
  {
   "cell_type": "code",
   "execution_count": 11,
   "id": "f64b488e-310a-4e3b-b4ff-33132cb33b04",
   "metadata": {},
   "outputs": [
    {
     "name": "stdout",
     "output_type": "stream",
     "text": [
      "1번째 무작위 추출로 얻은 표본평균 67.6\n",
      "2번째 무작위 추출로 얻은 표본평균 61.2\n",
      "3번째 무작위 추출로 얻은 표본평균 71.2\n",
      "4번째 무작위 추출로 얻은 표본평균 74.75\n",
      "5번째 무작위 추출로 얻은 표본평균 73.7\n"
     ]
    }
   ],
   "source": [
    "for i in range(5):\n",
    "    sample = np.random.choice(scores, 20)\n",
    "    print(f\"{i+1}번째 무작위 추출로 얻은 표본평균\",sample.mean()) # 계속 추출을 하면 정규분포 형태 띔\n",
    "    # 값이 모평균 주변으로 나옴"
   ]
  },
  {
   "cell_type": "code",
   "execution_count": 12,
   "id": "1e84ede4-1fb6-42b0-9521-471f4e44f7a5",
   "metadata": {},
   "outputs": [],
   "source": [
    "dice = [1,2,3,4,5,6]\n",
    "prob = [1/21,2/21,3/21,4/21,5/21,6/21] # 불공정한 주사위"
   ]
  },
  {
   "cell_type": "code",
   "execution_count": 13,
   "id": "832f1d0f-0bfd-4bd4-ab90-09c5bab34c7f",
   "metadata": {},
   "outputs": [
    {
     "data": {
      "text/plain": [
       "array([4, 2, 5, 5, 3, 5, 2, 5, 6, 4, 5, 2, 6, 4, 3, 5, 1, 6, 1, 5, 3, 6,\n",
       "       6, 3, 5, 5, 5, 3, 6, 4, 6, 5, 4, 6, 4, 6, 5, 6, 5, 6, 5, 6, 5, 4,\n",
       "       5, 1, 4, 5, 4, 5, 4, 2, 4, 5, 5, 5, 5, 5, 4, 6, 4, 4, 6, 6, 5, 2,\n",
       "       6, 5, 6, 3, 6, 3, 5, 2, 6, 6, 5, 4, 2, 5, 4, 6, 6, 6, 6, 1, 4, 6,\n",
       "       3, 5, 2, 3, 1, 6, 3, 4, 6, 5, 1, 3])"
      ]
     },
     "execution_count": 13,
     "metadata": {},
     "output_type": "execute_result"
    }
   ],
   "source": [
    "num_trial = 100\n",
    "sample = np.random.choice(dice,num_trial,p = prob)\n",
    "sample"
   ]
  },
  {
   "cell_type": "code",
   "execution_count": 14,
   "id": "00283595-4901-41e8-8fc8-1c30cd886466",
   "metadata": {},
   "outputs": [],
   "source": [
    "# 도수분포표: 어떤 값이 얼마나 나왔나\n",
    "# 상대도수: 확률"
   ]
  },
  {
   "cell_type": "code",
   "execution_count": 15,
   "id": "1b99403c-ce85-4cff-b261-7946c51a7910",
   "metadata": {},
   "outputs": [
    {
     "data": {
      "text/html": [
       "<div>\n",
       "<style scoped>\n",
       "    .dataframe tbody tr th:only-of-type {\n",
       "        vertical-align: middle;\n",
       "    }\n",
       "\n",
       "    .dataframe tbody tr th {\n",
       "        vertical-align: top;\n",
       "    }\n",
       "\n",
       "    .dataframe thead th {\n",
       "        text-align: right;\n",
       "    }\n",
       "</style>\n",
       "<table border=\"1\" class=\"dataframe\">\n",
       "  <thead>\n",
       "    <tr style=\"text-align: right;\">\n",
       "      <th></th>\n",
       "      <th>frequency</th>\n",
       "      <th>relative frequency</th>\n",
       "    </tr>\n",
       "    <tr>\n",
       "      <th>dice</th>\n",
       "      <th></th>\n",
       "      <th></th>\n",
       "    </tr>\n",
       "  </thead>\n",
       "  <tbody>\n",
       "    <tr>\n",
       "      <th>1</th>\n",
       "      <td>6</td>\n",
       "      <td>0.06</td>\n",
       "    </tr>\n",
       "    <tr>\n",
       "      <th>2</th>\n",
       "      <td>8</td>\n",
       "      <td>0.08</td>\n",
       "    </tr>\n",
       "    <tr>\n",
       "      <th>3</th>\n",
       "      <td>11</td>\n",
       "      <td>0.11</td>\n",
       "    </tr>\n",
       "    <tr>\n",
       "      <th>4</th>\n",
       "      <td>18</td>\n",
       "      <td>0.18</td>\n",
       "    </tr>\n",
       "    <tr>\n",
       "      <th>5</th>\n",
       "      <td>30</td>\n",
       "      <td>0.30</td>\n",
       "    </tr>\n",
       "    <tr>\n",
       "      <th>6</th>\n",
       "      <td>27</td>\n",
       "      <td>0.27</td>\n",
       "    </tr>\n",
       "  </tbody>\n",
       "</table>\n",
       "</div>"
      ],
      "text/plain": [
       "      frequency  relative frequency\n",
       "dice                               \n",
       "1             6                0.06\n",
       "2             8                0.08\n",
       "3            11                0.11\n",
       "4            18                0.18\n",
       "5            30                0.30\n",
       "6            27                0.27"
      ]
     },
     "execution_count": 15,
     "metadata": {},
     "output_type": "execute_result"
    }
   ],
   "source": [
    "freq, _ = np.histogram(sample,bins=6,range=(1,7))\n",
    "pd.DataFrame({'frequency':freq,\n",
    "             'relative frequency': freq/num_trial},\n",
    "             index = pd.Index(np.arange(1,7),name = 'dice'))"
   ]
  },
  {
   "cell_type": "code",
   "execution_count": 16,
   "id": "59e7dd0b-e8ad-4100-bb27-269b9daa5e61",
   "metadata": {},
   "outputs": [
    {
     "data": {
      "image/png": "[encoded data removed]",
      "text/plain": [
       "<Figure size 1000x600 with 1 Axes>"
      ]
     },
     "metadata": {},
     "output_type": "display_data"
    }
   ],
   "source": [
    "fig = plt.figure(figsize=(10,6))\n",
    "ax = fig.add_subplot(111)\n",
    "ax.hist(sample,bins=6,range=(1,7),density=True,rwidth=0.8) # density=True: 막대그래프 총 면적 1/ rwidth:막대그래프간 간격\n",
    "ax.hlines(prob,np.arange(1,7),np.arange(2,8),colors='gray') # ax.hlines(prob, 최소, 최대)\n",
    "ax.set_xticks(np.linspace(1.5,6.5,6)) # 눈금 6개 만들어짐\n",
    "ax.set_xticklabels(np.arange(1,7))\n",
    "ax.set_xlabel('dice')\n",
    "ax.set_ylabel('relative frequency')\n",
    "plt.show()"
   ]
  },
  {
   "cell_type": "code",
   "execution_count": 17,
   "id": "7e090d2c-f84d-4a81-9980-5e3487f6b00c",
   "metadata": {},
   "outputs": [
    {
     "data": {
      "image/png": "[encoded data removed]",
      "text/plain": [
       "<Figure size 1000x600 with 1 Axes>"
      ]
     },
     "metadata": {},
     "output_type": "display_data"
    }
   ],
   "source": [
    "num_trial = 1000000 # 실행의 횟수가 증가할수록 각 확률에 수렴\n",
    "sample = np.random.choice(dice,num_trial,p = prob)\n",
    "\n",
    "fig = plt.figure(figsize=(10,6))\n",
    "ax = fig.add_subplot(111)\n",
    "ax.hist(sample,bins=6,range=(1,7),density=True,rwidth=0.8) # density=True: 막대그래프 총 면적 1\n",
    "ax.hlines(prob,np.arange(1,7),np.arange(2,8),colors='gray') # ax.hlines(prob, 최소, 최대)\n",
    "ax.set_xticks(np.linspace(1.5,6.5,6)) # 눈금 6개 만들어짐\n",
    "ax.set_xticklabels(np.arange(1,7))\n",
    "ax.set_xlabel('dice')\n",
    "ax.set_ylabel('relative frequency')\n",
    "plt.show()"
   ]
  },
  {
   "cell_type": "code",
   "execution_count": 18,
   "id": "c9e8b1d6-85be-4dd3-ab4f-7d38f53ea578",
   "metadata": {},
   "outputs": [
    {
     "data": {
      "image/png": "[encoded data removed]",
      "text/plain": [
       "<Figure size 1000x600 with 1 Axes>"
      ]
     },
     "metadata": {},
     "output_type": "display_data"
    }
   ],
   "source": [
    "fig = plt.figure(figsize = (10,6))\n",
    "ax = fig.add_subplot(111)\n",
    "ax.hist(scores, bins=100,range=(0,100),density=True)\n",
    "ax.set_xlim(20,100) # x축이 표시되는 지점을 지정\n",
    "ax.set_ylim(0,0.042)\n",
    "ax.set_xlabel('score')\n",
    "ax.set_ylabel('relative frequency')\n",
    "plt.show()"
   ]
  },
  {
   "cell_type": "code",
   "execution_count": 19,
   "id": "735ebd0b-82b6-4cf1-83f7-f69da4eaf17f",
   "metadata": {},
   "outputs": [
    {
     "data": {
      "image/png": "[encoded data removed]",
      "text/plain": [
       "<Figure size 1000x600 with 1 Axes>"
      ]
     },
     "metadata": {},
     "output_type": "display_data"
    }
   ],
   "source": [
    "sample = np.random.choice(scores, 10000000) # 횟수가 증가할수록(표본의 크기가 커질수록) 실제의 확률분포와 가까워짐\n",
    "# 복원추출이라도 여러 번 하면 모집단과 유사해짐\n",
    "fig = plt.figure(figsize = (10,6))\n",
    "ax = fig.add_subplot(111)\n",
    "ax.hist(sample, bins=100,range=(0,100),density=True) # scores를 sample로 변경\n",
    "ax.set_xlim(20,100) # x축이 표시되는 지점을 지정\n",
    "ax.set_ylim(0,0.042)\n",
    "ax.set_xlabel('score')\n",
    "ax.set_ylabel('relative frequency')\n",
    "plt.show() \n",
    "# 69점을 얻은 학생은 전교생의 0.04%이므로 무작위 추출을 수행하면 4% 확률로 69점이라는 표본데이터 획득"
   ]
  },
  {
   "cell_type": "code",
   "execution_count": 23,
   "id": "6d5487bb-ef3b-49d0-8618-4ed448191bb7",
   "metadata": {},
   "outputs": [
    {
     "data": {
      "image/png": "[encoded data removed]",
      "text/plain": [
       "<Figure size 1000x600 with 1 Axes>"
      ]
     },
     "metadata": {},
     "output_type": "display_data"
    }
   ],
   "source": [
    "sample_means = [ np.random.choice(scores,20).mean() \n",
    "                for _ in range(100000)] # 값을 받을 필요가 없어서 변수 선언 안 함/ 복원추출\n",
    "# sample_means\n",
    "fig = plt.figure(figsize=(10,6))\n",
    "ax = fig.add_subplot(111)\n",
    "ax.hist(sample_means,bins=100,range=(0,100),density=True)\n",
    "ax.vlines(np.mean(scores),0,1,'gray')\n",
    "ax.set_xlim(50,90)\n",
    "ax.set_ylim(0,0.14)\n",
    "ax.set_xlabel('score')\n",
    "ax.set_ylabel('relative frequency')\n",
    "plt.show()\n",
    "# 모평균을 중심으로 정규분포 형태, 좌우 대칭"
   ]
  },
  {
   "cell_type": "code",
   "execution_count": null,
   "id": "defe1708-ad99-451e-8860-f1e0a9e79420",
   "metadata": {},
   "outputs": [],
   "source": []
  }
 ],
 "metadata": {
  "kernelspec": {
   "display_name": "Python 3 (ipykernel)",
   "language": "python",
   "name": "python3"
  },
  "language_info": {
   "codemirror_mode": {
    "name": "ipython",
    "version": 3
   },
   "file_extension": ".py",
   "mimetype": "text/x-python",
   "name": "python",
   "nbconvert_exporter": "python",
   "pygments_lexer": "ipython3",
   "version": "3.9.13"
  }
 },
 "nbformat": 4,
 "nbformat_minor": 5
}
