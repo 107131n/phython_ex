{
 "cells": [
  {
   "cell_type": "code",
   "execution_count": 1,
   "id": "ef2d1498-afe8-4d11-80c1-5fd8fced749f",
   "metadata": {},
   "outputs": [],
   "source": [
    "import numpy as np\n",
    "import matplotlib.pyplot as plt"
   ]
  },
  {
   "cell_type": "code",
   "execution_count": 2,
   "id": "d0e9c03e-d498-485d-bc98-17d74310f008",
   "metadata": {},
   "outputs": [],
   "source": [
    "# 불공정한 주사위의 확률분포\n",
    "# 주사위가 가지는 값\n",
    "x_set = np.array([1,2,3,4,5,6]) # x_set: 확률변수가 취할 수 있는 값의 집합"
   ]
  },
  {
   "cell_type": "code",
   "execution_count": 3,
   "id": "9a174bb0-2818-4340-ba3e-5c78e44d6e07",
   "metadata": {},
   "outputs": [],
   "source": [
    "# 확률함수\n",
    "def f(x):\n",
    "    if x in x_set:\n",
    "        return x/21\n",
    "    else:\n",
    "        return 0"
   ]
  },
  {
   "cell_type": "code",
   "execution_count": 4,
   "id": "5b26b3f0-2c1e-4b99-a42a-c07d99cd7588",
   "metadata": {},
   "outputs": [],
   "source": [
    "# 확률변수 X\n",
    "X = [x_set,f]"
   ]
  },
  {
   "cell_type": "code",
   "execution_count": 9,
   "id": "1f7165f9-aca2-4421-b57e-eb316009a0e8",
   "metadata": {},
   "outputs": [
    {
     "data": {
      "text/plain": [
       "array([0.04761905, 0.0952381 , 0.14285714, 0.19047619, 0.23809524,\n",
       "       0.28571429])"
      ]
     },
     "execution_count": 9,
     "metadata": {},
     "output_type": "execute_result"
    }
   ],
   "source": [
    "# 확률\n",
    "prob = np.array([f(x_k) for x_k in x_set]) \n",
    "prob"
   ]
  },
  {
   "cell_type": "code",
   "execution_count": 10,
   "id": "fb22341d-1898-4549-9120-6ceec860942e",
   "metadata": {},
   "outputs": [
    {
     "data": {
      "text/plain": [
       "{1: 0.047619047619047616,\n",
       " 2: 0.09523809523809523,\n",
       " 3: 0.14285714285714285,\n",
       " 4: 0.19047619047619047,\n",
       " 5: 0.23809523809523808,\n",
       " 6: 0.2857142857142857}"
      ]
     },
     "execution_count": 10,
     "metadata": {},
     "output_type": "execute_result"
    }
   ],
   "source": [
    "dict(zip(x_set,prob)) # 딕셔너리로 zip, 묶어줌"
   ]
  },
  {
   "cell_type": "code",
   "execution_count": 11,
   "id": "7054acb9-324d-404f-8187-e801b5ab0185",
   "metadata": {},
   "outputs": [
    {
     "data": {
      "image/png": "[encoded data removed]",
      "text/plain": [
       "<Figure size 1000x600 with 1 Axes>"
      ]
     },
     "metadata": {},
     "output_type": "display_data"
    }
   ],
   "source": [
    "fig = plt.figure(figsize=(10,6))\n",
    "ax = fig.add_subplot(111)\n",
    "ax.bar(x_set,prob)\n",
    "ax.set_xlabel('value')\n",
    "ax.set_ylabel('probablity')\n",
    "plt.show()"
   ]
  },
  {
   "cell_type": "code",
   "execution_count": 12,
   "id": "9bcf1e03-2b31-4038-be81-e12e378cf9de",
   "metadata": {},
   "outputs": [],
   "source": [
    "# 확률의 성질: 0 <= 확률값, 확률값의 총합은 1"
   ]
  },
  {
   "cell_type": "code",
   "execution_count": 13,
   "id": "f31f69ec-0aa3-4428-9a38-0179916a9a45",
   "metadata": {},
   "outputs": [
    {
     "data": {
      "text/plain": [
       "True"
      ]
     },
     "execution_count": 13,
     "metadata": {},
     "output_type": "execute_result"
    }
   ],
   "source": [
    "np.all(prob >= 0)"
   ]
  },
  {
   "cell_type": "code",
   "execution_count": 14,
   "id": "38a570e0-fa92-4481-87b2-e40178301a59",
   "metadata": {},
   "outputs": [
    {
     "data": {
      "text/plain": [
       "0.9999999999999999"
      ]
     },
     "execution_count": 14,
     "metadata": {},
     "output_type": "execute_result"
    }
   ],
   "source": [
    "np.sum(prob)"
   ]
  },
  {
   "cell_type": "code",
   "execution_count": 15,
   "id": "cca894fe-9fb8-43a4-955c-5e23fc285ef7",
   "metadata": {},
   "outputs": [],
   "source": [
    "# 누적분포함수 F(x): X가 x이하가 될 때의 확률을 반환하는 함수"
   ]
  },
  {
   "cell_type": "code",
   "execution_count": 16,
   "id": "1acf0e23-2370-4307-a162-327198a25d3e",
   "metadata": {},
   "outputs": [],
   "source": [
    "def F(x):\n",
    "    return np.sum([ f(x_k) for x_k in x_set if x_k <= x])  # f(): 각 숫자값에 대한 확률"
   ]
  },
  {
   "cell_type": "code",
   "execution_count": 17,
   "id": "15777656-7491-42b2-a4ba-6a03fb00ad99",
   "metadata": {},
   "outputs": [
    {
     "data": {
      "text/plain": [
       "0.2857142857142857"
      ]
     },
     "execution_count": 17,
     "metadata": {},
     "output_type": "execute_result"
    }
   ],
   "source": [
    "F(3)"
   ]
  },
  {
   "cell_type": "code",
   "execution_count": 19,
   "id": "0b9492c1-9ab3-446d-b759-f9bf096ad3e4",
   "metadata": {},
   "outputs": [],
   "source": [
    "# 확률변수의 변환: 확률변수X에 2를 곱하고 3을 더한 2X+3도 확률변수, 2X+3을 Y라고 하면"
   ]
  },
  {
   "cell_type": "code",
   "execution_count": 20,
   "id": "16b75680-6e14-42ed-93f9-8bdb8a317368",
   "metadata": {},
   "outputs": [
    {
     "data": {
      "text/plain": [
       "array([ 5,  7,  9, 11, 13, 15])"
      ]
     },
     "execution_count": 20,
     "metadata": {},
     "output_type": "execute_result"
    }
   ],
   "source": [
    "y_set = np.array([2*x_k+3 for x_k in x_set])\n",
    "y_set"
   ]
  },
  {
   "cell_type": "code",
   "execution_count": 21,
   "id": "6dd06809-0848-42ef-8c8e-852afe4d93be",
   "metadata": {},
   "outputs": [
    {
     "data": {
      "text/plain": [
       "{5: 0.047619047619047616,\n",
       " 7: 0.09523809523809523,\n",
       " 9: 0.14285714285714285,\n",
       " 11: 0.19047619047619047,\n",
       " 13: 0.23809523809523808,\n",
       " 15: 0.2857142857142857}"
      ]
     },
     "execution_count": 21,
     "metadata": {},
     "output_type": "execute_result"
    }
   ],
   "source": [
    "prob = np.array([ f(x_k) for x_k in x_set]) # 변환 전 확률분포와 같음, y로 안 구한 이유는 x로 파생되었기 때문..?\n",
    "dict(zip(y_set,prob))"
   ]
  },
  {
   "cell_type": "code",
   "execution_count": 22,
   "id": "7d939988-8e4d-4dd0-878d-d3b61122b1b6",
   "metadata": {},
   "outputs": [],
   "source": [
    "# 1차원 이산형 확률변수의 지표\n",
    "# 기댓값: 확률변수의 평균"
   ]
  },
  {
   "cell_type": "code",
   "execution_count": 23,
   "id": "32f0d431-7bdf-4a24-815c-590828ba2ec8",
   "metadata": {},
   "outputs": [
    {
     "data": {
      "text/plain": [
       "4.333333333333333"
      ]
     },
     "execution_count": 23,
     "metadata": {},
     "output_type": "execute_result"
    }
   ],
   "source": [
    "# 불공정한 주사위의 기댓값\n",
    "np.sum([ x_k * f(x_k) for x_k in x_set]) "
   ]
  },
  {
   "cell_type": "code",
   "execution_count": 28,
   "id": "eec12ffc-e3d6-4bb1-8b45-4dde5935cdaf",
   "metadata": {},
   "outputs": [
    {
     "data": {
      "text/plain": [
       "4.33336698"
      ]
     },
     "execution_count": 28,
     "metadata": {},
     "output_type": "execute_result"
    }
   ],
   "source": [
    "sample = np.random.choice(x_set,100000000,p=prob) # 샘플이 커질수록 기댓값에 가까워잠\n",
    "np.mean(sample)"
   ]
  },
  {
   "cell_type": "code",
   "execution_count": 29,
   "id": "f6178c0f-899a-4163-8e63-4dd1545276ca",
   "metadata": {},
   "outputs": [],
   "source": [
    "def E(X,g=lambda x : x): # lambda x: 입력되는 값 리턴턴\n",
    "    x_set,f = X\n",
    "    return np.sum([g(x_k) * f(x_k) for x_k in x_set])"
   ]
  },
  {
   "cell_type": "code",
   "execution_count": 30,
   "id": "0b166b55-a1e7-4556-9f68-3e044dbd0c49",
   "metadata": {},
   "outputs": [
    {
     "data": {
      "text/plain": [
       "[array([1, 2, 3, 4, 5, 6]), <function __main__.f(x)>]"
      ]
     },
     "execution_count": 30,
     "metadata": {},
     "output_type": "execute_result"
    }
   ],
   "source": [
    "X "
   ]
  },
  {
   "cell_type": "code",
   "execution_count": 31,
   "id": "5adf31b3-ba1b-4b5f-9eb3-dfb8f254058d",
   "metadata": {},
   "outputs": [
    {
     "data": {
      "text/plain": [
       "4.333333333333333"
      ]
     },
     "execution_count": 31,
     "metadata": {},
     "output_type": "execute_result"
    }
   ],
   "source": [
    "E(X)"
   ]
  },
  {
   "cell_type": "code",
   "execution_count": 32,
   "id": "86dfcf0e-6663-4107-8557-91c8153a2597",
   "metadata": {},
   "outputs": [
    {
     "data": {
      "text/plain": [
       "11.666666666666664"
      ]
     },
     "execution_count": 32,
     "metadata": {},
     "output_type": "execute_result"
    }
   ],
   "source": [
    "E(X,g=lambda x: 2*x+3)"
   ]
  },
  {
   "cell_type": "code",
   "execution_count": 33,
   "id": "df4e0a2c-903b-470f-b90d-80eeb58a7245",
   "metadata": {},
   "outputs": [
    {
     "data": {
      "text/plain": [
       "11.666666666666666"
      ]
     },
     "execution_count": 33,
     "metadata": {},
     "output_type": "execute_result"
    }
   ],
   "source": [
    "2*E(X)+3"
   ]
  },
  {
   "cell_type": "code",
   "execution_count": 34,
   "id": "b6552464-88d2-4444-8b15-5c2bb4c37572",
   "metadata": {},
   "outputs": [],
   "source": [
    "# 분산"
   ]
  },
  {
   "cell_type": "code",
   "execution_count": 36,
   "id": "83674f23-ddca-427e-b40e-c978718309d7",
   "metadata": {},
   "outputs": [
    {
     "data": {
      "text/plain": [
       "2.2222222222222223"
      ]
     },
     "execution_count": 36,
     "metadata": {},
     "output_type": "execute_result"
    }
   ],
   "source": [
    "mean = E(X)\n",
    "np.sum([ (x_k - mean )**2 *f(x_k) for x_k in x_set])"
   ]
  },
  {
   "cell_type": "code",
   "execution_count": 40,
   "id": "f681fc80-14cf-42bb-b9bb-04afddadde40",
   "metadata": {},
   "outputs": [],
   "source": [
    "def V(X, g = lambda x : x): # lambda: 한 줄짜리 일회용 함수\n",
    "    x_set,f = X\n",
    "    mean = E(X,g)\n",
    "    return np.sum([ (g(x_k)-mean)**2 * f(x_k) for x_k in x_set])"
   ]
  },
  {
   "cell_type": "code",
   "execution_count": 41,
   "id": "56ba4008-9e4e-4e37-8703-d20fa25d2f8a",
   "metadata": {},
   "outputs": [
    {
     "data": {
      "text/plain": [
       "2.2222222222222223"
      ]
     },
     "execution_count": 41,
     "metadata": {},
     "output_type": "execute_result"
    }
   ],
   "source": [
    "V(X)"
   ]
  },
  {
   "cell_type": "code",
   "execution_count": 42,
   "id": "1e972839-0d9a-4fe4-b2ee-4791f59cb744",
   "metadata": {},
   "outputs": [
    {
     "data": {
      "text/plain": [
       "8.88888888888889"
      ]
     },
     "execution_count": 42,
     "metadata": {},
     "output_type": "execute_result"
    }
   ],
   "source": [
    "V(X,lambda x : 2*x+3)"
   ]
  },
  {
   "cell_type": "code",
   "execution_count": 44,
   "id": "f3a4e22e-3c05-4502-aefe-4d1bc33e9bb5",
   "metadata": {},
   "outputs": [
    {
     "data": {
      "text/plain": [
       "8.88888888888889"
      ]
     },
     "execution_count": 44,
     "metadata": {},
     "output_type": "execute_result"
    }
   ],
   "source": [
    "2**2*V(X) # 분산의 공식: V(aX+b) = a**2V(X)"
   ]
  },
  {
   "cell_type": "code",
   "execution_count": 45,
   "id": "336dece2-1fbd-4677-be00-3bc1da84d8ee",
   "metadata": {},
   "outputs": [],
   "source": [
    "# 결합확률분포: 확률변수(X, Y)의 움직임을 동시에 고려한 분포\n",
    "# 불공정한 주사위 A와 B: A와 B의 눈을 더한 것 X, A의 눈을 Y로 하는 2차원 확률분포\n",
    "# X = 2-12, Y = 1-6\n",
    "# 결합확률함수 식: y(x-y)/441"
   ]
  },
  {
   "cell_type": "code",
   "execution_count": 46,
   "id": "d693043b-9a3c-408b-b0ef-d2d1ecc7623a",
   "metadata": {},
   "outputs": [
    {
     "data": {
      "text/plain": [
       "(array([ 2,  3,  4,  5,  6,  7,  8,  9, 10, 11, 12]),\n",
       " array([1, 2, 3, 4, 5, 6]))"
      ]
     },
     "execution_count": 46,
     "metadata": {},
     "output_type": "execute_result"
    }
   ],
   "source": [
    "x_set = np.arange(2,13)\n",
    "y_set = np.arange(1, 7)\n",
    "x_set, y_set"
   ]
  },
  {
   "cell_type": "code",
   "execution_count": 59,
   "id": "aceeba50-7533-4d67-a102-23a406008c38",
   "metadata": {},
   "outputs": [],
   "source": [
    "def f_XY(x,y):\n",
    "    if 1<=y<=6 and 1<=x-y<=6:\n",
    "        return y*(x-y)/441\n",
    "    else:\n",
    "        return 0"
   ]
  },
  {
   "cell_type": "code",
   "execution_count": 60,
   "id": "54d84363-8cb6-45a8-89dd-829145e7497a",
   "metadata": {},
   "outputs": [],
   "source": [
    "XY = [x_set,y_set,f_XY]"
   ]
  },
  {
   "cell_type": "code",
   "execution_count": 61,
   "id": "5871879c-d140-402e-a10b-c27844e6ad71",
   "metadata": {},
   "outputs": [],
   "source": [
    "# 확률분포의 히트맵"
   ]
  },
  {
   "cell_type": "code",
   "execution_count": 62,
   "id": "42e7b5c0-b2ad-45e7-a47d-4c62c218408d",
   "metadata": {},
   "outputs": [],
   "source": [
    "prob = np.array([[f_XY(x_i,y_j) for y_j in y_set] for x_i in x_set])"
   ]
  },
  {
   "cell_type": "code",
   "execution_count": 63,
   "id": "27968909-dc6a-4ab7-946c-917e800dd247",
   "metadata": {},
   "outputs": [
    {
     "data": {
      "text/plain": [
       "array([[0.00226757, 0.        , 0.        , 0.        , 0.        ,\n",
       "        0.        ],\n",
       "       [0.00453515, 0.00453515, 0.        , 0.        , 0.        ,\n",
       "        0.        ],\n",
       "       [0.00680272, 0.00907029, 0.00680272, 0.        , 0.        ,\n",
       "        0.        ],\n",
       "       [0.00907029, 0.01360544, 0.01360544, 0.00907029, 0.        ,\n",
       "        0.        ],\n",
       "       [0.01133787, 0.01814059, 0.02040816, 0.01814059, 0.01133787,\n",
       "        0.        ],\n",
       "       [0.01360544, 0.02267574, 0.02721088, 0.02721088, 0.02267574,\n",
       "        0.01360544],\n",
       "       [0.        , 0.02721088, 0.03401361, 0.03628118, 0.03401361,\n",
       "        0.02721088],\n",
       "       [0.        , 0.        , 0.04081633, 0.04535147, 0.04535147,\n",
       "        0.04081633],\n",
       "       [0.        , 0.        , 0.        , 0.05442177, 0.05668934,\n",
       "        0.05442177],\n",
       "       [0.        , 0.        , 0.        , 0.        , 0.06802721,\n",
       "        0.06802721],\n",
       "       [0.        , 0.        , 0.        , 0.        , 0.        ,\n",
       "        0.08163265]])"
      ]
     },
     "execution_count": 63,
     "metadata": {},
     "output_type": "execute_result"
    }
   ],
   "source": [
    "prob"
   ]
  },
  {
   "cell_type": "code",
   "execution_count": 71,
   "id": "57979ac5-77db-4dd8-a6c0-2b1de762fe50",
   "metadata": {},
   "outputs": [
    {
     "data": {
      "text/plain": [
       "(11, 6)"
      ]
     },
     "execution_count": 71,
     "metadata": {},
     "output_type": "execute_result"
    }
   ],
   "source": [
    "prob.shape"
   ]
  },
  {
   "cell_type": "code",
   "execution_count": 78,
   "id": "b8a71aee-9782-4d12-a409-f3e470f46bd2",
   "metadata": {},
   "outputs": [
    {
     "data": {
      "image/png": "[encoded data removed]",
      "text/plain": [
       "<Figure size 1000x600 with 2 Axes>"
      ]
     },
     "metadata": {},
     "output_type": "display_data"
    }
   ],
   "source": [
    "fig = plt.figure(figsize=(10,6))\n",
    "ax = fig.add_subplot(111)\n",
    "\n",
    "c = ax.pcolor(prob)\n",
    "ax.set_xticks(np.arange(prob.shape[1]) + 0.5,minor = False)  # shape[1]:컬럼 수\n",
    "ax.set_yticks(np.arange(prob.shape[0]) + 0.5,minor = False)\n",
    "ax.set_xticklabels(np.arange(1,7), minor=False)\n",
    "ax.set_yticklabels(np.arange(2,13), minor=False)\n",
    "ax.invert_yaxis()\n",
    "ax.xaxis.tick_top()\n",
    "fig,colorbar(c,ax=ax)\n",
    "plt.show()"
   ]
  },
  {
   "cell_type": "code",
   "execution_count": 80,
   "id": "956476ae-87f6-4056-b5db-d4c0512366ff",
   "metadata": {},
   "outputs": [
    {
     "data": {
      "text/plain": [
       "True"
      ]
     },
     "execution_count": 80,
     "metadata": {},
     "output_type": "execute_result"
    }
   ],
   "source": [
    "np.all(prob >= 0)                                                                               "
   ]
  },
  {
   "cell_type": "code",
   "execution_count": 81,
   "id": "9301a8dc-0a12-47bb-b699-6d637eb54be2",
   "metadata": {},
   "outputs": [
    {
     "data": {
      "text/plain": [
       "1.0"
      ]
     },
     "execution_count": 81,
     "metadata": {},
     "output_type": "execute_result"
    }
   ],
   "source": [
    "np.sum(prob)"
   ]
  },
  {
   "cell_type": "code",
   "execution_count": 85,
   "id": "5279ed3e-a934-44ac-9c82-990f5c542192",
   "metadata": {},
   "outputs": [],
   "source": [
    "# ------------------2차원 이산형"
   ]
  },
  {
   "cell_type": "code",
   "execution_count": 87,
   "id": "5e4e7cc1-f1f4-43fc-be6e-c98f09d0e3ca",
   "metadata": {},
   "outputs": [],
   "source": [
    "# 주변확률분포: 개별 확률변수에만 흥미"
   ]
  },
  {
   "cell_type": "code",
   "execution_count": 90,
   "id": "b78cd14a-deaf-4862-848c-ffb821b00ea5",
   "metadata": {},
   "outputs": [],
   "source": [
    "def f_X(x): # 확률변수 x의 움직임의 확률\n",
    "    return np.sum([f_XY(x,y_k) for y_k in y_set]) # f_XY(x,y_k): x는 f_x(x)를 받고, y_k는 y_set을 받음\n",
    "\n",
    "def f_Y(y): # 확률변수 y의 움직임의 확률\n",
    "    return np.sum([f_XY(x_k,y) for x_k in x_set]) "
   ]
  },
  {
   "cell_type": "code",
   "execution_count": 94,
   "id": "b292fe0b-f8bc-450e-a4a6-42da20bbff26",
   "metadata": {},
   "outputs": [],
   "source": [
    "X = [x_set, f_X]\n",
    "y = [y_set, f_Y]"
   ]
  },
  {
   "cell_type": "code",
   "execution_count": 96,
   "id": "89adab7a-0e1e-477a-9755-085d9ac2b5cb",
   "metadata": {},
   "outputs": [],
   "source": [
    "prob_x = np.array([ f_X(x_k) for x_k in x_set])\n",
    "prob_y = np.array([ f_Y(y_k) for y_k in y_set])"
   ]
  },
  {
   "cell_type": "code",
   "execution_count": 97,
   "id": "57419c46-0507-4fda-9cbe-bf0e1762777b",
   "metadata": {},
   "outputs": [
    {
     "data": {
      "text/plain": [
       "array([0.00226757, 0.00907029, 0.02267574, 0.04535147, 0.07936508,\n",
       "       0.12698413, 0.15873016, 0.1723356 , 0.16553288, 0.13605442,\n",
       "       0.08163265])"
      ]
     },
     "execution_count": 97,
     "metadata": {},
     "output_type": "execute_result"
    }
   ],
   "source": [
    "prob_x"
   ]
  },
  {
   "cell_type": "code",
   "execution_count": 98,
   "id": "32cd1b39-0098-474b-b28c-fee64da3e1b5",
   "metadata": {},
   "outputs": [
    {
     "data": {
      "text/plain": [
       "array([0.04761905, 0.0952381 , 0.14285714, 0.19047619, 0.23809524,\n",
       "       0.28571429])"
      ]
     },
     "execution_count": 98,
     "metadata": {},
     "output_type": "execute_result"
    }
   ],
   "source": [
    "prob_y"
   ]
  },
  {
   "cell_type": "code",
   "execution_count": 99,
   "id": "1443d656-7b16-4dfe-9323-ee99fde82930",
   "metadata": {},
   "outputs": [
    {
     "data": {
      "image/png": "[encoded data removed]",
      "text/plain": [
       "<Figure size 1200x400 with 2 Axes>"
      ]
     },
     "metadata": {},
     "output_type": "display_data"
    }
   ],
   "source": [
    "fig = plt.figure(figsize = (12,4))\n",
    "ax1 = fig.add_subplot(121)\n",
    "ax2 = fig.add_subplot(122)\n",
    "ax1.bar(x_set,prob_x)\n",
    "ax1.set_title('X_marginal probablity distribution')\n",
    "ax1.set_xlabel('X_values')\n",
    "ax1.set_ylabel('probablity')\n",
    "ax1.set_xticks(x_set)\n",
    "\n",
    "ax2.bar(y_set,prob_y)\n",
    "ax2.set_title('Y_marginal probablity distribution')\n",
    "ax2.set_xlabel('Y_values')\n",
    "ax2.set_ylabel('probablity')\n",
    "ax2.set_xticks(y_set)\n",
    "\n",
    "plt.show()"
   ]
  },
  {
   "cell_type": "code",
   "execution_count": 100,
   "id": "4f5f2362-fcda-4c87-aac6-fb9c902e6e84",
   "metadata": {},
   "outputs": [],
   "source": [
    "# 기댓값"
   ]
  },
  {
   "cell_type": "code",
   "execution_count": 101,
   "id": "92f07a21-e5f9-43dc-8186-437b510c0c44",
   "metadata": {},
   "outputs": [
    {
     "data": {
      "text/plain": [
       "8.666666666666666"
      ]
     },
     "execution_count": 101,
     "metadata": {},
     "output_type": "execute_result"
    }
   ],
   "source": [
    "np.sum([ x_i * f_XY(x_i,y_j) for x_i in x_set for y_j in y_set])"
   ]
  },
  {
   "cell_type": "code",
   "execution_count": 102,
   "id": "12432627-4ebc-4cf5-9c2d-4f241824d9ba",
   "metadata": {},
   "outputs": [
    {
     "data": {
      "text/plain": [
       "4.333333333333333"
      ]
     },
     "execution_count": 102,
     "metadata": {},
     "output_type": "execute_result"
    }
   ],
   "source": [
    "np.sum([ y_j * f_XY(x_i,y_j) for y_j in y_set for x_i in x_set])"
   ]
  },
  {
   "cell_type": "code",
   "execution_count": 103,
   "id": "d9708ad7-72ff-4d45-b89c-3f9af8d6a2f9",
   "metadata": {},
   "outputs": [],
   "source": [
    "def E(XY,g):\n",
    "    x_set, y_set, f_XY = XY\n",
    "    return np.sum([ g(x_i,y_j) * f_XY(x_i,y_j) for x_i in x_set for y_j in y_set])"
   ]
  },
  {
   "cell_type": "code",
   "execution_count": 104,
   "id": "887834b3-f5aa-4cef-a2f6-608cf7b54098",
   "metadata": {},
   "outputs": [],
   "source": [
    "mean_X = E(XY,lambda x,y : x)"
   ]
  },
  {
   "cell_type": "code",
   "execution_count": 106,
   "id": "b8290924-f314-466b-82a4-ff2b8e98ce5e",
   "metadata": {},
   "outputs": [],
   "source": [
    "mean_Y = E(XY,lambda x,y : y)"
   ]
  },
  {
   "cell_type": "code",
   "execution_count": 107,
   "id": "f78b554d-dd02-45de-b981-0c43e70f972d",
   "metadata": {},
   "outputs": [
    {
     "data": {
      "text/plain": [
       "(8.666666666666666, 4.333333333333333)"
      ]
     },
     "execution_count": 107,
     "metadata": {},
     "output_type": "execute_result"
    }
   ],
   "source": [
    "mean_X, mean_Y"
   ]
  },
  {
   "cell_type": "code",
   "execution_count": 108,
   "id": "99c72d41-aaa5-4cfa-ad63-7e836b39bf50",
   "metadata": {},
   "outputs": [
    {
     "data": {
      "text/plain": [
       "30.333333333333332"
      ]
     },
     "execution_count": 108,
     "metadata": {},
     "output_type": "execute_result"
    }
   ],
   "source": [
    "a,b = 2,3\n",
    "E(XY,lambda x,y : a*x+b*y)"
   ]
  },
  {
   "cell_type": "code",
   "execution_count": 109,
   "id": "3b342e7e-2d91-4424-b51a-f78f807b4948",
   "metadata": {},
   "outputs": [
    {
     "data": {
      "text/plain": [
       "30.333333333333332"
      ]
     },
     "execution_count": 109,
     "metadata": {},
     "output_type": "execute_result"
    }
   ],
   "source": [
    "a*mean_X+b*mean_Y # E(ax+by) = aE(x)+bE(y)"
   ]
  },
  {
   "cell_type": "code",
   "execution_count": 111,
   "id": "3a71abc6-8f14-46e7-b51f-25b7c5d567c3",
   "metadata": {},
   "outputs": [
    {
     "data": {
      "text/plain": [
       "4.444444444444444"
      ]
     },
     "execution_count": 111,
     "metadata": {},
     "output_type": "execute_result"
    }
   ],
   "source": [
    "np.sum([(x_i-mean_X)**2 * f_XY(x_i,y_j) for x_i in x_set for y_j in y_set]) # 분산"
   ]
  },
  {
   "cell_type": "code",
   "execution_count": 114,
   "id": "ade56980-d7d5-49e8-a369-5d5d0477bb7a",
   "metadata": {},
   "outputs": [],
   "source": [
    "def V(XY,g):\n",
    "    x_set,y_set,f_XY = XY\n",
    "    mean = E(XY, g)\n",
    "    return np.sum([np.sum([(g(x_i,y_j)-mean)**2 * f_XY(x_i,y_j) for x_i in x_set for y_j in y_set])])"
   ]
  },
  {
   "cell_type": "code",
   "execution_count": 118,
   "id": "5507367c-7eb6-45ff-bc3e-46fc4d9a620e",
   "metadata": {},
   "outputs": [
    {
     "data": {
      "text/plain": [
       "4.444444444444444"
      ]
     },
     "execution_count": 118,
     "metadata": {},
     "output_type": "execute_result"
    }
   ],
   "source": [
    "var_X = V(XY, g=lambda x,y : x)\n",
    "var_X"
   ]
  },
  {
   "cell_type": "code",
   "execution_count": 119,
   "id": "2011ccc3-c692-4a69-966f-4f069d7d28bf",
   "metadata": {},
   "outputs": [
    {
     "data": {
      "text/plain": [
       "2.2222222222222223"
      ]
     },
     "execution_count": 119,
     "metadata": {},
     "output_type": "execute_result"
    }
   ],
   "source": [
    "var_Y = V(XY, g=lambda x,y : y)\n",
    "var_Y"
   ]
  },
  {
   "cell_type": "code",
   "execution_count": null,
   "id": "0ab04b51-da64-4965-b868-41040502895a",
   "metadata": {},
   "outputs": [],
   "source": []
  }
 ],
 "metadata": {
  "kernelspec": {
   "display_name": "Python 3 (ipykernel)",
   "language": "python",
   "name": "python3"
  },
  "language_info": {
   "codemirror_mode": {
    "name": "ipython",
    "version": 3
   },
   "file_extension": ".py",
   "mimetype": "text/x-python",
   "name": "python",
   "nbconvert_exporter": "python",
   "pygments_lexer": "ipython3",
   "version": "3.9.13"
  }
 },
 "nbformat": 4,
 "nbformat_minor": 5
}
