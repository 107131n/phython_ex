{
 "cells": [
  {
   "cell_type": "code",
   "execution_count": null,
   "id": "2f0551ae-0f0d-4c2f-8c84-f7f4bf7c558d",
   "metadata": {},
   "outputs": [],
   "source": [
    "# print(\"Tell me your age?\")\n",
    "myage = int(input('Tell me your age? \\n'))\n",
    "if myage < 30:\n",
    "    print(\"Welcome to the club.\")\n",
    "else:\n",
    "    print(\"Oh! No. You are not accepted.\")"
   ]
  },
  {
   "cell_type": "code",
   "execution_count": null,
   "id": "d669efe3-20cc-40ac-8d0b-ca9edd6f2954",
   "metadata": {},
   "outputs": [],
   "source": [
    "type(myage)"
   ]
  },
  {
   "cell_type": "code",
   "execution_count": null,
   "id": "5e45b1e2-f549-4b79-9e6a-04baeeae6d72",
   "metadata": {},
   "outputs": [],
   "source": [
    "# 주민번호를 입력 받아서 생년월일(6자리)를 출력하고, 성별을 판별하여 출력하세요.\n",
    "# str은 인덱싱과 슬라이싱이 가능합니다."
   ]
  },
  {
   "cell_type": "code",
   "execution_count": null,
   "id": "69f8edc7-da8f-47df-9ceb-d619ce8ec26f",
   "metadata": {},
   "outputs": [],
   "source": [
    "data = input('주민등록번호 입력(ex: 230101-4123456) >>> ')\n",
    "if data[7] in ('1', '3'):\n",
    "    data1 = '남자'\n",
    "elif data[7] in ('2', '4'):\n",
    "    data1 = '여자'\n",
    "else:\n",
    "    data1 = '입력값 오류'\n",
    "print('생년월일 :', data[:6], ' 성별: ', data1)"
   ]
  },
  {
   "cell_type": "code",
   "execution_count": null,
   "id": "24d8ad16-f95f-41c5-a7b4-ec8457fabae7",
   "metadata": {},
   "outputs": [],
   "source": [
    "data = ['a',2,'vvv',3,4,5]\n",
    "for i in data:\n",
    "    print(i)"
   ]
  },
  {
   "cell_type": "code",
   "execution_count": null,
   "id": "fac6956c-1c81-4686-9796-3db1a57ab5fe",
   "metadata": {
    "tags": []
   },
   "outputs": [],
   "source": [
    "for i in range(1,11,1):\n",
    "    print(i)"
   ]
  },
  {
   "cell_type": "code",
   "execution_count": null,
   "id": "54a8b691-0f51-4c54-8e5b-2e6fa85baf7e",
   "metadata": {},
   "outputs": [],
   "source": [
    "for i, item in enumerate(data):\n",
    "    print(i, item)"
   ]
  },
  {
   "cell_type": "code",
   "execution_count": null,
   "id": "c17def86-fcb3-4263-937b-82d96775e678",
   "metadata": {},
   "outputs": [],
   "source": [
    "# 구구단 출력 2단부터 차례대로 출력하세요"
   ]
  },
  {
   "cell_type": "code",
   "execution_count": null,
   "id": "3456f428-8f31-4823-8f9d-7f2872cbe786",
   "metadata": {},
   "outputs": [],
   "source": []
  },
  {
   "cell_type": "code",
   "execution_count": null,
   "id": "283fbac1-7d1c-4bd9-8f99-821d681114e3",
   "metadata": {},
   "outputs": [],
   "source": [
    "for x in range(2,10):\n",
    "    print('\\n-----', x, '단 -----')\n",
    "    for y in range(1,10):\n",
    "        print(x,'*',y,' = ', x*y)"
   ]
  },
  {
   "cell_type": "code",
   "execution_count": null,
   "id": "a86740e9-7dce-45db-bd54-2e9245563836",
   "metadata": {},
   "outputs": [],
   "source": [
    "for x in range(1,10):\n",
    "    for y in range(2,10):\n",
    "        print(y, ' * ',x,' = ', x*y, end='     ')\n",
    "    print()"
   ]
  },
  {
   "cell_type": "code",
   "execution_count": null,
   "id": "65c48a78-e1e9-4732-a9d1-f03281caad5e",
   "metadata": {},
   "outputs": [],
   "source": [
    "for x in range(2,10):\n",
    "    print('\\n-----', x, '단 -----')\n",
    "    for y in range(1,10):\n",
    "        if x == 5: break\n",
    "        print(x,'*',y,' = ', x*y)"
   ]
  },
  {
   "cell_type": "code",
   "execution_count": null,
   "id": "8a289c0d-7fc0-4554-ac15-94c091b6dcf7",
   "metadata": {},
   "outputs": [],
   "source": [
    "for x in range(2,10):\n",
    "    if x == 5: continue\n",
    "    print('\\n-----', x, '단 -----')\n",
    "    for y in range(1,10):\n",
    "        print(x,'*',y,' = ', x*y)"
   ]
  },
  {
   "cell_type": "code",
   "execution_count": null,
   "id": "99ca3ff1-93d0-46d7-b6e8-0984b241353d",
   "metadata": {},
   "outputs": [],
   "source": [
    "#짝수단만 출력해보세요"
   ]
  },
  {
   "cell_type": "code",
   "execution_count": 11,
   "id": "0d07beaf-db67-4fbf-864f-f8a69849c5d3",
   "metadata": {},
   "outputs": [
    {
     "name": "stdout",
     "output_type": "stream",
     "text": [
      "\n",
      "----- 2 단 -----\n",
      "2 * 1  =  2\n",
      "2 * 2  =  4\n",
      "2 * 3  =  6\n",
      "2 * 4  =  8\n",
      "2 * 5  =  10\n",
      "2 * 6  =  12\n",
      "2 * 7  =  14\n",
      "2 * 8  =  16\n",
      "2 * 9  =  18\n",
      "\n",
      "----- 4 단 -----\n",
      "4 * 1  =  4\n",
      "4 * 2  =  8\n",
      "4 * 3  =  12\n",
      "4 * 4  =  16\n",
      "4 * 5  =  20\n",
      "4 * 6  =  24\n",
      "4 * 7  =  28\n",
      "4 * 8  =  32\n",
      "4 * 9  =  36\n",
      "\n",
      "----- 6 단 -----\n",
      "6 * 1  =  6\n",
      "6 * 2  =  12\n",
      "6 * 3  =  18\n",
      "6 * 4  =  24\n",
      "6 * 5  =  30\n",
      "6 * 6  =  36\n",
      "6 * 7  =  42\n",
      "6 * 8  =  48\n",
      "6 * 9  =  54\n",
      "\n",
      "----- 8 단 -----\n",
      "8 * 1  =  8\n",
      "8 * 2  =  16\n",
      "8 * 3  =  24\n",
      "8 * 4  =  32\n",
      "8 * 5  =  40\n",
      "8 * 6  =  48\n",
      "8 * 7  =  56\n",
      "8 * 8  =  64\n",
      "8 * 9  =  72\n"
     ]
    }
   ],
   "source": [
    "for x in range(2,10):\n",
    "    if (x%2) == 1 :\n",
    "        continue\n",
    "    print('\\n-----', x, '단 -----')\n",
    "    for y in range(1,10):\n",
    "        print(x,'*',y,' = ', x*y)"
   ]
  },
  {
   "cell_type": "code",
   "execution_count": 12,
   "id": "8f053542-88c0-413a-97be-bfa6dd2709a3",
   "metadata": {},
   "outputs": [
    {
     "name": "stdout",
     "output_type": "stream",
     "text": [
      "5\n",
      "4\n",
      "3\n",
      "2\n",
      "1\n"
     ]
    }
   ],
   "source": [
    "data = [1,2,3,4,5]\n",
    "while(data):\n",
    "    print(data.pop())"
   ]
  },
  {
   "cell_type": "code",
   "execution_count": 1,
   "id": "370f022e-f2ca-4e4e-9d29-c278333bb865",
   "metadata": {},
   "outputs": [
    {
     "name": "stdin",
     "output_type": "stream",
     "text": [
      "1. 데이터 입력, 2. 데이터 수정, 3. 데이터 삭제, 4. 종료 >>> 1\n",
      "1. 데이터 입력, 2. 데이터 수정, 3. 데이터 삭제, 4. 종료 >>> 2\n",
      "1. 데이터 입력, 2. 데이터 수정, 3. 데이터 삭제, 4. 종료 >>> 4\n"
     ]
    },
    {
     "name": "stdout",
     "output_type": "stream",
     "text": [
      "프로그램 종료\n"
     ]
    }
   ],
   "source": [
    "while(1):\n",
    "    menu = input('1. 데이터 입력, 2. 데이터 수정, 3. 데이터 삭제, 4. 종료 >>>')\n",
    "    if menu == '1':\n",
    "        pass\n",
    "    elif menu == '2':\n",
    "        pass\n",
    "    elif menu == '3':\n",
    "        pass\n",
    "    elif menu == '4':\n",
    "        print('프로그램 종료')\n",
    "        break"
   ]
  },
  {
   "cell_type": "code",
   "execution_count": 3,
   "id": "4fb7c79d-db5e-4475-89af-4aca34de18e1",
   "metadata": {},
   "outputs": [],
   "source": [
    "import random"
   ]
  },
  {
   "cell_type": "code",
   "execution_count": 6,
   "id": "de15444d-8de6-464f-9c94-f20c6b072e9d",
   "metadata": {
    "tags": []
   },
   "outputs": [
    {
     "name": "stdout",
     "output_type": "stream",
     "text": [
      "69\n"
     ]
    },
    {
     "name": "stdin",
     "output_type": "stream",
     "text": [
      "숫자를 맞혀보세요.(1~100) >>> 22\n"
     ]
    },
    {
     "name": "stdout",
     "output_type": "stream",
     "text": [
      "숫자가 너무 작습니다.\n"
     ]
    },
    {
     "name": "stdin",
     "output_type": "stream",
     "text": [
      "숫자를 맞혀보세요.(1~100) >>>  55\n"
     ]
    },
    {
     "name": "stdout",
     "output_type": "stream",
     "text": [
      "숫자가 너무 작습니다.\n"
     ]
    },
    {
     "name": "stdin",
     "output_type": "stream",
     "text": [
      "숫자를 맞혀보세요.(1~100) >>>  66\n"
     ]
    },
    {
     "name": "stdout",
     "output_type": "stream",
     "text": [
      "숫자가 너무 작습니다.\n"
     ]
    },
    {
     "name": "stdin",
     "output_type": "stream",
     "text": [
      "숫자를 맞혀보세요.(1~100) >>>  69\n"
     ]
    },
    {
     "name": "stdout",
     "output_type": "stream",
     "text": [
      "정답입니다. 입력한 숫자는  69\n"
     ]
    }
   ],
   "source": [
    "guess_number = random.randint(1,100)\n",
    "print(guess_number)\n",
    "users_input = int(input('숫자를 맞혀보세요.(1~100) >>>'))\n",
    "while(users_input is not guess_number):\n",
    "    if users_input > guess_number:\n",
    "        print('숫자가 너무 큽니다.')\n",
    "    else:\n",
    "        print('숫자가 너무 작습니다.')\n",
    "    users_input = int(input('숫자를 맞혀보세요.(1~100) >>> '))\n",
    "print('정답입니다. 입력한 숫자는 ', users_input)"
   ]
  },
  {
   "cell_type": "code",
   "execution_count": 3,
   "id": "a8a6b4f4-fbf2-4ba9-9889-888b43bdb57e",
   "metadata": {},
   "outputs": [],
   "source": [
    "## 로또 번호 생성\n",
    "# 5 세트의 번호를 추출합니다.\n",
    "# 1 세트에 번호는 6개를 추출합니다.(1~45의 범위에서 추출)\n",
    "# 6개의 번호는 중복되지 않습니다.\n",
    "# 추출 후 번호는 오름차순으로 정렬해서 출력합니다."
   ]
  },
  {
   "cell_type": "code",
   "execution_count": 8,
   "id": "f720770d-912a-43f2-ac82-131f95a734e9",
   "metadata": {},
   "outputs": [
    {
     "name": "stdout",
     "output_type": "stream",
     "text": [
      "[15, 17, 23, 25, 28, 40]\n",
      "[9, 13, 19, 22, 24, 45]\n",
      "[4, 20, 34, 36, 37, 41]\n",
      "[17, 18, 22, 26, 29, 38]\n",
      "[8, 11, 14, 19, 22, 36]\n"
     ]
    }
   ],
   "source": [
    "result = []\n",
    "for i in range(5):\n",
    "    lotto = [0,0,0,0,0,0]\n",
    "    for x in range(6):\n",
    "        num = 0\n",
    "        while(num in lotto):\n",
    "            num = random.randint(1,45)\n",
    "        lotto[x] = num\n",
    "    lotto.sort()\n",
    "    result.append(lotto)\n",
    "    print(lotto)"
   ]
  },
  {
   "cell_type": "code",
   "execution_count": 10,
   "id": "449e5add-a588-4ea7-9cb9-9a1c24536fdb",
   "metadata": {},
   "outputs": [
    {
     "name": "stdout",
     "output_type": "stream",
     "text": [
      "[1, 14, 16, 18, 43, 45]\n",
      "[2, 4, 20, 23, 39, 40]\n",
      "[4, 9, 15, 18, 21, 39]\n",
      "[13, 16, 22, 38, 43, 45]\n",
      "[11, 20, 25, 26, 27, 41]\n"
     ]
    }
   ],
   "source": [
    "for i in range(5):\n",
    "    print(sorted(random.sample(range(1,46),6)))"
   ]
  },
  {
   "cell_type": "code",
   "execution_count": 2,
   "id": "934e6f3f-0fa7-4dcf-b6ef-53f0c7a78254",
   "metadata": {},
   "outputs": [
    {
     "ename": "SyntaxError",
     "evalue": "invalid syntax (82194392.py, line 1)",
     "output_type": "error",
     "traceback": [
      "\u001b[1;36m  File \u001b[1;32m\"C:\\Users\\admin\\AppData\\Local\\Temp\\ipykernel_12172\\82194392.py\"\u001b[1;36m, line \u001b[1;32m1\u001b[0m\n\u001b[1;33m    1. 야구 게임\u001b[0m\n\u001b[1;37m       ^\u001b[0m\n\u001b[1;31mSyntaxError\u001b[0m\u001b[1;31m:\u001b[0m invalid syntax\n"
     ]
    }
   ],
   "source": [
    "1. 야구 게임\n",
    "중복되지 않는 3자리 숫자를 컴퓨터가 정하면 그 숫자를 맞출 때까지 반복한다. (0은 제외)\n",
    "숫자와 자리 위치까지 일치하면 스트라이크\n",
    "숫자는 있는데 자리는 맞지 않다면 볼\n",
    "스트라이크가 3개가 되면 맞춘 것이므로 멈춘다. \n",
    "몇 번만에 맞춘 것인지 횟수도 체크한다.\n",
    "\n",
    "컴퓨터 246  입력 128  1볼\n",
    "컴퓨터 246  입력 279  1스트라이크"
   ]
  },
  {
   "cell_type": "code",
   "execution_count": null,
   "id": "07ab763c-9088-4b21-8d01-8c44ad542823",
   "metadata": {},
   "outputs": [],
   "source": []
  },
  {
   "cell_type": "code",
   "execution_count": 2,
   "id": "f4be4aa6-2201-4e2c-a924-83b065a72df6",
   "metadata": {},
   "outputs": [
    {
     "ename": "SyntaxError",
     "evalue": "invalid syntax (3317695482.py, line 1)",
     "output_type": "error",
     "traceback": [
      "\u001b[1;36m  File \u001b[1;32m\"C:\\Users\\admin\\AppData\\Local\\Temp\\ipykernel_22152\\3317695482.py\"\u001b[1;36m, line \u001b[1;32m1\u001b[0m\n\u001b[1;33m    2. 사칙연산 게임\u001b[0m\n\u001b[1;37m       ^\u001b[0m\n\u001b[1;31mSyntaxError\u001b[0m\u001b[1;31m:\u001b[0m invalid syntax\n"
     ]
    }
   ],
   "source": [
    "2. 사칙연산 게임\n",
    "컴퓨터가 사칙연산 문제를 내면 답을 맞추는 게임\n",
    "컴퓨터는 두 개의 숫자와 연산자를 무작위로 선택한다.\n",
    "숫자값은 1~50 범위에서 선택\n",
    "사칙연산만 가능, 나누기는 결과값을 정수로 변경 후 처리.\n",
    "\n",
    "컴퓨터  2 + 4\n",
    "        5 - 8\n",
    "        3 * 4\n",
    "        8 / 3 -> 답은 2로 처리"
   ]
  },
  {
   "cell_type": "code",
   "execution_count": null,
   "id": "906ea3d6-ec99-4c44-8712-14042f392499",
   "metadata": {},
   "outputs": [],
   "source": []
  }
 ],
 "metadata": {
  "kernelspec": {
   "display_name": "Python 3 (ipykernel)",
   "language": "python",
   "name": "python3"
  },
  "language_info": {
   "codemirror_mode": {
    "name": "ipython",
    "version": 3
   },
   "file_extension": ".py",
   "mimetype": "text/x-python",
   "name": "python",
   "nbconvert_exporter": "python",
   "pygments_lexer": "ipython3",
   "version": "3.9.13"
  }
 },
 "nbformat": 4,
 "nbformat_minor": 5
}
