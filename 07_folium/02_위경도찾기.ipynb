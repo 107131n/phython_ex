{
 "cells": [
  {
   "cell_type": "code",
   "execution_count": 1,
   "id": "71240b22-314e-47ab-9a13-26bca8ce7254",
   "metadata": {},
   "outputs": [],
   "source": [
    "# https://developers.kakao.com/docs/latest/ko/local/dev-guide"
   ]
  },
  {
   "cell_type": "code",
   "execution_count": 2,
   "id": "b5d2f19f-fad0-48c7-aaa6-4e3a63535405",
   "metadata": {},
   "outputs": [],
   "source": [
    "REST_API_KEY = '8f7c4764339397218bd8c18f6d678579'"
   ]
  },
  {
   "cell_type": "raw",
   "id": "15733146-4ef0-46ff-970c-d28cc8186d36",
   "metadata": {},
   "source": [
    "curl -v -X GET \"https://dapi.kakao.com/v2/local/search/address.json\" \\\n",
    "  -H \"Authorization: KakaoAK ${REST_API_KEY}\" \\\n",
    "  --data-urlencode \"query=전북 삼성동 100\" "
   ]
  },
  {
   "cell_type": "code",
   "execution_count": 3,
   "id": "4222c23a-d229-44de-b120-0f96470e1e0f",
   "metadata": {},
   "outputs": [],
   "source": [
    "import requests"
   ]
  },
  {
   "cell_type": "code",
   "execution_count": 4,
   "id": "4f783977-60d2-4c6c-8e9f-8a02b7c6fd2d",
   "metadata": {},
   "outputs": [],
   "source": [
    "url = \"https://dapi.kakao.com/v2/local/search/address.json?query={}\".format('전북 삼성동 100')\n",
    "headers = {'Authorization':f'KakaoAK {REST_API_KEY}'}\n",
    "res = requests.get(url,headers=headers)\n",
    "jsondata = res.json()"
   ]
  },
  {
   "cell_type": "code",
   "execution_count": 5,
   "id": "c9939fa3-34f8-4af2-a08e-fe29cca75819",
   "metadata": {},
   "outputs": [
    {
     "data": {
      "text/plain": [
       "{'documents': [{'address': {'address_name': '전북 익산시 부송동 100',\n",
       "    'b_code': '4514013400',\n",
       "    'h_code': '4514069000',\n",
       "    'main_address_no': '100',\n",
       "    'mountain_yn': 'N',\n",
       "    'region_1depth_name': '전북',\n",
       "    'region_2depth_name': '익산시',\n",
       "    'region_3depth_h_name': '삼성동',\n",
       "    'region_3depth_name': '부송동',\n",
       "    'sub_address_no': '',\n",
       "    'x': '126.99597495347',\n",
       "    'y': '35.9766482774579'},\n",
       "   'address_name': '전북 익산시 부송동 100',\n",
       "   'address_type': 'REGION_ADDR',\n",
       "   'road_address': None,\n",
       "   'x': '126.99597495347',\n",
       "   'y': '35.9766482774579'},\n",
       "  {'address': {'address_name': '전북 익산시 임상동 100',\n",
       "    'b_code': '4514013200',\n",
       "    'h_code': '4514069000',\n",
       "    'main_address_no': '100',\n",
       "    'mountain_yn': 'N',\n",
       "    'region_1depth_name': '전북',\n",
       "    'region_2depth_name': '익산시',\n",
       "    'region_3depth_h_name': '삼성동',\n",
       "    'region_3depth_name': '임상동',\n",
       "    'sub_address_no': '',\n",
       "    'x': '126.980268573424',\n",
       "    'y': '35.9816612949055'},\n",
       "   'address_name': '전북 익산시 임상동 100',\n",
       "   'address_type': 'REGION_ADDR',\n",
       "   'road_address': None,\n",
       "   'x': '126.980268573424',\n",
       "   'y': '35.9816612949055'},\n",
       "  {'address': {'address_name': '전북 익산시 정족동 100',\n",
       "    'b_code': '4514013100',\n",
       "    'h_code': '4514069000',\n",
       "    'main_address_no': '100',\n",
       "    'mountain_yn': 'N',\n",
       "    'region_1depth_name': '전북',\n",
       "    'region_2depth_name': '익산시',\n",
       "    'region_3depth_h_name': '삼성동',\n",
       "    'region_3depth_name': '정족동',\n",
       "    'sub_address_no': '',\n",
       "    'x': '127.002020445866',\n",
       "    'y': '35.9829740190924'},\n",
       "   'address_name': '전북 익산시 정족동 100',\n",
       "   'address_type': 'REGION_ADDR',\n",
       "   'road_address': None,\n",
       "   'x': '127.002020445866',\n",
       "   'y': '35.9829740190924'}],\n",
       " 'meta': {'is_end': True, 'pageable_count': 3, 'total_count': 3}}"
      ]
     },
     "execution_count": 5,
     "metadata": {},
     "output_type": "execute_result"
    }
   ],
   "source": [
    "jsondata"
   ]
  },
  {
   "cell_type": "code",
   "execution_count": 6,
   "id": "28349c58-d396-4931-bf06-d81171fdab90",
   "metadata": {},
   "outputs": [
    {
     "data": {
      "text/plain": [
       "('35.9766482774579', '126.99597495347')"
      ]
     },
     "execution_count": 6,
     "metadata": {},
     "output_type": "execute_result"
    }
   ],
   "source": [
    "jsondata['documents'][0]['address']['y'],jsondata['documents'][0]['address']['x']"
   ]
  },
  {
   "cell_type": "raw",
   "id": "0e538354-1be7-4d2c-be3e-6def807ec0f6",
   "metadata": {},
   "source": [
    "curl -v -X GET \"https://dapi.kakao.com/v2/local/search/keyword.json?y=37.514322572335935&x=127.06283102249932&radius=20000\" \\\n",
    "  -H \"Authorization: KakaoAK ${REST_API_KEY}\" \\\n",
    "  --data-urlencode \"query=카카오프렌즈\" "
   ]
  },
  {
   "cell_type": "code",
   "execution_count": 7,
   "id": "cd8b0ccf-b064-4c07-90d8-5c2dc1fd1603",
   "metadata": {},
   "outputs": [],
   "source": [
    "query = '카카오프렌즈'\n",
    "y=37.514322572335935\n",
    "x=127.06283102249932\n",
    "radius=2000\n",
    "url = f'https://dapi.kakao.com/v2/local/search/keyword.json?y={y}&x={x}&radius={radius}&query={query}'\n",
    "headers = {'Authorization':f'KakaoAK {REST_API_KEY}'}\n",
    "res = requests.get(url,headers=headers)\n",
    "jsondata = res.json()"
   ]
  },
  {
   "cell_type": "code",
   "execution_count": 8,
   "id": "061813b0-0f05-4488-b5dc-65603c91209b",
   "metadata": {},
   "outputs": [
    {
     "data": {
      "text/plain": [
       "{'documents': [{'address_name': '서울 강남구 삼성동 159',\n",
       "   'category_group_code': '',\n",
       "   'category_group_name': '',\n",
       "   'category_name': '가정,생활 > 문구,사무용품 > 디자인문구 > 카카오프렌즈',\n",
       "   'distance': '418',\n",
       "   'id': '26338954',\n",
       "   'phone': '02-6002-1880',\n",
       "   'place_name': '카카오프렌즈 스타필드 코엑스몰점',\n",
       "   'place_url': 'http://place.map.kakao.com/26338954',\n",
       "   'road_address_name': '서울 강남구 영동대로 513',\n",
       "   'x': '127.059028716089',\n",
       "   'y': '37.5120756277877'}],\n",
       " 'meta': {'is_end': True,\n",
       "  'pageable_count': 1,\n",
       "  'same_name': {'keyword': '카카오프렌즈', 'region': [], 'selected_region': ''},\n",
       "  'total_count': 1}}"
      ]
     },
     "execution_count": 8,
     "metadata": {},
     "output_type": "execute_result"
    }
   ],
   "source": [
    "jsondata"
   ]
  },
  {
   "cell_type": "code",
   "execution_count": 9,
   "id": "c1bed4a1-6726-47bf-839c-c58c38605322",
   "metadata": {},
   "outputs": [
    {
     "name": "stdout",
     "output_type": "stream",
     "text": [
      "Requirement already satisfied: geopy in c:\\users\\admin\\anaconda3\\lib\\site-packages (2.3.0)\n",
      "Requirement already satisfied: geographiclib<3,>=1.52 in c:\\users\\admin\\anaconda3\\lib\\site-packages (from geopy) (2.0)\n"
     ]
    }
   ],
   "source": [
    "!pip install geopy"
   ]
  },
  {
   "cell_type": "code",
   "execution_count": 10,
   "id": "de32f614-14b1-4956-a09b-62973f65451e",
   "metadata": {},
   "outputs": [],
   "source": [
    "from geopy.geocoders import Nominatim"
   ]
  },
  {
   "cell_type": "code",
   "execution_count": 11,
   "id": "16626349-7b81-4702-8397-314dd9b13752",
   "metadata": {},
   "outputs": [],
   "source": [
    "geolocator = Nominatim(user_agent='chiricuto')"
   ]
  },
  {
   "cell_type": "code",
   "execution_count": 12,
   "id": "fec59982-1869-4bdd-aee2-ae1696436865",
   "metadata": {},
   "outputs": [],
   "source": [
    "result = geolocator.geocode('광주광역시 광산구 소촌로152번길 37')"
   ]
  },
  {
   "cell_type": "code",
   "execution_count": 13,
   "id": "03d525c1-9f11-4dc5-a9c3-0e452f4d3fee",
   "metadata": {},
   "outputs": [
    {
     "data": {
      "text/plain": [
       "126.795781369881"
      ]
     },
     "execution_count": 13,
     "metadata": {},
     "output_type": "execute_result"
    }
   ],
   "source": [
    "result.longitude"
   ]
  },
  {
   "cell_type": "code",
   "execution_count": 14,
   "id": "1fb575eb-e484-4108-a6dc-68746aadf3ae",
   "metadata": {},
   "outputs": [
    {
     "data": {
      "text/plain": [
       "35.158271150000004"
      ]
     },
     "execution_count": 14,
     "metadata": {},
     "output_type": "execute_result"
    }
   ],
   "source": [
    "result.latitude"
   ]
  }
 ],
 "metadata": {
  "kernelspec": {
   "display_name": "Python 3 (ipykernel)",
   "language": "python",
   "name": "python3"
  },
  "language_info": {
   "codemirror_mode": {
    "name": "ipython",
    "version": 3
   },
   "file_extension": ".py",
   "mimetype": "text/x-python",
   "name": "python",
   "nbconvert_exporter": "python",
   "pygments_lexer": "ipython3",
   "version": "3.9.13"
  }
 },
 "nbformat": 4,
 "nbformat_minor": 5
}
