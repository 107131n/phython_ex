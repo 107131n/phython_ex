{
 "cells": [
  {
   "cell_type": "code",
   "execution_count": 1,
   "id": "487f82df-f007-4cc1-a58e-6bda56630748",
   "metadata": {},
   "outputs": [],
   "source": [
    "a = 'abcde'"
   ]
  },
  {
   "cell_type": "code",
   "execution_count": 2,
   "id": "6025ebf2-b373-4d56-b962-20f3b79ffb48",
   "metadata": {},
   "outputs": [
    {
     "data": {
      "text/plain": [
       "'d'"
      ]
     },
     "execution_count": 2,
     "metadata": {},
     "output_type": "execute_result"
    }
   ],
   "source": [
    "a[3]"
   ]
  },
  {
   "cell_type": "code",
   "execution_count": 3,
   "id": "95680b2a-401e-4b5e-8310-eda962351861",
   "metadata": {},
   "outputs": [],
   "source": [
    "a = \"TEAMLAB MOOC, AWESOME Python\""
   ]
  },
  {
   "cell_type": "code",
   "execution_count": 4,
   "id": "6dc56b03-93eb-41f7-b823-cc8f37b73c62",
   "metadata": {},
   "outputs": [
    {
     "name": "stdout",
     "output_type": "stream",
     "text": [
      "TEAMLA and ME Python\n"
     ]
    }
   ],
   "source": [
    "print(a[0:6], \"and\", a[-9:])"
   ]
  },
  {
   "cell_type": "code",
   "execution_count": 5,
   "id": "feacb58c-40b6-47fb-a37b-f044f727100d",
   "metadata": {},
   "outputs": [
    {
     "name": "stdout",
     "output_type": "stream",
     "text": [
      "TEAMLAB MOOC, AWESOME Python\n"
     ]
    }
   ],
   "source": [
    "print(a[:])"
   ]
  },
  {
   "cell_type": "code",
   "execution_count": 6,
   "id": "7c358933-62be-4c4e-bb3e-7d2e78c3f2d1",
   "metadata": {},
   "outputs": [
    {
     "name": "stdout",
     "output_type": "stream",
     "text": [
      "TEAMLAB MOOC, AWESOME Python\n"
     ]
    }
   ],
   "source": [
    "print(a[-50:50])"
   ]
  },
  {
   "cell_type": "code",
   "execution_count": 8,
   "id": "a618930a-b57c-49e6-8787-8de11097c4b8",
   "metadata": {},
   "outputs": [
    {
     "name": "stdout",
     "output_type": "stream",
     "text": [
      "TALBMO,AEOEPto AND nohtyP EMOSEWA ,COOM BALMAET\n"
     ]
    }
   ],
   "source": [
    "print(a[::2], \"AND\", a[::-1])"
   ]
  },
  {
   "cell_type": "code",
   "execution_count": 9,
   "id": "699ecbdb-f93b-4533-b600-8a1d2ba6a967",
   "metadata": {},
   "outputs": [],
   "source": [
    "a = \"TEAM\""
   ]
  },
  {
   "cell_type": "code",
   "execution_count": 10,
   "id": "a695e363-d8f0-4956-8b49-6f5227aa9574",
   "metadata": {},
   "outputs": [],
   "source": [
    "b = \"LAB\""
   ]
  },
  {
   "cell_type": "code",
   "execution_count": 11,
   "id": "68db6cc4-d609-46a1-8213-6be8950ffb98",
   "metadata": {},
   "outputs": [
    {
     "name": "stdout",
     "output_type": "stream",
     "text": [
      "TEAM LAB\n"
     ]
    }
   ],
   "source": [
    "print(a+\" \"+b)"
   ]
  },
  {
   "cell_type": "code",
   "execution_count": 12,
   "id": "f1b5ce6d-4224-40e3-8ea6-7aa154dfa124",
   "metadata": {},
   "outputs": [],
   "source": [
    "a = 'abcde'"
   ]
  },
  {
   "cell_type": "code",
   "execution_count": 13,
   "id": "a0051229-32b9-4011-be30-33a970eb5aa2",
   "metadata": {},
   "outputs": [
    {
     "data": {
      "text/plain": [
       "5"
      ]
     },
     "execution_count": 13,
     "metadata": {},
     "output_type": "execute_result"
    }
   ],
   "source": [
    "len(a)"
   ]
  },
  {
   "cell_type": "code",
   "execution_count": 42,
   "id": "64541913-d052-41b7-8e12-6a8f713caaee",
   "metadata": {},
   "outputs": [],
   "source": [
    "title = 'TEAMLAB X inflearn'"
   ]
  },
  {
   "cell_type": "code",
   "execution_count": 18,
   "id": "693509a8-7900-4020-9ed8-fa97b9f2f052",
   "metadata": {},
   "outputs": [
    {
     "data": {
      "text/plain": [
       "'TEAMLAB X INFLEARN'"
      ]
     },
     "execution_count": 18,
     "metadata": {},
     "output_type": "execute_result"
    }
   ],
   "source": [
    "title.upper()"
   ]
  },
  {
   "cell_type": "code",
   "execution_count": 19,
   "id": "2eaeaeb4-6a83-487a-89bc-bb7f98cb8cbf",
   "metadata": {},
   "outputs": [
    {
     "data": {
      "text/plain": [
       "'teamlab x inflearn'"
      ]
     },
     "execution_count": 19,
     "metadata": {},
     "output_type": "execute_result"
    }
   ],
   "source": [
    "title.lower()"
   ]
  },
  {
   "cell_type": "code",
   "execution_count": 20,
   "id": "4017d53c-5c75-4e41-afa7-3dbc9d9f89e5",
   "metadata": {},
   "outputs": [
    {
     "data": {
      "text/plain": [
       "'Teamlab X Inflearn'"
      ]
     },
     "execution_count": 20,
     "metadata": {},
     "output_type": "execute_result"
    }
   ],
   "source": [
    "title.title()"
   ]
  },
  {
   "cell_type": "code",
   "execution_count": 21,
   "id": "cd9ea2f5-2bac-4e32-b548-524b4657805d",
   "metadata": {},
   "outputs": [
    {
     "data": {
      "text/plain": [
       "'Teamlab x inflearn'"
      ]
     },
     "execution_count": 21,
     "metadata": {},
     "output_type": "execute_result"
    }
   ],
   "source": [
    "title.capitalize()"
   ]
  },
  {
   "cell_type": "code",
   "execution_count": 24,
   "id": "3c29d59d-80d8-4bd7-86f7-0f025ec39e5c",
   "metadata": {},
   "outputs": [
    {
     "data": {
      "text/plain": [
       "2"
      ]
     },
     "execution_count": 24,
     "metadata": {},
     "output_type": "execute_result"
    }
   ],
   "source": [
    "title.lower().count('e')"
   ]
  },
  {
   "cell_type": "code",
   "execution_count": 31,
   "id": "69b62dc1-fca9-4dce-82c8-ff0cca3a7d49",
   "metadata": {},
   "outputs": [
    {
     "data": {
      "text/plain": [
       "1"
      ]
     },
     "execution_count": 31,
     "metadata": {},
     "output_type": "execute_result"
    }
   ],
   "source": [
    "title.count('e', 0, 15)"
   ]
  },
  {
   "cell_type": "code",
   "execution_count": 28,
   "id": "4be37e9c-f9bc-4788-8e7f-725240216ce7",
   "metadata": {},
   "outputs": [
    {
     "data": {
      "text/plain": [
       "1"
      ]
     },
     "execution_count": 28,
     "metadata": {},
     "output_type": "execute_result"
    }
   ],
   "source": [
    "title.find('E')"
   ]
  },
  {
   "cell_type": "code",
   "execution_count": 27,
   "id": "c8a5dd80-54a0-49eb-9d1c-c0d8deebfcc1",
   "metadata": {},
   "outputs": [
    {
     "data": {
      "text/plain": [
       "14"
      ]
     },
     "execution_count": 27,
     "metadata": {},
     "output_type": "execute_result"
    }
   ],
   "source": [
    "title.rfind('e')"
   ]
  },
  {
   "cell_type": "code",
   "execution_count": 33,
   "id": "7ba2f08c-e8c6-4c36-ab12-e4815b30ec47",
   "metadata": {},
   "outputs": [
    {
     "data": {
      "text/plain": [
       "True"
      ]
     },
     "execution_count": 33,
     "metadata": {},
     "output_type": "execute_result"
    }
   ],
   "source": [
    "title.startswith('T')"
   ]
  },
  {
   "cell_type": "code",
   "execution_count": 34,
   "id": "07c05f4c-fced-436b-894e-308e6132ba92",
   "metadata": {},
   "outputs": [
    {
     "data": {
      "text/plain": [
       "True"
      ]
     },
     "execution_count": 34,
     "metadata": {},
     "output_type": "execute_result"
    }
   ],
   "source": [
    "title.startswith('TEAM')"
   ]
  },
  {
   "cell_type": "code",
   "execution_count": 35,
   "id": "fa54a180-0803-4bda-9b1b-7f8058b92df2",
   "metadata": {},
   "outputs": [
    {
     "data": {
      "text/plain": [
       "True"
      ]
     },
     "execution_count": 35,
     "metadata": {},
     "output_type": "execute_result"
    }
   ],
   "source": [
    "title.endswith('rn')"
   ]
  },
  {
   "cell_type": "code",
   "execution_count": 43,
   "id": "9d712775-1ff4-4a93-a0cc-6d570bcb82d6",
   "metadata": {},
   "outputs": [
    {
     "data": {
      "text/plain": [
       "['TEAMLAB', 'X', 'inflearn']"
      ]
     },
     "execution_count": 43,
     "metadata": {},
     "output_type": "execute_result"
    }
   ],
   "source": [
    "title.split()"
   ]
  },
  {
   "cell_type": "code",
   "execution_count": 44,
   "id": "e45c4bba-7a8e-4a92-8edc-7ae3560ffe13",
   "metadata": {},
   "outputs": [
    {
     "data": {
      "text/plain": [
       "False"
      ]
     },
     "execution_count": 44,
     "metadata": {},
     "output_type": "execute_result"
    }
   ],
   "source": [
    "title.isdigit()"
   ]
  },
  {
   "cell_type": "code",
   "execution_count": 45,
   "id": "b5be65b0-502e-40f9-a0a6-031cac616d58",
   "metadata": {},
   "outputs": [
    {
     "data": {
      "text/plain": [
       "False"
      ]
     },
     "execution_count": 45,
     "metadata": {},
     "output_type": "execute_result"
    }
   ],
   "source": [
    "title.islower()"
   ]
  },
  {
   "cell_type": "code",
   "execution_count": 46,
   "id": "e58c1686-82f0-4dec-b573-3af12b6e7161",
   "metadata": {},
   "outputs": [
    {
     "data": {
      "text/plain": [
       "False"
      ]
     },
     "execution_count": 46,
     "metadata": {},
     "output_type": "execute_result"
    }
   ],
   "source": [
    "title.isupper()"
   ]
  },
  {
   "cell_type": "code",
   "execution_count": 51,
   "id": "787500ba-e5a5-45d6-a506-bb6d8f5849ba",
   "metadata": {},
   "outputs": [],
   "source": [
    "a = \"I eat %d apples\" % 3"
   ]
  },
  {
   "cell_type": "code",
   "execution_count": 50,
   "id": "6b7fdead-df18-43d6-82b5-6046c061ac97",
   "metadata": {},
   "outputs": [
    {
     "data": {
      "text/plain": [
       "'I eat 3 apples'"
      ]
     },
     "execution_count": 50,
     "metadata": {},
     "output_type": "execute_result"
    }
   ],
   "source": [
    "a"
   ]
  },
  {
   "cell_type": "markdown",
   "id": "d3ddf599-6d50-43b8-bed3-a51a240c5d1e",
   "metadata": {},
   "source": [
    "# count = input('사과의 개수는 >>> ')\n",
    "a = 'I eat %s apples' % (count)"
   ]
  },
  {
   "cell_type": "code",
   "execution_count": 60,
   "id": "4d026f51-2f03-4d69-817f-07397d89c3c5",
   "metadata": {},
   "outputs": [
    {
     "data": {
      "text/plain": [
       "'I eat 33 apples'"
      ]
     },
     "execution_count": 60,
     "metadata": {},
     "output_type": "execute_result"
    }
   ],
   "source": [
    "a"
   ]
  },
  {
   "cell_type": "code",
   "execution_count": 64,
   "id": "27defff4-de23-4538-bcad-cffbb5af24a0",
   "metadata": {},
   "outputs": [
    {
     "data": {
      "text/plain": [
       "'    3.4213'"
      ]
     },
     "execution_count": 64,
     "metadata": {},
     "output_type": "execute_result"
    }
   ],
   "source": [
    "\"%10.4f\" % 3.42134234"
   ]
  },
  {
   "cell_type": "code",
   "execution_count": 65,
   "id": "503b481f-7785-42cb-bfe2-787bc0465744",
   "metadata": {},
   "outputs": [
    {
     "data": {
      "text/plain": [
       "'I eat 3 apples'"
      ]
     },
     "execution_count": 65,
     "metadata": {},
     "output_type": "execute_result"
    }
   ],
   "source": [
    "'I eat {} apples'.format(3)"
   ]
  },
  {
   "cell_type": "code",
   "execution_count": 66,
   "id": "cb2704bf-bade-465f-856a-c0c78ff4badf",
   "metadata": {},
   "outputs": [
    {
     "data": {
      "text/plain": [
       "'I ate 10 apples. so I was sick for three days.'"
      ]
     },
     "execution_count": 66,
     "metadata": {},
     "output_type": "execute_result"
    }
   ],
   "source": [
    "number = 10\n",
    "day = \"three\"\n",
    "\"I ate {0} apples. so I was sick for {1} days.\".format(number, day)"
   ]
  },
  {
   "cell_type": "code",
   "execution_count": 67,
   "id": "2852c616-5ed4-4b1e-a245-4c0de053b3c3",
   "metadata": {},
   "outputs": [
    {
     "data": {
      "text/plain": [
       "'hi        '"
      ]
     },
     "execution_count": 67,
     "metadata": {},
     "output_type": "execute_result"
    }
   ],
   "source": [
    "\"{:<10}\".format(\"hi\")"
   ]
  },
  {
   "cell_type": "code",
   "execution_count": 70,
   "id": "810697cb-06d5-4cdf-970a-f53ed50fbe96",
   "metadata": {},
   "outputs": [
    {
     "data": {
      "text/plain": [
       "'====hi===='"
      ]
     },
     "execution_count": 70,
     "metadata": {},
     "output_type": "execute_result"
    }
   ],
   "source": [
    "\"{0:=^10}\".format(\"hi\")"
   ]
  },
  {
   "cell_type": "code",
   "execution_count": 74,
   "id": "9986004f-b610-4083-aefe-b22c8789f769",
   "metadata": {},
   "outputs": [
    {
     "data": {
      "text/plain": [
       "'나의 이름은 홍길동입니다. 나이는 24살입니다.'"
      ]
     },
     "execution_count": 74,
     "metadata": {},
     "output_type": "execute_result"
    }
   ],
   "source": [
    "name = '홍길동'\n",
    "age = 24\n",
    "f'나의 이름은 {name}입니다. 나이는 {age}살입니다.'"
   ]
  },
  {
   "cell_type": "code",
   "execution_count": 80,
   "id": "0a054ba7-7c06-49e3-93ef-238833e51656",
   "metadata": {},
   "outputs": [
    {
     "name": "stdin",
     "output_type": "stream",
     "text": [
      "이름은 >>>  5\n",
      "나이는 >>>  25\n"
     ]
    },
    {
     "name": "stdout",
     "output_type": "stream",
     "text": [
      "이름은     5     이고, 나이는 25.000000살입니다.\n"
     ]
    }
   ],
   "source": [
    "name = input('이름은 >>> ')\n",
    "age = int(input('나이는 >>> '))\n",
    "print(f'이름은 {name:^10}이고, 나이는 {age:1f}살입니다.')"
   ]
  },
  {
   "cell_type": "code",
   "execution_count": 83,
   "id": "afb30cb9-a44f-4d35-a031-d6777b5b398c",
   "metadata": {},
   "outputs": [],
   "source": [
    "dic = {'name': 'pey', 'phone':'010-3333-3333', 'birth': '980101'}"
   ]
  },
  {
   "cell_type": "code",
   "execution_count": 84,
   "id": "c648a765-36ba-41c4-97e9-856cd7862489",
   "metadata": {},
   "outputs": [
    {
     "data": {
      "text/plain": [
       "'pey'"
      ]
     },
     "execution_count": 84,
     "metadata": {},
     "output_type": "execute_result"
    }
   ],
   "source": [
    "dic['name']"
   ]
  },
  {
   "cell_type": "code",
   "execution_count": 85,
   "id": "7ba38dc7-6a04-416a-90de-9eb5921965cb",
   "metadata": {},
   "outputs": [
    {
     "data": {
      "text/plain": [
       "{'name': 'pey', 'phone': '010-3333-3333', 'birth': '980101'}"
      ]
     },
     "execution_count": 85,
     "metadata": {},
     "output_type": "execute_result"
    }
   ],
   "source": [
    "dic"
   ]
  },
  {
   "cell_type": "code",
   "execution_count": 86,
   "id": "71dd8789-719a-4749-9f34-b3c776c2f6d8",
   "metadata": {},
   "outputs": [],
   "source": [
    "dic['address'] = '광주'"
   ]
  },
  {
   "cell_type": "code",
   "execution_count": 87,
   "id": "3960fb85-e3db-4d8d-b295-b07518d379e2",
   "metadata": {},
   "outputs": [
    {
     "data": {
      "text/plain": [
       "{'name': 'pey', 'phone': '010-3333-3333', 'birth': '980101', 'address': '광주'}"
      ]
     },
     "execution_count": 87,
     "metadata": {},
     "output_type": "execute_result"
    }
   ],
   "source": [
    "dic"
   ]
  },
  {
   "cell_type": "code",
   "execution_count": 88,
   "id": "9f389f23-6e2b-4dd0-af60-e09921879af0",
   "metadata": {},
   "outputs": [],
   "source": [
    "dic['name'] = '홍길동'"
   ]
  },
  {
   "cell_type": "code",
   "execution_count": 89,
   "id": "1f50c977-a655-4c6b-96ac-01f64f0dca7d",
   "metadata": {},
   "outputs": [
    {
     "data": {
      "text/plain": [
       "{'name': '홍길동', 'phone': '010-3333-3333', 'birth': '980101', 'address': '광주'}"
      ]
     },
     "execution_count": 89,
     "metadata": {},
     "output_type": "execute_result"
    }
   ],
   "source": [
    "dic"
   ]
  },
  {
   "cell_type": "code",
   "execution_count": 90,
   "id": "2dd252cf-a06d-45ee-839c-0a51c2cf4dd1",
   "metadata": {},
   "outputs": [],
   "source": [
    "del dic['address']"
   ]
  },
  {
   "cell_type": "code",
   "execution_count": 91,
   "id": "9f8308f8-a1c7-4b24-9976-7363d38a1059",
   "metadata": {},
   "outputs": [
    {
     "data": {
      "text/plain": [
       "{'name': '홍길동', 'phone': '010-3333-3333', 'birth': '980101'}"
      ]
     },
     "execution_count": 91,
     "metadata": {},
     "output_type": "execute_result"
    }
   ],
   "source": [
    "dic"
   ]
  },
  {
   "cell_type": "code",
   "execution_count": 92,
   "id": "5c3039f2-12aa-4992-a2aa-5229182f5e8f",
   "metadata": {},
   "outputs": [
    {
     "data": {
      "text/plain": [
       "'홍길동'"
      ]
     },
     "execution_count": 92,
     "metadata": {},
     "output_type": "execute_result"
    }
   ],
   "source": [
    "dic['name']"
   ]
  },
  {
   "cell_type": "code",
   "execution_count": 93,
   "id": "c9ac6789-2618-4b2e-b242-0cfe1262a9bb",
   "metadata": {},
   "outputs": [
    {
     "data": {
      "text/plain": [
       "dict_keys(['name', 'phone', 'birth'])"
      ]
     },
     "execution_count": 93,
     "metadata": {},
     "output_type": "execute_result"
    }
   ],
   "source": [
    "dic.keys()"
   ]
  },
  {
   "cell_type": "code",
   "execution_count": 94,
   "id": "d1b329e9-86b9-45e1-b2a4-f531645a8d51",
   "metadata": {},
   "outputs": [
    {
     "data": {
      "text/plain": [
       "dict_values(['홍길동', '010-3333-3333', '980101'])"
      ]
     },
     "execution_count": 94,
     "metadata": {},
     "output_type": "execute_result"
    }
   ],
   "source": [
    "dic.values()"
   ]
  },
  {
   "cell_type": "code",
   "execution_count": 95,
   "id": "af4faa99-a3c3-4fb8-8865-a535bb7431ff",
   "metadata": {},
   "outputs": [
    {
     "data": {
      "text/plain": [
       "dict_items([('name', '홍길동'), ('phone', '010-3333-3333'), ('birth', '980101')])"
      ]
     },
     "execution_count": 95,
     "metadata": {},
     "output_type": "execute_result"
    }
   ],
   "source": [
    "dic.items()"
   ]
  },
  {
   "cell_type": "code",
   "execution_count": 96,
   "id": "5e80ce3f-3535-444a-ba72-64aa24fe734b",
   "metadata": {},
   "outputs": [
    {
     "data": {
      "text/plain": [
       "'홍길동'"
      ]
     },
     "execution_count": 96,
     "metadata": {},
     "output_type": "execute_result"
    }
   ],
   "source": [
    "dic['name']"
   ]
  },
  {
   "cell_type": "code",
   "execution_count": 97,
   "id": "b86f3e66-81d6-4285-9d17-12a5f2c95bc2",
   "metadata": {},
   "outputs": [
    {
     "ename": "KeyError",
     "evalue": "'address'",
     "output_type": "error",
     "traceback": [
      "\u001b[1;31m---------------------------------------------------------------------------\u001b[0m",
      "\u001b[1;31mKeyError\u001b[0m                                  Traceback (most recent call last)",
      "\u001b[1;32m~\\AppData\\Local\\Temp\\ipykernel_20008\\1816033874.py\u001b[0m in \u001b[0;36m<module>\u001b[1;34m\u001b[0m\n\u001b[1;32m----> 1\u001b[1;33m \u001b[0mdic\u001b[0m\u001b[1;33m[\u001b[0m\u001b[1;34m'address'\u001b[0m\u001b[1;33m]\u001b[0m\u001b[1;33m\u001b[0m\u001b[1;33m\u001b[0m\u001b[0m\n\u001b[0m",
      "\u001b[1;31mKeyError\u001b[0m: 'address'"
     ]
    }
   ],
   "source": [
    "dic['address']"
   ]
  },
  {
   "cell_type": "code",
   "execution_count": 98,
   "id": "d1de5755-66e8-48dd-8fbf-2797f92ac4c2",
   "metadata": {},
   "outputs": [],
   "source": [
    "dic.get('address')"
   ]
  },
  {
   "cell_type": "code",
   "execution_count": 99,
   "id": "912029a9-04d0-485f-aad3-b6a3c838d76f",
   "metadata": {},
   "outputs": [
    {
     "data": {
      "text/plain": [
       "{'name': '홍길동', 'phone': '010-3333-3333', 'birth': '980101'}"
      ]
     },
     "execution_count": 99,
     "metadata": {},
     "output_type": "execute_result"
    }
   ],
   "source": [
    "dic"
   ]
  },
  {
   "cell_type": "code",
   "execution_count": 100,
   "id": "9e9013b1-06e5-4fd0-8b53-bd4de59a8d8c",
   "metadata": {},
   "outputs": [
    {
     "data": {
      "text/plain": [
       "'홍길동'"
      ]
     },
     "execution_count": 100,
     "metadata": {},
     "output_type": "execute_result"
    }
   ],
   "source": [
    "dic.get('name')"
   ]
  },
  {
   "cell_type": "code",
   "execution_count": 101,
   "id": "c972469b-b579-40d3-aeb6-308ea6015f69",
   "metadata": {},
   "outputs": [
    {
     "data": {
      "text/plain": [
       "True"
      ]
     },
     "execution_count": 101,
     "metadata": {},
     "output_type": "execute_result"
    }
   ],
   "source": [
    "'name' in dic"
   ]
  },
  {
   "cell_type": "code",
   "execution_count": 102,
   "id": "44951738-085c-4872-856c-8ff49a09408f",
   "metadata": {},
   "outputs": [
    {
     "data": {
      "text/plain": [
       "False"
      ]
     },
     "execution_count": 102,
     "metadata": {},
     "output_type": "execute_result"
    }
   ],
   "source": [
    "'홍길동' in dic"
   ]
  },
  {
   "cell_type": "code",
   "execution_count": null,
   "id": "0fa24afe-b8c3-45ea-9cef-350339bbc450",
   "metadata": {},
   "outputs": [],
   "source": [
    "명함 관리 프로그램\n",
    "데이터 구조는 리스트를 이용\n",
    "명함에 이름, 주소, 전화번호, 이메일을 입력 받아서 저장, 수정, 삭제, 리스트, 검색 메뉴를 작성\n",
    "데이터는 이름으로 구분합니다. 동명이인 불가"
   ]
  },
  {
   "cell_type": "code",
   "execution_count": null,
   "id": "d580e045-2145-4636-9f14-ac90b1af6b55",
   "metadata": {},
   "outputs": [],
   "source": [
    "card = []\n",
    "while True: \n",
    "    menu = input('''\n",
    "---------------------------------------------------\n",
    "1. 저장 2. 수정 3. 삭제 4. 리스트 5. 검색 6. 종료(Q)\n",
    "---------------------------------------------------\n",
    ">>> ''')\n",
    "    if menu == '1':\n",
    "        while True:\n",
    "            name = input('이름을 입력하세요 >>> ')\n",
    "            check = 0\n",
    "            for item in card:\n",
    "                if item[0] == name:\n",
    "                    check = 1\n",
    "            if check == 0:\n",
    "                break\n",
    "            print('중복되는 이름이 있습니다.')\n",
    "                \n",
    "        address = input('주소를 입력하세요 >>> ')\n",
    "        tel = input('전화번호를 입력하세요 >>> ')\n",
    "        email = input('이메일을 입력하세요 >>> ')\n",
    "        card.append([name, address, tel, email])\n",
    "        print(card)\n",
    "\n",
    "    elif menu == '2':\n",
    "        \n",
    "    elif menu == '3':\n",
    "        pass\n",
    "    elif menu == '4':\n",
    "        pass\n",
    "    elif menu == '5':\n",
    "        pass\n",
    "    elif menu == '6':\n",
    "        print('프로그램 종료')\n",
    "        break\n",
    "    else:\n",
    "        print('메뉴 선택을 잘못하셨습니다.')"
   ]
  },
  {
   "cell_type": "code",
   "execution_count": null,
   "id": "fb5d5544-3600-4e74-bcc8-7fd8a652215b",
   "metadata": {},
   "outputs": [],
   "source": [
    "card = [['홍길동','서울', '111-1111-1111', 'hong@gamil.com'],\n",
    "        ['김나리', '광주', '111-1111-1111','na@gail.com}}\n",
    "         while True: \n",
    "    menu = input('''\n",
    "---------------------------------------------------\n",
    "1. 저장 2. 수정 3. 삭제 4. 리스트 5. 검색 6. 종료(Q)\n",
    "---------------------------------------------------\n",
    ">>> ''')\n",
    "    if menu == '1':\n",
    "        while True:\n",
    "            name = input('이름을 입력하세요 >>> ')\n",
    "            check = 0\n",
    "            for item in card:\n",
    "                if item[0] == name:\n",
    "                    check = 1\n",
    "            if check == 0:\n",
    "                break\n",
    "            print('중복되는 이름이 있습니다.')\n",
    "                \n",
    "        address = input('주소를 입력하세요 >>> ')\n",
    "        tel = input('전화번호를 입력하세요 >>> ')\n",
    "        email = input('이메일을 입력하세요 >>> ')\n",
    "        card.append([name, address, tel, email])\n",
    "        print(card)\n",
    "\n",
    "    elif menu == '2':\n",
    "        \n",
    "    elif menu == '3':\n",
    "        pass\n",
    "    elif menu == '4':\n",
    "        pass\n",
    "    elif menu == '5':\n",
    "        pass\n",
    "    elif menu == '6':\n",
    "        print('프로그램 종료')\n",
    "        break\n",
    "    else:\n",
    "        print('메뉴 선택을 잘못하셨습니다.')"
   ]
  },
  {
   "cell_type": "code",
   "execution_count": null,
   "id": "899dfb0a-3c99-4870-930a-65af423fe4fb",
   "metadata": {},
   "outputs": [],
   "source": []
  }
 ],
 "metadata": {
  "kernelspec": {
   "display_name": "Python 3 (ipykernel)",
   "language": "python",
   "name": "python3"
  },
  "language_info": {
   "codemirror_mode": {
    "name": "ipython",
    "version": 3
   },
   "file_extension": ".py",
   "mimetype": "text/x-python",
   "name": "python",
   "nbconvert_exporter": "python",
   "pygments_lexer": "ipython3",
   "version": "3.9.13"
  }
 },
 "nbformat": 4,
 "nbformat_minor": 5
}
