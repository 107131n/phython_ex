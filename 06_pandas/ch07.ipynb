{
 "cells": [
  {
   "cell_type": "code",
   "execution_count": 1,
   "id": "aabfee8a-fc22-4f60-b56a-eecd6f92dd00",
   "metadata": {},
   "outputs": [],
   "source": [
    "import pandas as pd"
   ]
  },
  {
   "cell_type": "code",
   "execution_count": 2,
   "id": "8790e4ee-cbdf-4b5a-a0ce-f9b51685efae",
   "metadata": {},
   "outputs": [],
   "source": [
    "pew = pd.read_csv('data/pew.csv')"
   ]
  },
  {
   "cell_type": "code",
   "execution_count": 4,
   "id": "fb5ab8be-256c-45da-9725-4d1e73c22371",
   "metadata": {},
   "outputs": [
    {
     "data": {
      "text/html": [
       "<div>\n",
       "<style scoped>\n",
       "    .dataframe tbody tr th:only-of-type {\n",
       "        vertical-align: middle;\n",
       "    }\n",
       "\n",
       "    .dataframe tbody tr th {\n",
       "        vertical-align: top;\n",
       "    }\n",
       "\n",
       "    .dataframe thead th {\n",
       "        text-align: right;\n",
       "    }\n",
       "</style>\n",
       "<table border=\"1\" class=\"dataframe\">\n",
       "  <thead>\n",
       "    <tr style=\"text-align: right;\">\n",
       "      <th></th>\n",
       "      <th>religion</th>\n",
       "      <th>&lt;$10k</th>\n",
       "      <th>$10-20k</th>\n",
       "      <th>$20-30k</th>\n",
       "      <th>$30-40k</th>\n",
       "      <th>$40-50k</th>\n",
       "      <th>$50-75k</th>\n",
       "      <th>$75-100k</th>\n",
       "      <th>$100-150k</th>\n",
       "      <th>&gt;150k</th>\n",
       "      <th>Don't know/refused</th>\n",
       "    </tr>\n",
       "  </thead>\n",
       "  <tbody>\n",
       "    <tr>\n",
       "      <th>0</th>\n",
       "      <td>Agnostic</td>\n",
       "      <td>27</td>\n",
       "      <td>34</td>\n",
       "      <td>60</td>\n",
       "      <td>81</td>\n",
       "      <td>76</td>\n",
       "      <td>137</td>\n",
       "      <td>122</td>\n",
       "      <td>109</td>\n",
       "      <td>84</td>\n",
       "      <td>96</td>\n",
       "    </tr>\n",
       "    <tr>\n",
       "      <th>1</th>\n",
       "      <td>Atheist</td>\n",
       "      <td>12</td>\n",
       "      <td>27</td>\n",
       "      <td>37</td>\n",
       "      <td>52</td>\n",
       "      <td>35</td>\n",
       "      <td>70</td>\n",
       "      <td>73</td>\n",
       "      <td>59</td>\n",
       "      <td>74</td>\n",
       "      <td>76</td>\n",
       "    </tr>\n",
       "  </tbody>\n",
       "</table>\n",
       "</div>"
      ],
      "text/plain": [
       "   religion  <$10k  $10-20k  $20-30k  $30-40k  $40-50k  $50-75k  $75-100k  \\\n",
       "0  Agnostic     27       34       60       81       76      137       122   \n",
       "1   Atheist     12       27       37       52       35       70        73   \n",
       "\n",
       "   $100-150k  >150k  Don't know/refused  \n",
       "0        109     84                  96  \n",
       "1         59     74                  76  "
      ]
     },
     "execution_count": 4,
     "metadata": {},
     "output_type": "execute_result"
    }
   ],
   "source": [
    "pew.head(2)"
   ]
  },
  {
   "cell_type": "code",
   "execution_count": 9,
   "id": "d0d473e0-5ed1-4cea-b895-a93da4121d3f",
   "metadata": {},
   "outputs": [
    {
     "data": {
      "text/html": [
       "<div>\n",
       "<style scoped>\n",
       "    .dataframe tbody tr th:only-of-type {\n",
       "        vertical-align: middle;\n",
       "    }\n",
       "\n",
       "    .dataframe tbody tr th {\n",
       "        vertical-align: top;\n",
       "    }\n",
       "\n",
       "    .dataframe thead th {\n",
       "        text-align: right;\n",
       "    }\n",
       "</style>\n",
       "<table border=\"1\" class=\"dataframe\">\n",
       "  <thead>\n",
       "    <tr style=\"text-align: right;\">\n",
       "      <th></th>\n",
       "      <th>religion</th>\n",
       "      <th>income</th>\n",
       "      <th>count</th>\n",
       "    </tr>\n",
       "  </thead>\n",
       "  <tbody>\n",
       "    <tr>\n",
       "      <th>0</th>\n",
       "      <td>Agnostic</td>\n",
       "      <td>&lt;$10k</td>\n",
       "      <td>27</td>\n",
       "    </tr>\n",
       "    <tr>\n",
       "      <th>1</th>\n",
       "      <td>Atheist</td>\n",
       "      <td>&lt;$10k</td>\n",
       "      <td>12</td>\n",
       "    </tr>\n",
       "    <tr>\n",
       "      <th>2</th>\n",
       "      <td>Buddhist</td>\n",
       "      <td>&lt;$10k</td>\n",
       "      <td>27</td>\n",
       "    </tr>\n",
       "    <tr>\n",
       "      <th>3</th>\n",
       "      <td>Catholic</td>\n",
       "      <td>&lt;$10k</td>\n",
       "      <td>418</td>\n",
       "    </tr>\n",
       "    <tr>\n",
       "      <th>4</th>\n",
       "      <td>Don’t know/refused</td>\n",
       "      <td>&lt;$10k</td>\n",
       "      <td>15</td>\n",
       "    </tr>\n",
       "    <tr>\n",
       "      <th>...</th>\n",
       "      <td>...</td>\n",
       "      <td>...</td>\n",
       "      <td>...</td>\n",
       "    </tr>\n",
       "    <tr>\n",
       "      <th>175</th>\n",
       "      <td>Orthodox</td>\n",
       "      <td>Don't know/refused</td>\n",
       "      <td>73</td>\n",
       "    </tr>\n",
       "    <tr>\n",
       "      <th>176</th>\n",
       "      <td>Other Christian</td>\n",
       "      <td>Don't know/refused</td>\n",
       "      <td>18</td>\n",
       "    </tr>\n",
       "    <tr>\n",
       "      <th>177</th>\n",
       "      <td>Other Faiths</td>\n",
       "      <td>Don't know/refused</td>\n",
       "      <td>71</td>\n",
       "    </tr>\n",
       "    <tr>\n",
       "      <th>178</th>\n",
       "      <td>Other World Religions</td>\n",
       "      <td>Don't know/refused</td>\n",
       "      <td>8</td>\n",
       "    </tr>\n",
       "    <tr>\n",
       "      <th>179</th>\n",
       "      <td>Unaffiliated</td>\n",
       "      <td>Don't know/refused</td>\n",
       "      <td>597</td>\n",
       "    </tr>\n",
       "  </tbody>\n",
       "</table>\n",
       "<p>180 rows × 3 columns</p>\n",
       "</div>"
      ],
      "text/plain": [
       "                  religion              income  count\n",
       "0                 Agnostic               <$10k     27\n",
       "1                  Atheist               <$10k     12\n",
       "2                 Buddhist               <$10k     27\n",
       "3                 Catholic               <$10k    418\n",
       "4       Don’t know/refused               <$10k     15\n",
       "..                     ...                 ...    ...\n",
       "175               Orthodox  Don't know/refused     73\n",
       "176        Other Christian  Don't know/refused     18\n",
       "177           Other Faiths  Don't know/refused     71\n",
       "178  Other World Religions  Don't know/refused      8\n",
       "179           Unaffiliated  Don't know/refused    597\n",
       "\n",
       "[180 rows x 3 columns]"
      ]
     },
     "execution_count": 9,
     "metadata": {},
     "output_type": "execute_result"
    }
   ],
   "source": [
    "pd.melt(pew,id_vars='religion',var_name='income',value_name='count')"
   ]
  },
  {
   "cell_type": "code",
   "execution_count": 17,
   "id": "aa09c23c-79b4-4a44-b656-3ccd85477c45",
   "metadata": {},
   "outputs": [],
   "source": [
    "billboard = pd.read_csv('data/billboard.csv')"
   ]
  },
  {
   "cell_type": "code",
   "execution_count": 18,
   "id": "a14159a7-932c-416c-b031-a99a84270a83",
   "metadata": {},
   "outputs": [
    {
     "data": {
      "text/plain": [
       "Index(['year', 'artist', 'track', 'time', 'date.entered', 'wk1', 'wk2', 'wk3',\n",
       "       'wk4', 'wk5', 'wk6', 'wk7', 'wk8', 'wk9', 'wk10', 'wk11', 'wk12',\n",
       "       'wk13', 'wk14', 'wk15', 'wk16', 'wk17', 'wk18', 'wk19', 'wk20', 'wk21',\n",
       "       'wk22', 'wk23', 'wk24', 'wk25', 'wk26', 'wk27', 'wk28', 'wk29', 'wk30',\n",
       "       'wk31', 'wk32', 'wk33', 'wk34', 'wk35', 'wk36', 'wk37', 'wk38', 'wk39',\n",
       "       'wk40', 'wk41', 'wk42', 'wk43', 'wk44', 'wk45', 'wk46', 'wk47', 'wk48',\n",
       "       'wk49', 'wk50', 'wk51', 'wk52', 'wk53', 'wk54', 'wk55', 'wk56', 'wk57',\n",
       "       'wk58', 'wk59', 'wk60', 'wk61', 'wk62', 'wk63', 'wk64', 'wk65', 'wk66',\n",
       "       'wk67', 'wk68', 'wk69', 'wk70', 'wk71', 'wk72', 'wk73', 'wk74', 'wk75',\n",
       "       'wk76'],\n",
       "      dtype='object')"
      ]
     },
     "execution_count": 18,
     "metadata": {},
     "output_type": "execute_result"
    }
   ],
   "source": [
    "billboard.columns"
   ]
  },
  {
   "cell_type": "code",
   "execution_count": 19,
   "id": "3994b730-7645-4c97-8632-e3730e7f11f6",
   "metadata": {},
   "outputs": [
    {
     "data": {
      "text/html": [
       "<div>\n",
       "<style scoped>\n",
       "    .dataframe tbody tr th:only-of-type {\n",
       "        vertical-align: middle;\n",
       "    }\n",
       "\n",
       "    .dataframe tbody tr th {\n",
       "        vertical-align: top;\n",
       "    }\n",
       "\n",
       "    .dataframe thead th {\n",
       "        text-align: right;\n",
       "    }\n",
       "</style>\n",
       "<table border=\"1\" class=\"dataframe\">\n",
       "  <thead>\n",
       "    <tr style=\"text-align: right;\">\n",
       "      <th></th>\n",
       "      <th>year</th>\n",
       "      <th>artist</th>\n",
       "      <th>track</th>\n",
       "      <th>time</th>\n",
       "      <th>date.entered</th>\n",
       "      <th>week</th>\n",
       "      <th>rating</th>\n",
       "    </tr>\n",
       "  </thead>\n",
       "  <tbody>\n",
       "    <tr>\n",
       "      <th>0</th>\n",
       "      <td>2000</td>\n",
       "      <td>2 Pac</td>\n",
       "      <td>Baby Don't Cry (Keep...</td>\n",
       "      <td>4:22</td>\n",
       "      <td>2000-02-26</td>\n",
       "      <td>wk1</td>\n",
       "      <td>87.0</td>\n",
       "    </tr>\n",
       "    <tr>\n",
       "      <th>1</th>\n",
       "      <td>2000</td>\n",
       "      <td>2Ge+her</td>\n",
       "      <td>The Hardest Part Of ...</td>\n",
       "      <td>3:15</td>\n",
       "      <td>2000-09-02</td>\n",
       "      <td>wk1</td>\n",
       "      <td>91.0</td>\n",
       "    </tr>\n",
       "    <tr>\n",
       "      <th>2</th>\n",
       "      <td>2000</td>\n",
       "      <td>3 Doors Down</td>\n",
       "      <td>Kryptonite</td>\n",
       "      <td>3:53</td>\n",
       "      <td>2000-04-08</td>\n",
       "      <td>wk1</td>\n",
       "      <td>81.0</td>\n",
       "    </tr>\n",
       "    <tr>\n",
       "      <th>3</th>\n",
       "      <td>2000</td>\n",
       "      <td>3 Doors Down</td>\n",
       "      <td>Loser</td>\n",
       "      <td>4:24</td>\n",
       "      <td>2000-10-21</td>\n",
       "      <td>wk1</td>\n",
       "      <td>76.0</td>\n",
       "    </tr>\n",
       "    <tr>\n",
       "      <th>4</th>\n",
       "      <td>2000</td>\n",
       "      <td>504 Boyz</td>\n",
       "      <td>Wobble Wobble</td>\n",
       "      <td>3:35</td>\n",
       "      <td>2000-04-15</td>\n",
       "      <td>wk1</td>\n",
       "      <td>57.0</td>\n",
       "    </tr>\n",
       "    <tr>\n",
       "      <th>...</th>\n",
       "      <td>...</td>\n",
       "      <td>...</td>\n",
       "      <td>...</td>\n",
       "      <td>...</td>\n",
       "      <td>...</td>\n",
       "      <td>...</td>\n",
       "      <td>...</td>\n",
       "    </tr>\n",
       "    <tr>\n",
       "      <th>24087</th>\n",
       "      <td>2000</td>\n",
       "      <td>Yankee Grey</td>\n",
       "      <td>Another Nine Minutes</td>\n",
       "      <td>3:10</td>\n",
       "      <td>2000-04-29</td>\n",
       "      <td>wk76</td>\n",
       "      <td>NaN</td>\n",
       "    </tr>\n",
       "    <tr>\n",
       "      <th>24088</th>\n",
       "      <td>2000</td>\n",
       "      <td>Yearwood, Trisha</td>\n",
       "      <td>Real Live Woman</td>\n",
       "      <td>3:55</td>\n",
       "      <td>2000-04-01</td>\n",
       "      <td>wk76</td>\n",
       "      <td>NaN</td>\n",
       "    </tr>\n",
       "    <tr>\n",
       "      <th>24089</th>\n",
       "      <td>2000</td>\n",
       "      <td>Ying Yang Twins</td>\n",
       "      <td>Whistle While You Tw...</td>\n",
       "      <td>4:19</td>\n",
       "      <td>2000-03-18</td>\n",
       "      <td>wk76</td>\n",
       "      <td>NaN</td>\n",
       "    </tr>\n",
       "    <tr>\n",
       "      <th>24090</th>\n",
       "      <td>2000</td>\n",
       "      <td>Zombie Nation</td>\n",
       "      <td>Kernkraft 400</td>\n",
       "      <td>3:30</td>\n",
       "      <td>2000-09-02</td>\n",
       "      <td>wk76</td>\n",
       "      <td>NaN</td>\n",
       "    </tr>\n",
       "    <tr>\n",
       "      <th>24091</th>\n",
       "      <td>2000</td>\n",
       "      <td>matchbox twenty</td>\n",
       "      <td>Bent</td>\n",
       "      <td>4:12</td>\n",
       "      <td>2000-04-29</td>\n",
       "      <td>wk76</td>\n",
       "      <td>NaN</td>\n",
       "    </tr>\n",
       "  </tbody>\n",
       "</table>\n",
       "<p>24092 rows × 7 columns</p>\n",
       "</div>"
      ],
      "text/plain": [
       "       year            artist                    track  time date.entered  \\\n",
       "0      2000             2 Pac  Baby Don't Cry (Keep...  4:22   2000-02-26   \n",
       "1      2000           2Ge+her  The Hardest Part Of ...  3:15   2000-09-02   \n",
       "2      2000      3 Doors Down               Kryptonite  3:53   2000-04-08   \n",
       "3      2000      3 Doors Down                    Loser  4:24   2000-10-21   \n",
       "4      2000          504 Boyz            Wobble Wobble  3:35   2000-04-15   \n",
       "...     ...               ...                      ...   ...          ...   \n",
       "24087  2000       Yankee Grey     Another Nine Minutes  3:10   2000-04-29   \n",
       "24088  2000  Yearwood, Trisha          Real Live Woman  3:55   2000-04-01   \n",
       "24089  2000   Ying Yang Twins  Whistle While You Tw...  4:19   2000-03-18   \n",
       "24090  2000     Zombie Nation            Kernkraft 400  3:30   2000-09-02   \n",
       "24091  2000   matchbox twenty                     Bent  4:12   2000-04-29   \n",
       "\n",
       "       week  rating  \n",
       "0       wk1    87.0  \n",
       "1       wk1    91.0  \n",
       "2       wk1    81.0  \n",
       "3       wk1    76.0  \n",
       "4       wk1    57.0  \n",
       "...     ...     ...  \n",
       "24087  wk76     NaN  \n",
       "24088  wk76     NaN  \n",
       "24089  wk76     NaN  \n",
       "24090  wk76     NaN  \n",
       "24091  wk76     NaN  \n",
       "\n",
       "[24092 rows x 7 columns]"
      ]
     },
     "execution_count": 19,
     "metadata": {},
     "output_type": "execute_result"
    }
   ],
   "source": [
    " billboard.melt(id_vars=['year', 'artist', 'track', 'time', 'date.entered'] ,\n",
    "         var_name='week',\n",
    "         value_name='rating')"
   ]
  },
  {
   "cell_type": "code",
   "execution_count": 24,
   "id": "44412c0d-a1e3-4b21-b823-3a6083c29acf",
   "metadata": {},
   "outputs": [],
   "source": [
    "import pandas as pd"
   ]
  },
  {
   "cell_type": "code",
   "execution_count": 37,
   "id": "91ac0285-21f0-499a-a7df-43e45efaaa2e",
   "metadata": {},
   "outputs": [],
   "source": [
    "data = pd.read_csv('data/전라북도_소방서별 소방자동차 현황_20170810..csv',encoding='cp949')"
   ]
  },
  {
   "cell_type": "code",
   "execution_count": 38,
   "id": "d8c5e3c9-00be-4a6a-9892-c566a54c4078",
   "metadata": {},
   "outputs": [
    {
     "data": {
      "text/plain": [
       "Index(['시군', '고가차 53(m)', '고가차 52(m)', '고가차 46(m)', '굴 절차 36(m)', '굴 절차 28(m)',\n",
       "       '굴 절차 27(m)', '배 연 차', '구 급 차', '구조차 버스', '구조차 공작', '구조차 산악', '화학차 고성능',\n",
       "       '화학차 생화학', '화학차 제독', '화학차 일반', '물탱크차', '펌프차 중형', '펌프차 소형', '지 휘 차',\n",
       "       '화재조사차', '행 정 차', '화 물 차', '순 찰 차', '진 단 차', '굴 삭 기', '트레일러 공기,양수',\n",
       "       '트레일러 보트', '이동정비차', '이동체험차', '장비운반차', '이동중계차', '산불진화차', '유 조 차',\n",
       "       '버   스'],\n",
       "      dtype='object')"
      ]
     },
     "execution_count": 38,
     "metadata": {},
     "output_type": "execute_result"
    }
   ],
   "source": [
    "data.columns"
   ]
  },
  {
   "cell_type": "code",
   "execution_count": 58,
   "id": "2ca1e8b5-62b0-4b62-b981-1848bad57776",
   "metadata": {},
   "outputs": [],
   "source": [
    "data_melt=data.melt(id_vars = '시군',\n",
    "        var_name = '차량 종류',\n",
    "        value_name = '대 수').fillna(0)"
   ]
  },
  {
   "cell_type": "code",
   "execution_count": 60,
   "id": "8ed54091-c350-4c85-9004-f6eddb9c6b29",
   "metadata": {},
   "outputs": [
    {
     "data": {
      "text/plain": [
       "시군\n",
       "고창     27.0\n",
       "군산     49.0\n",
       "김제     26.0\n",
       "남원     46.0\n",
       "덕진     40.0\n",
       "무진장    48.0\n",
       "본부     14.0\n",
       "부안     30.0\n",
       "완산     46.0\n",
       "익산     42.0\n",
       "정읍     29.0\n",
       "Name: 대 수, dtype: float64"
      ]
     },
     "execution_count": 60,
     "metadata": {},
     "output_type": "execute_result"
    }
   ],
   "source": [
    "data_melt.groupby(['시군'])['대 수'].sum()"
   ]
  },
  {
   "cell_type": "code",
   "execution_count": 61,
   "id": "410404be-cb28-4176-9bf4-e9818d8035bf",
   "metadata": {},
   "outputs": [],
   "source": [
    "ebola = pd.read_csv('data/country_timeseries.csv')"
   ]
  },
  {
   "cell_type": "code",
   "execution_count": 62,
   "id": "5f8c1444-a243-42a1-b7fa-6a93d735f6a6",
   "metadata": {},
   "outputs": [
    {
     "data": {
      "text/plain": [
       "Index(['Date', 'Day', 'Cases_Guinea', 'Cases_Liberia', 'Cases_SierraLeone',\n",
       "       'Cases_Nigeria', 'Cases_Senegal', 'Cases_UnitedStates', 'Cases_Spain',\n",
       "       'Cases_Mali', 'Deaths_Guinea', 'Deaths_Liberia', 'Deaths_SierraLeone',\n",
       "       'Deaths_Nigeria', 'Deaths_Senegal', 'Deaths_UnitedStates',\n",
       "       'Deaths_Spain', 'Deaths_Mali'],\n",
       "      dtype='object')"
      ]
     },
     "execution_count": 62,
     "metadata": {},
     "output_type": "execute_result"
    }
   ],
   "source": [
    "ebola.columns"
   ]
  },
  {
   "cell_type": "code",
   "execution_count": 63,
   "id": "5d3facb3-b686-47a1-ab86-3c0f27413745",
   "metadata": {},
   "outputs": [],
   "source": [
    "ebola_melt = pd.melt(ebola,id_vars=['Date','Day'])"
   ]
  },
  {
   "cell_type": "code",
   "execution_count": 64,
   "id": "131ea48f-a293-43d3-8338-3eee105f05d2",
   "metadata": {},
   "outputs": [
    {
     "data": {
      "text/html": [
       "<div>\n",
       "<style scoped>\n",
       "    .dataframe tbody tr th:only-of-type {\n",
       "        vertical-align: middle;\n",
       "    }\n",
       "\n",
       "    .dataframe tbody tr th {\n",
       "        vertical-align: top;\n",
       "    }\n",
       "\n",
       "    .dataframe thead th {\n",
       "        text-align: right;\n",
       "    }\n",
       "</style>\n",
       "<table border=\"1\" class=\"dataframe\">\n",
       "  <thead>\n",
       "    <tr style=\"text-align: right;\">\n",
       "      <th></th>\n",
       "      <th>Date</th>\n",
       "      <th>Day</th>\n",
       "      <th>variable</th>\n",
       "      <th>value</th>\n",
       "    </tr>\n",
       "  </thead>\n",
       "  <tbody>\n",
       "    <tr>\n",
       "      <th>0</th>\n",
       "      <td>1/5/2015</td>\n",
       "      <td>289</td>\n",
       "      <td>Cases_Guinea</td>\n",
       "      <td>2776.0</td>\n",
       "    </tr>\n",
       "    <tr>\n",
       "      <th>1</th>\n",
       "      <td>1/4/2015</td>\n",
       "      <td>288</td>\n",
       "      <td>Cases_Guinea</td>\n",
       "      <td>2775.0</td>\n",
       "    </tr>\n",
       "  </tbody>\n",
       "</table>\n",
       "</div>"
      ],
      "text/plain": [
       "       Date  Day      variable   value\n",
       "0  1/5/2015  289  Cases_Guinea  2776.0\n",
       "1  1/4/2015  288  Cases_Guinea  2775.0"
      ]
     },
     "execution_count": 64,
     "metadata": {},
     "output_type": "execute_result"
    }
   ],
   "source": [
    "ebola_melt.head(2)"
   ]
  },
  {
   "cell_type": "code",
   "execution_count": 71,
   "id": "2658f1a5-813c-43ba-81d9-7db25c932b82",
   "metadata": {},
   "outputs": [],
   "source": [
    "status = ebola_melt.variable.str.split('_').str.get(0)\n",
    "country = ebola_melt.variable.str.split('_').str.get(1)\n",
    "# .str 문자열 관련 쓸 수 있는 매서드로 변경, get 써서 뽑아낼 수 있음"
   ]
  },
  {
   "cell_type": "code",
   "execution_count": 72,
   "id": "13dab356-faae-4f10-aa1e-458149dda21b",
   "metadata": {},
   "outputs": [
    {
     "data": {
      "text/plain": [
       "0        Cases\n",
       "1        Cases\n",
       "2        Cases\n",
       "3        Cases\n",
       "4        Cases\n",
       "         ...  \n",
       "1947    Deaths\n",
       "1948    Deaths\n",
       "1949    Deaths\n",
       "1950    Deaths\n",
       "1951    Deaths\n",
       "Name: variable, Length: 1952, dtype: object"
      ]
     },
     "execution_count": 72,
     "metadata": {},
     "output_type": "execute_result"
    }
   ],
   "source": [
    "status"
   ]
  },
  {
   "cell_type": "code",
   "execution_count": 73,
   "id": "91217fba-683b-4122-ba8d-ff74a374873b",
   "metadata": {},
   "outputs": [
    {
     "data": {
      "text/plain": [
       "0       Guinea\n",
       "1       Guinea\n",
       "2       Guinea\n",
       "3       Guinea\n",
       "4       Guinea\n",
       "         ...  \n",
       "1947      Mali\n",
       "1948      Mali\n",
       "1949      Mali\n",
       "1950      Mali\n",
       "1951      Mali\n",
       "Name: variable, Length: 1952, dtype: object"
      ]
     },
     "execution_count": 73,
     "metadata": {},
     "output_type": "execute_result"
    }
   ],
   "source": [
    "country"
   ]
  },
  {
   "cell_type": "code",
   "execution_count": 74,
   "id": "afa56efe-3188-4e1b-8e06-f7e48bf7c05f",
   "metadata": {},
   "outputs": [],
   "source": [
    "ebola_melt['status'] = status\n",
    "ebola_melt['country'] = country"
   ]
  },
  {
   "cell_type": "code",
   "execution_count": 75,
   "id": "b06cd7f5-8043-4e12-927d-e97e51a0a5f0",
   "metadata": {},
   "outputs": [
    {
     "data": {
      "text/html": [
       "<div>\n",
       "<style scoped>\n",
       "    .dataframe tbody tr th:only-of-type {\n",
       "        vertical-align: middle;\n",
       "    }\n",
       "\n",
       "    .dataframe tbody tr th {\n",
       "        vertical-align: top;\n",
       "    }\n",
       "\n",
       "    .dataframe thead th {\n",
       "        text-align: right;\n",
       "    }\n",
       "</style>\n",
       "<table border=\"1\" class=\"dataframe\">\n",
       "  <thead>\n",
       "    <tr style=\"text-align: right;\">\n",
       "      <th></th>\n",
       "      <th>Date</th>\n",
       "      <th>Day</th>\n",
       "      <th>variable</th>\n",
       "      <th>value</th>\n",
       "      <th>status</th>\n",
       "      <th>country</th>\n",
       "    </tr>\n",
       "  </thead>\n",
       "  <tbody>\n",
       "    <tr>\n",
       "      <th>0</th>\n",
       "      <td>1/5/2015</td>\n",
       "      <td>289</td>\n",
       "      <td>Cases_Guinea</td>\n",
       "      <td>2776.0</td>\n",
       "      <td>Cases</td>\n",
       "      <td>Guinea</td>\n",
       "    </tr>\n",
       "    <tr>\n",
       "      <th>1</th>\n",
       "      <td>1/4/2015</td>\n",
       "      <td>288</td>\n",
       "      <td>Cases_Guinea</td>\n",
       "      <td>2775.0</td>\n",
       "      <td>Cases</td>\n",
       "      <td>Guinea</td>\n",
       "    </tr>\n",
       "    <tr>\n",
       "      <th>2</th>\n",
       "      <td>1/3/2015</td>\n",
       "      <td>287</td>\n",
       "      <td>Cases_Guinea</td>\n",
       "      <td>2769.0</td>\n",
       "      <td>Cases</td>\n",
       "      <td>Guinea</td>\n",
       "    </tr>\n",
       "  </tbody>\n",
       "</table>\n",
       "</div>"
      ],
      "text/plain": [
       "       Date  Day      variable   value status country\n",
       "0  1/5/2015  289  Cases_Guinea  2776.0  Cases  Guinea\n",
       "1  1/4/2015  288  Cases_Guinea  2775.0  Cases  Guinea\n",
       "2  1/3/2015  287  Cases_Guinea  2769.0  Cases  Guinea"
      ]
     },
     "execution_count": 75,
     "metadata": {},
     "output_type": "execute_result"
    }
   ],
   "source": [
    "ebola_melt.head(3)"
   ]
  },
  {
   "cell_type": "code",
   "execution_count": 84,
   "id": "eb36415f-3f2b-4772-9f84-612dfd534740",
   "metadata": {},
   "outputs": [],
   "source": [
    "ebola_melt.drop(columns = 'variable', inplace = True)"
   ]
  },
  {
   "cell_type": "code",
   "execution_count": 85,
   "id": "b51dbb76-0233-4a9d-8760-165b8cf2a777",
   "metadata": {},
   "outputs": [
    {
     "data": {
      "text/html": [
       "<div>\n",
       "<style scoped>\n",
       "    .dataframe tbody tr th:only-of-type {\n",
       "        vertical-align: middle;\n",
       "    }\n",
       "\n",
       "    .dataframe tbody tr th {\n",
       "        vertical-align: top;\n",
       "    }\n",
       "\n",
       "    .dataframe thead th {\n",
       "        text-align: right;\n",
       "    }\n",
       "</style>\n",
       "<table border=\"1\" class=\"dataframe\">\n",
       "  <thead>\n",
       "    <tr style=\"text-align: right;\">\n",
       "      <th></th>\n",
       "      <th>Date</th>\n",
       "      <th>Day</th>\n",
       "      <th>value</th>\n",
       "      <th>status</th>\n",
       "      <th>country</th>\n",
       "    </tr>\n",
       "  </thead>\n",
       "  <tbody>\n",
       "    <tr>\n",
       "      <th>0</th>\n",
       "      <td>1/5/2015</td>\n",
       "      <td>289</td>\n",
       "      <td>2776.0</td>\n",
       "      <td>Cases</td>\n",
       "      <td>Guinea</td>\n",
       "    </tr>\n",
       "    <tr>\n",
       "      <th>1</th>\n",
       "      <td>1/4/2015</td>\n",
       "      <td>288</td>\n",
       "      <td>2775.0</td>\n",
       "      <td>Cases</td>\n",
       "      <td>Guinea</td>\n",
       "    </tr>\n",
       "  </tbody>\n",
       "</table>\n",
       "</div>"
      ],
      "text/plain": [
       "       Date  Day   value status country\n",
       "0  1/5/2015  289  2776.0  Cases  Guinea\n",
       "1  1/4/2015  288  2775.0  Cases  Guinea"
      ]
     },
     "execution_count": 85,
     "metadata": {},
     "output_type": "execute_result"
    }
   ],
   "source": [
    "ebola_melt.head(2)"
   ]
  },
  {
   "cell_type": "code",
   "execution_count": 89,
   "id": "cf0b51c5-2c62-458f-988d-7eac233b93ba",
   "metadata": {},
   "outputs": [],
   "source": [
    "weather = pd.read_csv('data/weather.csv')"
   ]
  },
  {
   "cell_type": "code",
   "execution_count": 94,
   "id": "414f429e-8c82-473a-bd71-b232a288af64",
   "metadata": {},
   "outputs": [
    {
     "data": {
      "text/plain": [
       "id         MX17004\n",
       "year          2010\n",
       "month            2\n",
       "element       tmin\n",
       "d1             NaN\n",
       "d2            14.4\n",
       "d3            14.4\n",
       "d4             NaN\n",
       "d5             NaN\n",
       "d6             NaN\n",
       "d7             NaN\n",
       "d8             NaN\n",
       "d9             NaN\n",
       "d10            NaN\n",
       "d11           13.4\n",
       "d12            NaN\n",
       "d13            NaN\n",
       "d14            NaN\n",
       "d15            NaN\n",
       "d16            NaN\n",
       "d17            NaN\n",
       "d18            NaN\n",
       "d19            NaN\n",
       "d20            NaN\n",
       "d21            NaN\n",
       "d22            NaN\n",
       "d23           10.7\n",
       "d24            NaN\n",
       "d25            NaN\n",
       "d26            NaN\n",
       "d27            NaN\n",
       "d28            NaN\n",
       "d29            NaN\n",
       "d30            NaN\n",
       "d31            NaN\n",
       "Name: 3, dtype: object"
      ]
     },
     "execution_count": 94,
     "metadata": {},
     "output_type": "execute_result"
    }
   ],
   "source": [
    "weather.iloc[3]"
   ]
  },
  {
   "cell_type": "code",
   "execution_count": 95,
   "id": "7eb68f14-23fb-4ea3-850b-d6b6096233b2",
   "metadata": {},
   "outputs": [
    {
     "data": {
      "text/plain": [
       "Index(['id', 'year', 'month', 'element', 'd1', 'd2', 'd3', 'd4', 'd5', 'd6',\n",
       "       'd7', 'd8', 'd9', 'd10', 'd11', 'd12', 'd13', 'd14', 'd15', 'd16',\n",
       "       'd17', 'd18', 'd19', 'd20', 'd21', 'd22', 'd23', 'd24', 'd25', 'd26',\n",
       "       'd27', 'd28', 'd29', 'd30', 'd31'],\n",
       "      dtype='object')"
      ]
     },
     "execution_count": 95,
     "metadata": {},
     "output_type": "execute_result"
    }
   ],
   "source": [
    "weather.columns"
   ]
  },
  {
   "cell_type": "code",
   "execution_count": 98,
   "id": "46a73d3c-31aa-422e-8b0a-47c31d4aaacd",
   "metadata": {},
   "outputs": [],
   "source": [
    "weather_melt = weather.melt(id_vars=['id', 'year', 'month', 'element'],\n",
    "                                                var_name = 'day',\n",
    "                                                value_name = 'temp')"
   ]
  },
  {
   "cell_type": "code",
   "execution_count": 99,
   "id": "39d548d6-5f42-469d-b807-db7cd12394e0",
   "metadata": {},
   "outputs": [
    {
     "data": {
      "text/html": [
       "<div>\n",
       "<style scoped>\n",
       "    .dataframe tbody tr th:only-of-type {\n",
       "        vertical-align: middle;\n",
       "    }\n",
       "\n",
       "    .dataframe tbody tr th {\n",
       "        vertical-align: top;\n",
       "    }\n",
       "\n",
       "    .dataframe thead th {\n",
       "        text-align: right;\n",
       "    }\n",
       "</style>\n",
       "<table border=\"1\" class=\"dataframe\">\n",
       "  <thead>\n",
       "    <tr style=\"text-align: right;\">\n",
       "      <th></th>\n",
       "      <th>id</th>\n",
       "      <th>year</th>\n",
       "      <th>month</th>\n",
       "      <th>element</th>\n",
       "      <th>day</th>\n",
       "      <th>temp</th>\n",
       "    </tr>\n",
       "  </thead>\n",
       "  <tbody>\n",
       "    <tr>\n",
       "      <th>0</th>\n",
       "      <td>MX17004</td>\n",
       "      <td>2010</td>\n",
       "      <td>1</td>\n",
       "      <td>tmax</td>\n",
       "      <td>d1</td>\n",
       "      <td>NaN</td>\n",
       "    </tr>\n",
       "    <tr>\n",
       "      <th>1</th>\n",
       "      <td>MX17004</td>\n",
       "      <td>2010</td>\n",
       "      <td>1</td>\n",
       "      <td>tmin</td>\n",
       "      <td>d1</td>\n",
       "      <td>NaN</td>\n",
       "    </tr>\n",
       "    <tr>\n",
       "      <th>2</th>\n",
       "      <td>MX17004</td>\n",
       "      <td>2010</td>\n",
       "      <td>2</td>\n",
       "      <td>tmax</td>\n",
       "      <td>d1</td>\n",
       "      <td>NaN</td>\n",
       "    </tr>\n",
       "    <tr>\n",
       "      <th>3</th>\n",
       "      <td>MX17004</td>\n",
       "      <td>2010</td>\n",
       "      <td>2</td>\n",
       "      <td>tmin</td>\n",
       "      <td>d1</td>\n",
       "      <td>NaN</td>\n",
       "    </tr>\n",
       "    <tr>\n",
       "      <th>4</th>\n",
       "      <td>MX17004</td>\n",
       "      <td>2010</td>\n",
       "      <td>3</td>\n",
       "      <td>tmax</td>\n",
       "      <td>d1</td>\n",
       "      <td>NaN</td>\n",
       "    </tr>\n",
       "    <tr>\n",
       "      <th>...</th>\n",
       "      <td>...</td>\n",
       "      <td>...</td>\n",
       "      <td>...</td>\n",
       "      <td>...</td>\n",
       "      <td>...</td>\n",
       "      <td>...</td>\n",
       "    </tr>\n",
       "    <tr>\n",
       "      <th>677</th>\n",
       "      <td>MX17004</td>\n",
       "      <td>2010</td>\n",
       "      <td>10</td>\n",
       "      <td>tmin</td>\n",
       "      <td>d31</td>\n",
       "      <td>NaN</td>\n",
       "    </tr>\n",
       "    <tr>\n",
       "      <th>678</th>\n",
       "      <td>MX17004</td>\n",
       "      <td>2010</td>\n",
       "      <td>11</td>\n",
       "      <td>tmax</td>\n",
       "      <td>d31</td>\n",
       "      <td>NaN</td>\n",
       "    </tr>\n",
       "    <tr>\n",
       "      <th>679</th>\n",
       "      <td>MX17004</td>\n",
       "      <td>2010</td>\n",
       "      <td>11</td>\n",
       "      <td>tmin</td>\n",
       "      <td>d31</td>\n",
       "      <td>NaN</td>\n",
       "    </tr>\n",
       "    <tr>\n",
       "      <th>680</th>\n",
       "      <td>MX17004</td>\n",
       "      <td>2010</td>\n",
       "      <td>12</td>\n",
       "      <td>tmax</td>\n",
       "      <td>d31</td>\n",
       "      <td>NaN</td>\n",
       "    </tr>\n",
       "    <tr>\n",
       "      <th>681</th>\n",
       "      <td>MX17004</td>\n",
       "      <td>2010</td>\n",
       "      <td>12</td>\n",
       "      <td>tmin</td>\n",
       "      <td>d31</td>\n",
       "      <td>NaN</td>\n",
       "    </tr>\n",
       "  </tbody>\n",
       "</table>\n",
       "<p>682 rows × 6 columns</p>\n",
       "</div>"
      ],
      "text/plain": [
       "          id  year  month element  day  temp\n",
       "0    MX17004  2010      1    tmax   d1   NaN\n",
       "1    MX17004  2010      1    tmin   d1   NaN\n",
       "2    MX17004  2010      2    tmax   d1   NaN\n",
       "3    MX17004  2010      2    tmin   d1   NaN\n",
       "4    MX17004  2010      3    tmax   d1   NaN\n",
       "..       ...   ...    ...     ...  ...   ...\n",
       "677  MX17004  2010     10    tmin  d31   NaN\n",
       "678  MX17004  2010     11    tmax  d31   NaN\n",
       "679  MX17004  2010     11    tmin  d31   NaN\n",
       "680  MX17004  2010     12    tmax  d31   NaN\n",
       "681  MX17004  2010     12    tmin  d31   NaN\n",
       "\n",
       "[682 rows x 6 columns]"
      ]
     },
     "execution_count": 99,
     "metadata": {},
     "output_type": "execute_result"
    }
   ],
   "source": [
    "weather_melt"
   ]
  },
  {
   "cell_type": "code",
   "execution_count": 104,
   "id": "04c3a76e-c7c3-4ec7-b4af-3fbd91f3c134",
   "metadata": {},
   "outputs": [],
   "source": [
    "weather_tidy = weather_melt.pivot_table(columns='element',\n",
    "                                values='temp',\n",
    "                                index=['id', 'year', 'month', 'day'])  # 피봇: 값들이 합쳐짐 / 여러 건이면 평균으로 들어감/ 그대로 유지할 거 인덱스에"
   ]
  },
  {
   "cell_type": "code",
   "execution_count": 105,
   "id": "3c8b28e6-6d5d-4a2a-b50b-1d430389859c",
   "metadata": {},
   "outputs": [
    {
     "data": {
      "text/plain": [
       "MultiIndex([('MX17004', 2010,  1, 'd30'),\n",
       "            ('MX17004', 2010,  2, 'd11'),\n",
       "            ('MX17004', 2010,  2,  'd2'),\n",
       "            ('MX17004', 2010,  2, 'd23'),\n",
       "            ('MX17004', 2010,  2,  'd3'),\n",
       "            ('MX17004', 2010,  3, 'd10'),\n",
       "            ('MX17004', 2010,  3, 'd16'),\n",
       "            ('MX17004', 2010,  3,  'd5'),\n",
       "            ('MX17004', 2010,  4, 'd27'),\n",
       "            ('MX17004', 2010,  5, 'd27'),\n",
       "            ('MX17004', 2010,  6, 'd17'),\n",
       "            ('MX17004', 2010,  6, 'd29'),\n",
       "            ('MX17004', 2010,  7,  'd3'),\n",
       "            ('MX17004', 2010,  7, 'd14'),\n",
       "            ('MX17004', 2010,  8, 'd23'),\n",
       "            ('MX17004', 2010,  8,  'd5'),\n",
       "            ('MX17004', 2010,  8, 'd29'),\n",
       "            ('MX17004', 2010,  8, 'd13'),\n",
       "            ('MX17004', 2010,  8, 'd25'),\n",
       "            ('MX17004', 2010,  8, 'd31'),\n",
       "            ('MX17004', 2010,  8,  'd8'),\n",
       "            ('MX17004', 2010, 10,  'd5'),\n",
       "            ('MX17004', 2010, 10, 'd14'),\n",
       "            ('MX17004', 2010, 10, 'd15'),\n",
       "            ('MX17004', 2010, 10, 'd28'),\n",
       "            ('MX17004', 2010, 10,  'd7'),\n",
       "            ('MX17004', 2010, 11,  'd2'),\n",
       "            ('MX17004', 2010, 11,  'd5'),\n",
       "            ('MX17004', 2010, 11, 'd27'),\n",
       "            ('MX17004', 2010, 11, 'd26'),\n",
       "            ('MX17004', 2010, 11,  'd4'),\n",
       "            ('MX17004', 2010, 12,  'd1'),\n",
       "            ('MX17004', 2010, 12,  'd6')],\n",
       "           names=['id', 'year', 'month', 'day'])"
      ]
     },
     "execution_count": 105,
     "metadata": {},
     "output_type": "execute_result"
    }
   ],
   "source": [
    "weather_tidy.index #멀티인덱스"
   ]
  },
  {
   "cell_type": "code",
   "execution_count": 107,
   "id": "1539d72a-9163-4c76-ace0-ba32e422f9fe",
   "metadata": {},
   "outputs": [],
   "source": [
    "weather_reset = weather_tidy.reset_index() #인덱스 들어가고 새로 인덱스 부여"
   ]
  },
  {
   "cell_type": "code",
   "execution_count": 108,
   "id": "d3e111fe-831f-4e60-b280-c3558607af56",
   "metadata": {},
   "outputs": [
    {
     "data": {
      "text/plain": [
       "RangeIndex(start=0, stop=33, step=1)"
      ]
     },
     "execution_count": 108,
     "metadata": {},
     "output_type": "execute_result"
    }
   ],
   "source": [
    "weather_reset.index"
   ]
  },
  {
   "cell_type": "code",
   "execution_count": 133,
   "id": "aa4e6ddd-f990-4690-a773-6da66de1e4c7",
   "metadata": {},
   "outputs": [
    {
     "data": {
      "text/html": [
       "<div>\n",
       "<style scoped>\n",
       "    .dataframe tbody tr th:only-of-type {\n",
       "        vertical-align: middle;\n",
       "    }\n",
       "\n",
       "    .dataframe tbody tr th {\n",
       "        vertical-align: top;\n",
       "    }\n",
       "\n",
       "    .dataframe thead th {\n",
       "        text-align: right;\n",
       "    }\n",
       "</style>\n",
       "<table border=\"1\" class=\"dataframe\">\n",
       "  <thead>\n",
       "    <tr style=\"text-align: right;\">\n",
       "      <th></th>\n",
       "      <th>year</th>\n",
       "      <th>artist</th>\n",
       "      <th>track</th>\n",
       "      <th>time</th>\n",
       "      <th>date.entered</th>\n",
       "      <th>wk1</th>\n",
       "      <th>wk2</th>\n",
       "      <th>wk3</th>\n",
       "      <th>wk4</th>\n",
       "      <th>wk5</th>\n",
       "      <th>...</th>\n",
       "      <th>wk67</th>\n",
       "      <th>wk68</th>\n",
       "      <th>wk69</th>\n",
       "      <th>wk70</th>\n",
       "      <th>wk71</th>\n",
       "      <th>wk72</th>\n",
       "      <th>wk73</th>\n",
       "      <th>wk74</th>\n",
       "      <th>wk75</th>\n",
       "      <th>wk76</th>\n",
       "    </tr>\n",
       "  </thead>\n",
       "  <tbody>\n",
       "    <tr>\n",
       "      <th>0</th>\n",
       "      <td>2000</td>\n",
       "      <td>2 Pac</td>\n",
       "      <td>Baby Don't Cry (Keep...</td>\n",
       "      <td>4:22</td>\n",
       "      <td>2000-02-26</td>\n",
       "      <td>87</td>\n",
       "      <td>82.0</td>\n",
       "      <td>72.0</td>\n",
       "      <td>77.0</td>\n",
       "      <td>87.0</td>\n",
       "      <td>...</td>\n",
       "      <td>NaN</td>\n",
       "      <td>NaN</td>\n",
       "      <td>NaN</td>\n",
       "      <td>NaN</td>\n",
       "      <td>NaN</td>\n",
       "      <td>NaN</td>\n",
       "      <td>NaN</td>\n",
       "      <td>NaN</td>\n",
       "      <td>NaN</td>\n",
       "      <td>NaN</td>\n",
       "    </tr>\n",
       "  </tbody>\n",
       "</table>\n",
       "<p>1 rows × 81 columns</p>\n",
       "</div>"
      ],
      "text/plain": [
       "   year artist                    track  time date.entered  wk1   wk2   wk3  \\\n",
       "0  2000  2 Pac  Baby Don't Cry (Keep...  4:22   2000-02-26   87  82.0  72.0   \n",
       "\n",
       "    wk4   wk5  ...  wk67  wk68  wk69  wk70  wk71  wk72  wk73  wk74  wk75  wk76  \n",
       "0  77.0  87.0  ...   NaN   NaN   NaN   NaN   NaN   NaN   NaN   NaN   NaN   NaN  \n",
       "\n",
       "[1 rows x 81 columns]"
      ]
     },
     "execution_count": 133,
     "metadata": {},
     "output_type": "execute_result"
    }
   ],
   "source": [
    "billboard = pd.read_csv('data/billboard.csv')\n",
    "billboard.head(1)"
   ]
  },
  {
   "cell_type": "code",
   "execution_count": 134,
   "id": "a4a2af6c-00a0-40e1-9dd2-3a3def9fb02a",
   "metadata": {},
   "outputs": [
    {
     "data": {
      "text/plain": [
       "Index(['year', 'artist', 'track', 'time', 'date.entered', 'wk1', 'wk2', 'wk3',\n",
       "       'wk4', 'wk5', 'wk6', 'wk7', 'wk8', 'wk9', 'wk10', 'wk11', 'wk12',\n",
       "       'wk13', 'wk14', 'wk15', 'wk16', 'wk17', 'wk18', 'wk19', 'wk20', 'wk21',\n",
       "       'wk22', 'wk23', 'wk24', 'wk25', 'wk26', 'wk27', 'wk28', 'wk29', 'wk30',\n",
       "       'wk31', 'wk32', 'wk33', 'wk34', 'wk35', 'wk36', 'wk37', 'wk38', 'wk39',\n",
       "       'wk40', 'wk41', 'wk42', 'wk43', 'wk44', 'wk45', 'wk46', 'wk47', 'wk48',\n",
       "       'wk49', 'wk50', 'wk51', 'wk52', 'wk53', 'wk54', 'wk55', 'wk56', 'wk57',\n",
       "       'wk58', 'wk59', 'wk60', 'wk61', 'wk62', 'wk63', 'wk64', 'wk65', 'wk66',\n",
       "       'wk67', 'wk68', 'wk69', 'wk70', 'wk71', 'wk72', 'wk73', 'wk74', 'wk75',\n",
       "       'wk76'],\n",
       "      dtype='object')"
      ]
     },
     "execution_count": 134,
     "metadata": {},
     "output_type": "execute_result"
    }
   ],
   "source": [
    "billboard.columns"
   ]
  },
  {
   "cell_type": "code",
   "execution_count": 135,
   "id": "b73a74fa-be09-462f-b9c1-a46f15d5d309",
   "metadata": {},
   "outputs": [],
   "source": [
    "billboard_melt = billboard.melt(id_vars =['year', 'artist', 'track', 'time', 'date.entered'],\n",
    "                                        var_name = 'week',\n",
    "                                        value_name = 'rating')"
   ]
  },
  {
   "cell_type": "code",
   "execution_count": 136,
   "id": "68a97825-ab38-4f57-a8ef-3dda96556a59",
   "metadata": {},
   "outputs": [
    {
     "data": {
      "text/plain": [
       "((317, 81), (24092, 7))"
      ]
     },
     "execution_count": 136,
     "metadata": {},
     "output_type": "execute_result"
    }
   ],
   "source": [
    "billboard.shape,billboard_melt.shape"
   ]
  },
  {
   "cell_type": "code",
   "execution_count": 137,
   "id": "d5633bec-b7c1-4fd5-9e9b-dcee435bf258",
   "metadata": {},
   "outputs": [
    {
     "data": {
      "text/html": [
       "<div>\n",
       "<style scoped>\n",
       "    .dataframe tbody tr th:only-of-type {\n",
       "        vertical-align: middle;\n",
       "    }\n",
       "\n",
       "    .dataframe tbody tr th {\n",
       "        vertical-align: top;\n",
       "    }\n",
       "\n",
       "    .dataframe thead th {\n",
       "        text-align: right;\n",
       "    }\n",
       "</style>\n",
       "<table border=\"1\" class=\"dataframe\">\n",
       "  <thead>\n",
       "    <tr style=\"text-align: right;\">\n",
       "      <th></th>\n",
       "      <th>year</th>\n",
       "      <th>artist</th>\n",
       "      <th>track</th>\n",
       "      <th>time</th>\n",
       "      <th>date.entered</th>\n",
       "      <th>week</th>\n",
       "      <th>rating</th>\n",
       "    </tr>\n",
       "  </thead>\n",
       "  <tbody>\n",
       "    <tr>\n",
       "      <th>2124</th>\n",
       "      <td>2000</td>\n",
       "      <td>Nelly</td>\n",
       "      <td>(Hot S**t) Country G...</td>\n",
       "      <td>4:17</td>\n",
       "      <td>2000-04-29</td>\n",
       "      <td>wk7</td>\n",
       "      <td>24.0</td>\n",
       "    </tr>\n",
       "    <tr>\n",
       "      <th>10366</th>\n",
       "      <td>2000</td>\n",
       "      <td>Nelly</td>\n",
       "      <td>(Hot S**t) Country G...</td>\n",
       "      <td>4:17</td>\n",
       "      <td>2000-04-29</td>\n",
       "      <td>wk33</td>\n",
       "      <td>36.0</td>\n",
       "    </tr>\n",
       "    <tr>\n",
       "      <th>23363</th>\n",
       "      <td>2000</td>\n",
       "      <td>Nelly</td>\n",
       "      <td>(Hot S**t) Country G...</td>\n",
       "      <td>4:17</td>\n",
       "      <td>2000-04-29</td>\n",
       "      <td>wk74</td>\n",
       "      <td>NaN</td>\n",
       "    </tr>\n",
       "    <tr>\n",
       "      <th>19242</th>\n",
       "      <td>2000</td>\n",
       "      <td>Nelly</td>\n",
       "      <td>(Hot S**t) Country G...</td>\n",
       "      <td>4:17</td>\n",
       "      <td>2000-04-29</td>\n",
       "      <td>wk61</td>\n",
       "      <td>NaN</td>\n",
       "    </tr>\n",
       "    <tr>\n",
       "      <th>7196</th>\n",
       "      <td>2000</td>\n",
       "      <td>Nelly</td>\n",
       "      <td>(Hot S**t) Country G...</td>\n",
       "      <td>4:17</td>\n",
       "      <td>2000-04-29</td>\n",
       "      <td>wk23</td>\n",
       "      <td>8.0</td>\n",
       "    </tr>\n",
       "  </tbody>\n",
       "</table>\n",
       "</div>"
      ],
      "text/plain": [
       "       year artist                    track  time date.entered  week  rating\n",
       "2124   2000  Nelly  (Hot S**t) Country G...  4:17   2000-04-29   wk7    24.0\n",
       "10366  2000  Nelly  (Hot S**t) Country G...  4:17   2000-04-29  wk33    36.0\n",
       "23363  2000  Nelly  (Hot S**t) Country G...  4:17   2000-04-29  wk74     NaN\n",
       "19242  2000  Nelly  (Hot S**t) Country G...  4:17   2000-04-29  wk61     NaN\n",
       "7196   2000  Nelly  (Hot S**t) Country G...  4:17   2000-04-29  wk23     8.0"
      ]
     },
     "execution_count": 137,
     "metadata": {},
     "output_type": "execute_result"
    }
   ],
   "source": [
    "billboard_melt.sort_values(by='track').head() #다 똑같은 이유는 노래 하나 당 76주치라  76번 반복되어서 -> 노래에 대한 정보를 테이블로 각각 분리해야 함"
   ]
  },
  {
   "cell_type": "code",
   "execution_count": 138,
   "id": "dccc9b19-e11e-44a0-a2b1-d0a0cc745a70",
   "metadata": {},
   "outputs": [],
   "source": [
    "billboard_songs = billboard_melt[['year', 'artist', 'track', 'time']]"
   ]
  },
  {
   "cell_type": "code",
   "execution_count": 139,
   "id": "de2ef2d2-7c24-46be-94e8-1dfcee9f1beb",
   "metadata": {},
   "outputs": [
    {
     "name": "stderr",
     "output_type": "stream",
     "text": [
      "C:\\Users\\admin\\AppData\\Local\\Temp\\ipykernel_11668\\310131651.py:1: SettingWithCopyWarning: \n",
      "A value is trying to be set on a copy of a slice from a DataFrame\n",
      "\n",
      "See the caveats in the documentation: https://pandas.pydata.org/pandas-docs/stable/user_guide/indexing.html#returning-a-view-versus-a-copy\n",
      "  billboard_songs.drop_duplicates(inplace=True) # 별 말 없으면 전체, inplace: 결과값 리턴\n"
     ]
    }
   ],
   "source": [
    "billboard_songs.drop_duplicates(inplace=True) # 별 말 없으면 전체, inplace: 결과값 리턴"
   ]
  },
  {
   "cell_type": "code",
   "execution_count": 121,
   "id": "cab7f82f-1c71-4700-8d9e-2da6f6274a99",
   "metadata": {},
   "outputs": [
    {
     "data": {
      "text/plain": [
       "(317, 4)"
      ]
     },
     "execution_count": 121,
     "metadata": {},
     "output_type": "execute_result"
    }
   ],
   "source": [
    "billboard_songs.shape"
   ]
  },
  {
   "cell_type": "code",
   "execution_count": 126,
   "id": "5ba73544-1452-4cd6-8857-503150aea002",
   "metadata": {},
   "outputs": [
    {
     "name": "stderr",
     "output_type": "stream",
     "text": [
      "C:\\Users\\admin\\AppData\\Local\\Temp\\ipykernel_11668\\3785364861.py:1: SettingWithCopyWarning: \n",
      "A value is trying to be set on a copy of a slice from a DataFrame.\n",
      "Try using .loc[row_indexer,col_indexer] = value instead\n",
      "\n",
      "See the caveats in the documentation: https://pandas.pydata.org/pandas-docs/stable/user_guide/indexing.html#returning-a-view-versus-a-copy\n",
      "  billboard_songs['id'] = range(len(billboard_songs))\n"
     ]
    }
   ],
   "source": [
    "billboard_songs['id'] = range(len(billboard_songs))"
   ]
  },
  {
   "cell_type": "code",
   "execution_count": 129,
   "id": "ac8c0881-b4ba-4a8d-b532-e3308ad03144",
   "metadata": {},
   "outputs": [],
   "source": [
    "billboard_ratings = billboard_melt.merge(billboard_songs,\n",
    "                     on=['year', 'artist', 'track', 'time'])"
   ]
  },
  {
   "cell_type": "code",
   "execution_count": 130,
   "id": "beedd707-e470-4bdd-a88c-78df8f96d0de",
   "metadata": {},
   "outputs": [],
   "source": [
    "billboard_ratings.drop(columns=['year', 'artist', 'track', 'time'],\n",
    "                      inplace = True)"
   ]
  },
  {
   "cell_type": "code",
   "execution_count": 131,
   "id": "72be57b8-6463-47c6-baca-6e1f5d02d629",
   "metadata": {},
   "outputs": [
    {
     "data": {
      "text/html": [
       "<div>\n",
       "<style scoped>\n",
       "    .dataframe tbody tr th:only-of-type {\n",
       "        vertical-align: middle;\n",
       "    }\n",
       "\n",
       "    .dataframe tbody tr th {\n",
       "        vertical-align: top;\n",
       "    }\n",
       "\n",
       "    .dataframe thead th {\n",
       "        text-align: right;\n",
       "    }\n",
       "</style>\n",
       "<table border=\"1\" class=\"dataframe\">\n",
       "  <thead>\n",
       "    <tr style=\"text-align: right;\">\n",
       "      <th></th>\n",
       "      <th>year</th>\n",
       "      <th>artist</th>\n",
       "      <th>track</th>\n",
       "      <th>time</th>\n",
       "      <th>id</th>\n",
       "    </tr>\n",
       "  </thead>\n",
       "  <tbody>\n",
       "    <tr>\n",
       "      <th>0</th>\n",
       "      <td>2000</td>\n",
       "      <td>2 Pac</td>\n",
       "      <td>Baby Don't Cry (Keep...</td>\n",
       "      <td>4:22</td>\n",
       "      <td>0</td>\n",
       "    </tr>\n",
       "    <tr>\n",
       "      <th>1</th>\n",
       "      <td>2000</td>\n",
       "      <td>2Ge+her</td>\n",
       "      <td>The Hardest Part Of ...</td>\n",
       "      <td>3:15</td>\n",
       "      <td>1</td>\n",
       "    </tr>\n",
       "  </tbody>\n",
       "</table>\n",
       "</div>"
      ],
      "text/plain": [
       "   year   artist                    track  time  id\n",
       "0  2000    2 Pac  Baby Don't Cry (Keep...  4:22   0\n",
       "1  2000  2Ge+her  The Hardest Part Of ...  3:15   1"
      ]
     },
     "execution_count": 131,
     "metadata": {},
     "output_type": "execute_result"
    }
   ],
   "source": [
    "billboard_songs.head(2)"
   ]
  },
  {
   "cell_type": "code",
   "execution_count": 132,
   "id": "590b56c1-e7e3-4d82-b3e3-904315c38ab7",
   "metadata": {},
   "outputs": [
    {
     "data": {
      "text/html": [
       "<div>\n",
       "<style scoped>\n",
       "    .dataframe tbody tr th:only-of-type {\n",
       "        vertical-align: middle;\n",
       "    }\n",
       "\n",
       "    .dataframe tbody tr th {\n",
       "        vertical-align: top;\n",
       "    }\n",
       "\n",
       "    .dataframe thead th {\n",
       "        text-align: right;\n",
       "    }\n",
       "</style>\n",
       "<table border=\"1\" class=\"dataframe\">\n",
       "  <thead>\n",
       "    <tr style=\"text-align: right;\">\n",
       "      <th></th>\n",
       "      <th>date.entered</th>\n",
       "      <th>week</th>\n",
       "      <th>rating</th>\n",
       "      <th>id</th>\n",
       "    </tr>\n",
       "  </thead>\n",
       "  <tbody>\n",
       "    <tr>\n",
       "      <th>0</th>\n",
       "      <td>2000-02-26</td>\n",
       "      <td>wk1</td>\n",
       "      <td>87.0</td>\n",
       "      <td>0</td>\n",
       "    </tr>\n",
       "    <tr>\n",
       "      <th>1</th>\n",
       "      <td>2000-02-26</td>\n",
       "      <td>wk2</td>\n",
       "      <td>82.0</td>\n",
       "      <td>0</td>\n",
       "    </tr>\n",
       "  </tbody>\n",
       "</table>\n",
       "</div>"
      ],
      "text/plain": [
       "  date.entered week  rating  id\n",
       "0   2000-02-26  wk1    87.0   0\n",
       "1   2000-02-26  wk2    82.0   0"
      ]
     },
     "execution_count": 132,
     "metadata": {},
     "output_type": "execute_result"
    }
   ],
   "source": [
    "billboard_ratings.head(2)"
   ]
  },
  {
   "cell_type": "code",
   "execution_count": null,
   "id": "ef81d2a9-a914-40f9-9345-a354960afd05",
   "metadata": {},
   "outputs": [],
   "source": []
  }
 ],
 "metadata": {
  "kernelspec": {
   "display_name": "Python 3 (ipykernel)",
   "language": "python",
   "name": "python3"
  },
  "language_info": {
   "codemirror_mode": {
    "name": "ipython",
    "version": 3
   },
   "file_extension": ".py",
   "mimetype": "text/x-python",
   "name": "python",
   "nbconvert_exporter": "python",
   "pygments_lexer": "ipython3",
   "version": "3.9.13"
  }
 },
 "nbformat": 4,
 "nbformat_minor": 5
}
