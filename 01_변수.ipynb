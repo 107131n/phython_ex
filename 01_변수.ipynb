{
 "cells": [
  {
   "cell_type": "code",
   "execution_count": 8,
   "id": "2a5999a4-2e83-4dac-83ab-3d380d8af628",
   "metadata": {
    "tags": []
   },
   "outputs": [],
   "source": [
    "#변수선언"
   ]
  },
  {
   "cell_type": "code",
   "execution_count": 9,
   "id": "daac49ee-7064-4562-b6fb-e7ccaea9f2c5",
   "metadata": {},
   "outputs": [],
   "source": [
    "processor = \"CHOI\""
   ]
  },
  {
   "cell_type": "code",
   "execution_count": 30,
   "id": "5bf12a54-dd98-4232-ad62-44600cec3f21",
   "metadata": {},
   "outputs": [
    {
     "data": {
      "text/plain": [
       "'CHOI'"
      ]
     },
     "execution_count": 30,
     "metadata": {},
     "output_type": "execute_result"
    }
   ],
   "source": [
    "processor"
   ]
  },
  {
   "cell_type": "code",
   "execution_count": 9,
   "id": "513759f4-4bfc-46b6-9a2b-624c4048db54",
   "metadata": {},
   "outputs": [
    {
     "data": {
      "text/plain": [
       "7"
      ]
     },
     "execution_count": 9,
     "metadata": {},
     "output_type": "execute_result"
    }
   ],
   "source": [
    "a = 7\n",
    "a"
   ]
  },
  {
   "cell_type": "code",
   "execution_count": 32,
   "id": "95d8270e-f110-4eec-95a4-3718381ad34d",
   "metadata": {},
   "outputs": [
    {
     "data": {
      "text/plain": [
       "7"
      ]
     },
     "execution_count": 32,
     "metadata": {},
     "output_type": "execute_result"
    }
   ],
   "source": [
    "b = 7\n",
    "a\n",
    "b"
   ]
  },
  {
   "cell_type": "code",
   "execution_count": 31,
   "id": "5e7f0c7d-7956-4fca-a13d-3bda940b83e3",
   "metadata": {},
   "outputs": [
    {
     "name": "stdout",
     "output_type": "stream",
     "text": [
      "CHOI\n"
     ]
    }
   ],
   "source": [
    "print(processor)"
   ]
  },
  {
   "cell_type": "code",
   "execution_count": 13,
   "id": "bfa3be0a-29b9-47cc-ac4a-a1bd24e5144e",
   "metadata": {},
   "outputs": [
    {
     "data": {
      "text/plain": [
       "1"
      ]
     },
     "execution_count": 13,
     "metadata": {},
     "output_type": "execute_result"
    }
   ],
   "source": [
    "A = 1\n",
    "A"
   ]
  },
  {
   "cell_type": "markdown",
   "id": "52b4e7a9-389b-43a5-b4a1-e31cb4a8f387",
   "metadata": {},
   "source": [
    "type(a)"
   ]
  },
  {
   "cell_type": "code",
   "execution_count": 18,
   "id": "1eda3082-b9ec-47ad-9c39-58f6fba12354",
   "metadata": {},
   "outputs": [
    {
     "data": {
      "text/plain": [
       "1.1"
      ]
     },
     "execution_count": 18,
     "metadata": {},
     "output_type": "execute_result"
    }
   ],
   "source": [
    "a=1.1\n",
    "a"
   ]
  },
  {
   "cell_type": "code",
   "execution_count": 19,
   "id": "ba8d3f5d-8fea-411a-ad07-3d81c72483ab",
   "metadata": {},
   "outputs": [
    {
     "data": {
      "text/plain": [
       "float"
      ]
     },
     "execution_count": 19,
     "metadata": {},
     "output_type": "execute_result"
    }
   ],
   "source": [
    "type(a)"
   ]
  },
  {
   "cell_type": "code",
   "execution_count": 5,
   "id": "77ff0a27-9548-4c6e-a646-a965beef5baa",
   "metadata": {},
   "outputs": [
    {
     "data": {
      "text/plain": [
       "'한\\n글'"
      ]
     },
     "execution_count": 5,
     "metadata": {},
     "output_type": "execute_result"
    }
   ],
   "source": [
    "a = '''한\n",
    "글'''\n",
    "a"
   ]
  },
  {
   "cell_type": "code",
   "execution_count": 24,
   "id": "ad87a3a3-5dc6-4cb7-89cc-bde7ade03c4a",
   "metadata": {},
   "outputs": [
    {
     "data": {
      "text/plain": [
       "str"
      ]
     },
     "execution_count": 24,
     "metadata": {},
     "output_type": "execute_result"
    }
   ],
   "source": [
    "type(a)"
   ]
  },
  {
   "cell_type": "code",
   "execution_count": 36,
   "id": "93e37db7-39f5-4985-b31f-3e5aa1411bd3",
   "metadata": {},
   "outputs": [
    {
     "data": {
      "text/plain": [
       "True"
      ]
     },
     "execution_count": 36,
     "metadata": {},
     "output_type": "execute_result"
    }
   ],
   "source": [
    "a = True\n",
    "a"
   ]
  },
  {
   "cell_type": "code",
   "execution_count": 38,
   "id": "201cf95e-5e62-4e4f-b36f-f9bfbbcd22b1",
   "metadata": {},
   "outputs": [
    {
     "data": {
      "text/plain": [
       "bool"
      ]
     },
     "execution_count": 38,
     "metadata": {},
     "output_type": "execute_result"
    }
   ],
   "source": [
    "type(a)"
   ]
  },
  {
   "cell_type": "code",
   "execution_count": 44,
   "id": "891cbb24-0e7a-4a07-a9de-8ac1adf30774",
   "metadata": {},
   "outputs": [
    {
     "data": {
      "text/plain": [
       "8"
      ]
     },
     "execution_count": 44,
     "metadata": {},
     "output_type": "execute_result"
    }
   ],
   "source": [
    "_up7 = 8\n",
    "_up7"
   ]
  },
  {
   "cell_type": "code",
   "execution_count": 45,
   "id": "97e9961c-e56a-4a28-803a-77e7a18a1f06",
   "metadata": {},
   "outputs": [
    {
     "data": {
      "text/plain": [
       "'ㅁㅁㅁ'"
      ]
     },
     "execution_count": 45,
     "metadata": {},
     "output_type": "execute_result"
    }
   ],
   "source": [
    "한글 = 'ㅁㅁㅁ'\n",
    "한글"
   ]
  },
  {
   "cell_type": "code",
   "execution_count": 47,
   "id": "b12c5772-9e28-459b-a10f-98182adb015f",
   "metadata": {},
   "outputs": [
    {
     "data": {
      "text/plain": [
       "(7, 9)"
      ]
     },
     "execution_count": 47,
     "metadata": {},
     "output_type": "execute_result"
    }
   ],
   "source": [
    "AAA = 7\n",
    "aaa = 9\n",
    "AAA,aaa"
   ]
  },
  {
   "cell_type": "code",
   "execution_count": 49,
   "id": "cb2a2326-00bd-4e43-95d6-7b0941772e87",
   "metadata": {},
   "outputs": [
    {
     "data": {
      "text/plain": [
       "\" kim's hh'\""
      ]
     },
     "execution_count": 49,
     "metadata": {},
     "output_type": "execute_result"
    }
   ],
   "source": [
    "text = \" kim's hh'\"\n",
    "text"
   ]
  },
  {
   "cell_type": "code",
   "execution_count": 55,
   "id": "83b2994f-269d-49ff-8f7a-fda781320e58",
   "metadata": {},
   "outputs": [
    {
     "name": "stdout",
     "output_type": "stream",
     "text": [
      "True,7, kim's hh' 줄바꿈\n"
     ]
    }
   ],
   "source": [
    "print(a,b,text,sep = ',', end = ' ')\n",
    "print('줄바꿈')"
   ]
  },
  {
   "cell_type": "code",
   "execution_count": 59,
   "id": "27f809f1-6cc4-4fbf-89b4-9322aec05478",
   "metadata": {},
   "outputs": [
    {
     "name": "stdin",
     "output_type": "stream",
     "text": [
      "숫자를 입력하세요 >>>  7\n"
     ]
    }
   ],
   "source": [
    "a = input('숫자를 입력하세요 >>> ')"
   ]
  },
  {
   "cell_type": "code",
   "execution_count": 62,
   "id": "35b63d4f-f7f8-46eb-991d-df49a5d63515",
   "metadata": {},
   "outputs": [
    {
     "data": {
      "text/plain": [
       "'7'"
      ]
     },
     "execution_count": 62,
     "metadata": {},
     "output_type": "execute_result"
    }
   ],
   "source": [
    "a"
   ]
  },
  {
   "cell_type": "code",
   "execution_count": 63,
   "id": "dd658f89-4f01-467f-b308-15816676e0f4",
   "metadata": {},
   "outputs": [
    {
     "data": {
      "text/plain": [
       "7"
      ]
     },
     "execution_count": 63,
     "metadata": {},
     "output_type": "execute_result"
    }
   ],
   "source": [
    "a = int(a)\n",
    "a"
   ]
  },
  {
   "cell_type": "code",
   "execution_count": 64,
   "id": "47c05c16-5298-4dae-ab71-80d001ac8beb",
   "metadata": {},
   "outputs": [
    {
     "data": {
      "text/plain": [
       "int"
      ]
     },
     "execution_count": 64,
     "metadata": {},
     "output_type": "execute_result"
    }
   ],
   "source": [
    "type(a)"
   ]
  },
  {
   "cell_type": "code",
   "execution_count": 65,
   "id": "99b4385d-6c99-4b9f-b636-df41ed1bad15",
   "metadata": {},
   "outputs": [
    {
     "data": {
      "text/plain": [
       "7.0"
      ]
     },
     "execution_count": 65,
     "metadata": {},
     "output_type": "execute_result"
    }
   ],
   "source": [
    "a = float(a)\n",
    "a"
   ]
  },
  {
   "cell_type": "code",
   "execution_count": 66,
   "id": "73a3776f-26d2-41fd-9cf1-67fb85b15dff",
   "metadata": {},
   "outputs": [
    {
     "data": {
      "text/plain": [
       "float"
      ]
     },
     "execution_count": 66,
     "metadata": {},
     "output_type": "execute_result"
    }
   ],
   "source": [
    "type(a)"
   ]
  },
  {
   "cell_type": "code",
   "execution_count": 68,
   "id": "1ae815f1-02fe-4c25-9a51-12b53c1e4cd3",
   "metadata": {},
   "outputs": [],
   "source": [
    "# 과일을 상자에 담으려고 한다.\n",
    "# 한 상자에 들어가는 과일의 개수와 총 과일의 수를 입력 받아서\n",
    "# 몇 박스 몇 개가 나오는 지 출력하시오"
   ]
  },
  {
   "cell_type": "code",
   "execution_count": 5,
   "id": "08b3f37a-d4d4-4638-93cf-e247416425d3",
   "metadata": {},
   "outputs": [
    {
     "name": "stdin",
     "output_type": "stream",
     "text": [
      "box에 들어가는 과일의 개수 >>>  6\n",
      "총 과일의 개수 >>>  45\n"
     ]
    },
    {
     "name": "stdout",
     "output_type": "stream",
     "text": [
      "7 박스 3 개\n"
     ]
    }
   ],
   "source": [
    "box = int(input('box에 들어가는 과일의 개수 >>> '))\n",
    "total = int(input('총 과일의 개수 >>> '))\n",
    "print(total//box, '박스', total%box, '개')\n"
   ]
  },
  {
   "cell_type": "code",
   "execution_count": 75,
   "id": "7d86fa13-2c42-4b01-860e-c1b319f63d24",
   "metadata": {},
   "outputs": [
    {
     "name": "stdin",
     "output_type": "stream",
     "text": [
      "box에 들어가는 과일의 수 >>>  6\n",
      "총 개수 >>>  45\n"
     ]
    },
    {
     "name": "stdout",
     "output_type": "stream",
     "text": [
      "7 박스 3 개\n"
     ]
    }
   ],
   "source": [
    "box = int(input('box에 들어가는 과일의 수 >>> '))\n",
    "total = int(input('총 개수 >>> '))\n",
    "print(total//box, '박스', total%box, '개')"
   ]
  },
  {
   "cell_type": "code",
   "execution_count": 77,
   "id": "0bf4d38e-5a80-4c29-acd8-a0b3ef249856",
   "metadata": {},
   "outputs": [],
   "source": [
    "colors = ['red', 'blue', 'green', 1, 1.2, [1, 2, 3]]"
   ]
  },
  {
   "cell_type": "code",
   "execution_count": 79,
   "id": "e3f8043b-6fc1-47b0-b775-934a20c4819d",
   "metadata": {},
   "outputs": [
    {
     "data": {
      "text/plain": [
       "list"
      ]
     },
     "execution_count": 79,
     "metadata": {},
     "output_type": "execute_result"
    }
   ],
   "source": [
    "type(colors)"
   ]
  },
  {
   "cell_type": "code",
   "execution_count": 80,
   "id": "7a8fb1e9-2354-49f7-92ea-712df93ce831",
   "metadata": {},
   "outputs": [
    {
     "data": {
      "text/plain": [
       "'green'"
      ]
     },
     "execution_count": 80,
     "metadata": {},
     "output_type": "execute_result"
    }
   ],
   "source": [
    "colors[2]"
   ]
  },
  {
   "cell_type": "code",
   "execution_count": 82,
   "id": "c68e9393-bc20-4f59-9b44-f2e872058962",
   "metadata": {},
   "outputs": [
    {
     "data": {
      "text/plain": [
       "str"
      ]
     },
     "execution_count": 82,
     "metadata": {},
     "output_type": "execute_result"
    }
   ],
   "source": [
    "type(colors[2])"
   ]
  },
  {
   "cell_type": "code",
   "execution_count": 85,
   "id": "44c441ec-de1b-4183-b701-4cdfa0ff4c9a",
   "metadata": {},
   "outputs": [
    {
     "data": {
      "text/plain": [
       "2"
      ]
     },
     "execution_count": 85,
     "metadata": {},
     "output_type": "execute_result"
    }
   ],
   "source": [
    "colors[5][1]"
   ]
  },
  {
   "cell_type": "code",
   "execution_count": 88,
   "id": "207e1a85-8c7c-43b7-927d-6f18e03c9c91",
   "metadata": {},
   "outputs": [
    {
     "data": {
      "text/plain": [
       "['blue', 'green']"
      ]
     },
     "execution_count": 88,
     "metadata": {},
     "output_type": "execute_result"
    }
   ],
   "source": [
    "colors[1:3]"
   ]
  },
  {
   "cell_type": "code",
   "execution_count": 90,
   "id": "7312af94-0fd4-4370-a592-3810408bf586",
   "metadata": {},
   "outputs": [],
   "source": [
    "colors = ['red', 'blue', 'green', 1, 1.2, [1, 2, 3]]\n",
    "cities=['서울', '부산', '광주']"
   ]
  },
  {
   "cell_type": "code",
   "execution_count": 91,
   "id": "8d96189f-e641-49eb-a4ab-2727a0919785",
   "metadata": {},
   "outputs": [
    {
     "data": {
      "text/plain": [
       "['red', 'blue', 'green', 1, 1.2, [1, 2, 3], '서울', '부산', '광주']"
      ]
     },
     "execution_count": 91,
     "metadata": {},
     "output_type": "execute_result"
    }
   ],
   "source": [
    "colors + cities"
   ]
  },
  {
   "cell_type": "code",
   "execution_count": 92,
   "id": "9d136e8e-12e8-41c3-9ef4-0c594a62f96c",
   "metadata": {},
   "outputs": [
    {
     "ename": "TypeError",
     "evalue": "unsupported operand type(s) for -: 'list' and 'list'",
     "output_type": "error",
     "traceback": [
      "\u001b[1;31m---------------------------------------------------------------------------\u001b[0m",
      "\u001b[1;31mTypeError\u001b[0m                                 Traceback (most recent call last)",
      "\u001b[1;32m~\\AppData\\Local\\Temp\\ipykernel_23384\\3115427296.py\u001b[0m in \u001b[0;36m<module>\u001b[1;34m\u001b[0m\n\u001b[1;32m----> 1\u001b[1;33m \u001b[0mcolors\u001b[0m \u001b[1;33m-\u001b[0m \u001b[0mcities\u001b[0m\u001b[1;33m\u001b[0m\u001b[1;33m\u001b[0m\u001b[0m\n\u001b[0m",
      "\u001b[1;31mTypeError\u001b[0m: unsupported operand type(s) for -: 'list' and 'list'"
     ]
    }
   ],
   "source": [
    "colors - cities"
   ]
  },
  {
   "cell_type": "code",
   "execution_count": 96,
   "id": "ba9bc971-3ce6-46d8-bbfc-99922d024735",
   "metadata": {},
   "outputs": [
    {
     "data": {
      "text/plain": [
       "['red',\n",
       " 'blue',\n",
       " 'green',\n",
       " 1,\n",
       " 1.2,\n",
       " [1, 2, 3],\n",
       " 'red',\n",
       " 'blue',\n",
       " 'green',\n",
       " 1,\n",
       " 1.2,\n",
       " [1, 2, 3],\n",
       " 'red',\n",
       " 'blue',\n",
       " 'green',\n",
       " 1,\n",
       " 1.2,\n",
       " [1, 2, 3]]"
      ]
     },
     "execution_count": 96,
     "metadata": {},
     "output_type": "execute_result"
    }
   ],
   "source": [
    "colors * 3"
   ]
  },
  {
   "cell_type": "code",
   "execution_count": 98,
   "id": "5e245316-e1b0-46bf-aa70-c2a6b74e87f3",
   "metadata": {},
   "outputs": [
    {
     "ename": "TypeError",
     "evalue": "can only concatenate str (not \"int\") to str",
     "output_type": "error",
     "traceback": [
      "\u001b[1;31m---------------------------------------------------------------------------\u001b[0m",
      "\u001b[1;31mTypeError\u001b[0m                                 Traceback (most recent call last)",
      "\u001b[1;32m~\\AppData\\Local\\Temp\\ipykernel_23384\\1258136175.py\u001b[0m in \u001b[0;36m<module>\u001b[1;34m\u001b[0m\n\u001b[1;32m----> 1\u001b[1;33m \u001b[1;34m'1'\u001b[0m \u001b[1;33m+\u001b[0m \u001b[1;36m1\u001b[0m\u001b[1;33m\u001b[0m\u001b[1;33m\u001b[0m\u001b[0m\n\u001b[0m",
      "\u001b[1;31mTypeError\u001b[0m: can only concatenate str (not \"int\") to str"
     ]
    }
   ],
   "source": [
    "'1' + 1"
   ]
  },
  {
   "cell_type": "code",
   "execution_count": 100,
   "id": "9738520a-4e61-4ce6-bbb1-de7eff38d4e7",
   "metadata": {},
   "outputs": [
    {
     "data": {
      "text/plain": [
       "7.2"
      ]
     },
     "execution_count": 100,
     "metadata": {},
     "output_type": "execute_result"
    }
   ],
   "source": [
    "2.2 + 5"
   ]
  },
  {
   "cell_type": "code",
   "execution_count": 104,
   "id": "beda8a39-18df-457a-851a-991c58b12873",
   "metadata": {},
   "outputs": [
    {
     "data": {
      "text/plain": [
       "True"
      ]
     },
     "execution_count": 104,
     "metadata": {},
     "output_type": "execute_result"
    }
   ],
   "source": [
    "'blue' in colors"
   ]
  },
  {
   "cell_type": "code",
   "execution_count": 4,
   "id": "3258b1d7-968f-4bc7-b2d9-e654715ab72c",
   "metadata": {},
   "outputs": [
    {
     "name": "stdin",
     "output_type": "stream",
     "text": [
      "box에 들어가는 과일의 개수 >>>  6\n",
      "총 과일의 개수 >>>  45\n"
     ]
    },
    {
     "name": "stdout",
     "output_type": "stream",
     "text": [
      "7 박스 3 개\n"
     ]
    }
   ],
   "source": [
    "box = int(input('box에 들어가는 과일의 개수 >>> '))\n",
    "total = int(input('총 과일의 개수 >>> '))\n",
    "print(total//box,'박스', total%box,'개')"
   ]
  },
  {
   "cell_type": "code",
   "execution_count": null,
   "id": "6c63c8fa-360a-4d70-bea5-d0ec1ffe75ec",
   "metadata": {},
   "outputs": [],
   "source": []
  },
  {
   "cell_type": "code",
   "execution_count": null,
   "id": "7a96a984-aefe-472f-bc55-82908b37e979",
   "metadata": {},
   "outputs": [],
   "source": []
  },
  {
   "cell_type": "code",
   "execution_count": null,
   "id": "77dd17d9-3425-4137-a38c-27586437f8b6",
   "metadata": {},
   "outputs": [],
   "source": []
  },
  {
   "cell_type": "code",
   "execution_count": null,
   "id": "e7b58c9d-2692-4dd9-b215-1fee937aa785",
   "metadata": {},
   "outputs": [],
   "source": []
  },
  {
   "cell_type": "code",
   "execution_count": null,
   "id": "4f0b4d12-3cf6-4214-80d0-f9af05347919",
   "metadata": {},
   "outputs": [],
   "source": []
  },
  {
   "cell_type": "code",
   "execution_count": null,
   "id": "d6a17060-7fe2-4bc4-91ed-fa39205ee562",
   "metadata": {},
   "outputs": [],
   "source": []
  },
  {
   "cell_type": "code",
   "execution_count": null,
   "id": "94ff820c-9976-4897-bfe9-ab5b66efc51e",
   "metadata": {},
   "outputs": [],
   "source": []
  },
  {
   "cell_type": "code",
   "execution_count": null,
   "id": "a753e5b5-d0be-4778-b16a-0abc28131880",
   "metadata": {},
   "outputs": [],
   "source": []
  }
 ],
 "metadata": {
  "kernelspec": {
   "display_name": "Python 3 (ipykernel)",
   "language": "python",
   "name": "python3"
  },
  "language_info": {
   "codemirror_mode": {
    "name": "ipython",
    "version": 3
   },
   "file_extension": ".py",
   "mimetype": "text/x-python",
   "name": "python",
   "nbconvert_exporter": "python",
   "pygments_lexer": "ipython3",
   "version": "3.9.13"
  }
 },
 "nbformat": 4,
 "nbformat_minor": 5
}
